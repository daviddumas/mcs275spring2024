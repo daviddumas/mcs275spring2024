{
 "cells": [
  {
   "cell_type": "markdown",
   "id": "33f94c77",
   "metadata": {},
   "source": [
    "# Filled Julia sets of quadratic polynomials\n",
    "\n",
    "A polished version of the notebook I started in Lecture 23."
   ]
  },
  {
   "cell_type": "code",
   "execution_count": 1,
   "id": "f019ac36",
   "metadata": {},
   "outputs": [],
   "source": [
    "import numpy as np  # for numeric arrays\n",
    "import PIL.Image    # for image creating/saving\n",
    "import time"
   ]
  },
  {
   "cell_type": "markdown",
   "id": "9c7eae98",
   "metadata": {},
   "source": [
    "## Reminders about complex numbers in python"
   ]
  },
  {
   "cell_type": "code",
   "execution_count": 2,
   "id": "94863ba2",
   "metadata": {},
   "outputs": [
    {
     "data": {
      "text/plain": [
       "1j"
      ]
     },
     "execution_count": 2,
     "metadata": {},
     "output_type": "execute_result"
    }
   ],
   "source": [
    "# In mathematics the square root of -1 is called i\n",
    "1j"
   ]
  },
  {
   "cell_type": "code",
   "execution_count": 3,
   "id": "f2ca164a",
   "metadata": {},
   "outputs": [
    {
     "data": {
      "text/plain": [
       "(-1+0j)"
      ]
     },
     "execution_count": 3,
     "metadata": {},
     "output_type": "execute_result"
    }
   ],
   "source": [
    "1j*1j"
   ]
  },
  {
   "cell_type": "code",
   "execution_count": 4,
   "id": "fee71ad9",
   "metadata": {},
   "outputs": [],
   "source": [
    "z = 4-5j"
   ]
  },
  {
   "cell_type": "code",
   "execution_count": 5,
   "id": "77914495",
   "metadata": {
    "scrolled": true
   },
   "outputs": [
    {
     "data": {
      "text/plain": [
       "complex"
      ]
     },
     "execution_count": 5,
     "metadata": {},
     "output_type": "execute_result"
    }
   ],
   "source": [
    "type(z)"
   ]
  },
  {
   "cell_type": "code",
   "execution_count": 6,
   "id": "d526d38d",
   "metadata": {},
   "outputs": [
    {
     "data": {
      "text/plain": [
       "6.4031242374328485"
      ]
     },
     "execution_count": 6,
     "metadata": {},
     "output_type": "execute_result"
    }
   ],
   "source": [
    "abs(z)"
   ]
  },
  {
   "cell_type": "markdown",
   "id": "d443af98",
   "metadata": {},
   "source": [
    "## A few quadratic polynomials"
   ]
  },
  {
   "cell_type": "code",
   "execution_count": 9,
   "id": "54f8cb8b",
   "metadata": {},
   "outputs": [],
   "source": [
    "# Filled Julia set is a disk\n",
    "def k(z):\n",
    "    return z*z\n",
    "\n",
    "# Filled Julia set we proposed to investigate\n",
    "def f(z):\n",
    "    return z*z - 1\n",
    "\n",
    "# -- others --\n",
    "\n",
    "def q(z):\n",
    "    return z*z - 0.1\n",
    "\n",
    "\n",
    "def g(z):\n",
    "    return z*z - 0.52 + 0.53j"
   ]
  },
  {
   "cell_type": "code",
   "execution_count": 10,
   "id": "864f1a78",
   "metadata": {},
   "outputs": [],
   "source": [
    "def orbit(func,a,n):\n",
    "    \"Compute the first `n` terms in the orbit of `a` under function `func`\"\n",
    "    L = [a]\n",
    "    for _ in range(n-1):\n",
    "        a = func(a)\n",
    "        L.append(a)\n",
    "    return L"
   ]
  },
  {
   "cell_type": "code",
   "execution_count": 11,
   "id": "a7e72b09",
   "metadata": {},
   "outputs": [
    {
     "data": {
      "text/plain": [
       "[2,\n",
       " 3,\n",
       " 8,\n",
       " 63,\n",
       " 3968,\n",
       " 15745023,\n",
       " 247905749270528,\n",
       " 61457260521381894004129398783,\n",
       " 3776994870793005510047522464634252677140721938309041881088,\n",
       " 14265690253996672387291309349232388828298289458234016200317876247121873778287073518355813134107244701354409532063743]"
      ]
     },
     "execution_count": 11,
     "metadata": {},
     "output_type": "execute_result"
    }
   ],
   "source": [
    "orbit(f,2,10) # unbounded"
   ]
  },
  {
   "cell_type": "code",
   "execution_count": 12,
   "id": "920074e5",
   "metadata": {},
   "outputs": [
    {
     "data": {
      "text/plain": [
       "[1.5,\n",
       " 1.25,\n",
       " 0.5625,\n",
       " -0.68359375,\n",
       " -0.5326995849609375,\n",
       " -0.7162311521824449,\n",
       " -0.4870129366434074,\n",
       " -0.7628183995419644,\n",
       " -0.418108089320236,\n",
       " -0.8251856256449815,\n",
       " -0.31906868322890036,\n",
       " -0.8981951753825757,\n",
       " -0.19324542691946411,\n",
       " -0.962656204974714,\n",
       " -0.07329303102368134,\n",
       " -0.9946281316033617,\n",
       " -0.010714879823205736,\n",
       " -0.9998851913503742,\n",
       " -0.00022960411822547933,\n",
       " -0.9999999472819489,\n",
       " -1.0543609951785271e-07,\n",
       " -0.9999999999999889,\n",
       " -2.220446049250313e-14,\n",
       " -1.0,\n",
       " 0.0,\n",
       " -1.0,\n",
       " 0.0,\n",
       " -1.0,\n",
       " 0.0,\n",
       " -1.0]"
      ]
     },
     "execution_count": 12,
     "metadata": {},
     "output_type": "execute_result"
    }
   ],
   "source": [
    "orbit(f,1.5,30) # bounded"
   ]
  },
  {
   "cell_type": "code",
   "execution_count": 13,
   "id": "96ef14af",
   "metadata": {},
   "outputs": [
    {
     "data": {
      "text/plain": [
       "[1.62,\n",
       " 1.6244000000000005,\n",
       " 1.6386753600000015,\n",
       " 1.6852569354711342,\n",
       " 1.8400909385535584,\n",
       " 2.3859346621469157,\n",
       " 4.692684212034117,\n",
       " 21.021285113874264,\n",
       " 440.8944278387917,\n",
       " 194386.89649929552,\n",
       " 37786265529.62783,\n",
       " 1.4278018626755405e+21,\n",
       " 2.0386181590597428e+42,\n",
       " 4.155963998448135e+84,\n",
       " 1.727203675639701e+169,\n",
       " inf,\n",
       " inf,\n",
       " inf,\n",
       " inf,\n",
       " inf]"
      ]
     },
     "execution_count": 13,
     "metadata": {},
     "output_type": "execute_result"
    }
   ],
   "source": [
    "orbit(f,1.62,20) # unbounded"
   ]
  },
  {
   "cell_type": "code",
   "execution_count": 14,
   "id": "ec3ef3aa",
   "metadata": {},
   "outputs": [
    {
     "data": {
      "text/plain": [
       "[(-0.5+0.5j),\n",
       " (-1-0.5j),\n",
       " (-0.25+1j),\n",
       " (-1.9375-0.5j),\n",
       " (2.50390625+1.9375j),\n",
       " (1.5156402587890625+9.70263671875j),\n",
       " (-92.84399390197359+29.41141365468502j),\n",
       " (7753.975950502717-5461.3462200079975j),\n",
       " (30297839.50617887-84694294.49462186j),\n",
       " (-6255164441199562-5132108283374204j),\n",
       " (1.2788546754169306e+31+6.42043624850961e+31j),\n",
       " (-3.958653234034041e+63+1.6421609829245704e+63j),\n",
       " (1.2974242733488377e+127-1.300149177171774e+127j),\n",
       " (-7.078137825681485e+251-3.3736902028743566e+254j),\n",
       " (nan+infj),\n",
       " (nan+nanj),\n",
       " (nan+nanj),\n",
       " (nan+nanj),\n",
       " (nan+nanj),\n",
       " (nan+nanj)]"
      ]
     },
     "execution_count": 14,
     "metadata": {},
     "output_type": "execute_result"
    }
   ],
   "source": [
    "orbit(f,-0.5+0.5j,20) # unbounded"
   ]
  },
  {
   "cell_type": "markdown",
   "id": "f7c52456",
   "metadata": {},
   "source": [
    "Using this function we can test individual points for bounded/unbounded orbits.  But how can we see all the answers at once?"
   ]
  },
  {
   "cell_type": "markdown",
   "id": "1c1538ab",
   "metadata": {},
   "source": [
    "## Goal\n",
    "\n",
    "Make a picture of (part of) the complex plane, where each point is colored black or white.\n",
    "* **white** for points where the orbit of `f` is unbounded\n",
    "* **black** for points where the orbit of `f` is bounded\n",
    "\n",
    "We can't actually tell an orbit is bounded with certainty, so we'll settle for this:\n",
    "* **white** for points where we could tell the orbit of `f` is unbounded, because some time in the first 1000 terms of that orbit we saw a value with absolute value greater than or equal to 2\n",
    "* **black** for points whose orbits are either bounded, or stay small for so long that we couldn't tell after 1000 terms\n"
   ]
  },
  {
   "cell_type": "markdown",
   "id": "7b23857b",
   "metadata": {},
   "source": [
    "## Grid of complex numbers"
   ]
  },
  {
   "cell_type": "markdown",
   "id": "3c9bad0f",
   "metadata": {},
   "source": [
    "As a first step, we need to make a matrix that stores a grid of complex numbers $x + iy$, evenly spaced in x and y coordinates."
   ]
  },
  {
   "cell_type": "code",
   "execution_count": 15,
   "id": "c74eb84b",
   "metadata": {},
   "outputs": [],
   "source": [
    "size = 500 # How many horizontal and vertical grid points\n",
    "radius = 2.5 # We'll look at the square |x| <= radius and |y| <= radius\n",
    "xvals = np.linspace(-radius,radius,size) # row of all the real parts we need to use\n",
    "yvals = np.linspace(-radius,radius,size) # row of all the imaginary parts we need to use"
   ]
  },
  {
   "cell_type": "code",
   "execution_count": 16,
   "id": "514e3a72",
   "metadata": {},
   "outputs": [],
   "source": [
    "# Combine a row of real parts and a column of imaginary parts into a matrix of complex numbers\n",
    "# [[ -2.5+2.5j, ..., 2.5+2.5j], ... [-2.5-2.5j, ..., 2.5-2.5j] ]\n",
    "# row            col\n",
    "zz = xvals + 1j * yvals[::-1].reshape((size,1))"
   ]
  },
  {
   "cell_type": "markdown",
   "id": "8c2de5b2",
   "metadata": {},
   "source": [
    "The previous line is like taking\n",
    "$$\n",
    "(-2,-1,0,1,2) + \n",
    "\\begin{pmatrix}\n",
    "2i\\\\\n",
    "i\\\\\n",
    "0i\\\\\n",
    "-i\\\\\n",
    "-2i\n",
    "\\end{pmatrix}\n",
    "$$\n",
    "and having numpy broadcasating turn it into\n",
    "$$\n",
    "\\begin{pmatrix}\n",
    "-2 & -1 & 0 & 1 & 2\\\\\n",
    "-2 & -1 & 0 & 1 & 2\\\\\n",
    "-2 & -1 & 0 & 1 & 2\\\\\n",
    "-2 & -1 & 0 & 1 & 2\\\\\n",
    "-2 & -1 & 0 & 1 & 2\n",
    "\\end{pmatrix}\n",
    "+ \n",
    "\\begin{pmatrix}\n",
    "2i & 2i & 2i & 2i & 2i\\\\\n",
    "i & i & i & i & i\\\\\n",
    "0i & 0i & 0i & 0i & 0i\\\\\n",
    "-1i & -1i & -1i & -1i & -1i\\\\\n",
    "-2i & -2i & -2i & -2i & -2i\n",
    "\\end{pmatrix}\n",
    "$$\n",
    "which gives\n",
    "$$\n",
    "\\begin{pmatrix}\n",
    "-2+2i & -1+2i & 2i & 1+2i & 2+2i\\\\\n",
    "-2+i & -1+i & i & 1+i & 2+i\\\\\n",
    "-2 & -1 & 0 & 1 & 2\\\\\n",
    "-2-i & -1-i & 0-i & 1-i & 2-i\\\\\n",
    "-2-2i & -1-2i & -2i & 1-2i & 2-2i\n",
    "\\end{pmatrix}\n",
    "$$\n",
    "which is a matrix giving a rectangular grid of points in the complex plane."
   ]
  },
  {
   "cell_type": "code",
   "execution_count": 17,
   "id": "d62be12b",
   "metadata": {},
   "outputs": [
    {
     "data": {
      "text/plain": [
       "(500, 500)"
      ]
     },
     "execution_count": 17,
     "metadata": {},
     "output_type": "execute_result"
    }
   ],
   "source": [
    "## Confirm we have a (size)x(size) matrix now\n",
    "zz.shape"
   ]
  },
  {
   "cell_type": "markdown",
   "id": "e96e738f",
   "metadata": {},
   "source": [
    "Let's classify the orbits of the points in zz.  In class we wrote a test for bounded orbits, but here we'll invert that to test for **un**bounded orbits."
   ]
  },
  {
   "cell_type": "code",
   "execution_count": 18,
   "id": "9890857d",
   "metadata": {},
   "outputs": [],
   "source": [
    "def has_unbounded_orbit(func,a):\n",
    "    \"\"\"\n",
    "    Return True if the orbit of `a` under `func` can be seen to be unbounded\n",
    "    by examining the first 1000 points in it.  Otherwise, return False.\n",
    "    \"\"\"\n",
    "    for _ in range(1000):\n",
    "        if abs(a) >= 2:\n",
    "            return True\n",
    "        a = f(a)\n",
    "    \n",
    "    return False"
   ]
  },
  {
   "cell_type": "code",
   "execution_count": 19,
   "id": "16362920",
   "metadata": {},
   "outputs": [
    {
     "data": {
      "text/plain": [
       "True"
      ]
     },
     "execution_count": 19,
     "metadata": {},
     "output_type": "execute_result"
    }
   ],
   "source": [
    "has_unbounded_orbit(f,2)"
   ]
  },
  {
   "cell_type": "code",
   "execution_count": 20,
   "id": "2e1f62a1",
   "metadata": {},
   "outputs": [
    {
     "data": {
      "text/plain": [
       "True"
      ]
     },
     "execution_count": 20,
     "metadata": {},
     "output_type": "execute_result"
    }
   ],
   "source": [
    "has_unbounded_orbit(f,1.9)"
   ]
  },
  {
   "cell_type": "code",
   "execution_count": 21,
   "id": "92ba75e8",
   "metadata": {},
   "outputs": [
    {
     "data": {
      "text/plain": [
       "False"
      ]
     },
     "execution_count": 21,
     "metadata": {},
     "output_type": "execute_result"
    }
   ],
   "source": [
    "has_unbounded_orbit(f,1.25)"
   ]
  },
  {
   "cell_type": "markdown",
   "id": "50aa8e19",
   "metadata": {},
   "source": [
    "Let's apply the `has_unbounded_orbit` function to every entry of the matrix "
   ]
  },
  {
   "cell_type": "code",
   "execution_count": 22,
   "id": "4cdaa143",
   "metadata": {},
   "outputs": [],
   "source": [
    "# Where I'll store the orbit classification results\n",
    "imgdata = np.zeros_like(zz,dtype=\"bool\")"
   ]
  },
  {
   "cell_type": "code",
   "execution_count": 23,
   "id": "f7eb3085",
   "metadata": {},
   "outputs": [
    {
     "data": {
      "text/plain": [
       "(500, 500)"
      ]
     },
     "execution_count": 23,
     "metadata": {},
     "output_type": "execute_result"
    }
   ],
   "source": [
    "imgdata.shape"
   ]
  },
  {
   "cell_type": "code",
   "execution_count": 24,
   "id": "99f32b84",
   "metadata": {},
   "outputs": [
    {
     "name": "stdout",
     "output_type": "stream",
     "text": [
      "3.2306129932403564 seconds\n"
     ]
    }
   ],
   "source": [
    "t0 = time.time()\n",
    "\n",
    "for i in range(zz.shape[0]):\n",
    "    for j in range(zz.shape[1]):\n",
    "        imgdata[i,j] = has_unbounded_orbit(f,zz[i,j])\n",
    "\n",
    "t1 = time.time()\n",
    "print(t1-t0,\"seconds\")"
   ]
  },
  {
   "cell_type": "code",
   "execution_count": 25,
   "id": "be9cdd48",
   "metadata": {},
   "outputs": [
    {
     "data": {
      "image/png": "[encoded data removed]",
      "text/plain": [
       "<PIL.Image.Image image mode=1 size=500x500 at 0x7F6463E9C820>"
      ]
     },
     "execution_count": 25,
     "metadata": {},
     "output_type": "execute_result"
    }
   ],
   "source": [
    "PIL.Image.fromarray(imgdata)"
   ]
  },
  {
   "cell_type": "markdown",
   "id": "eecb345d",
   "metadata": {},
   "source": [
    "The center is black, because the orbit of 0 is bounded.  The black region stretches pretty far to the right, since for example we say the orbit of 1.5 is also unbounded.  But it doesn't go very high, since for example:"
   ]
  },
  {
   "cell_type": "code",
   "execution_count": 26,
   "id": "2957bfbb",
   "metadata": {},
   "outputs": [
    {
     "data": {
      "text/plain": [
       "True"
      ]
     },
     "execution_count": 26,
     "metadata": {},
     "output_type": "execute_result"
    }
   ],
   "source": [
    "has_unbounded_orbit(f,1j)"
   ]
  },
  {
   "cell_type": "markdown",
   "id": "adefd0c1",
   "metadata": {},
   "source": [
    "the point $i$ or `1j` is already unbounded."
   ]
  },
  {
   "cell_type": "markdown",
   "id": "b3867233",
   "metadata": {},
   "source": [
    "## A more `numpy`-natural way to do this"
   ]
  },
  {
   "cell_type": "markdown",
   "id": "ee331887",
   "metadata": {},
   "source": [
    "`f` is agnostic about the type of its argument.  Since numpy arrays support squaring and addition, we can just apply `f` to the entire array!"
   ]
  },
  {
   "cell_type": "code",
   "execution_count": 27,
   "id": "5adf3ac6",
   "metadata": {},
   "outputs": [
    {
     "data": {
      "text/plain": [
       "array([[-1.       -12.5j       , -1.0499998-12.4498998j ,\n",
       "        -1.0997988-12.3997996j , ..., -1.0997988+12.3997996j ,\n",
       "        -1.0499998+12.4498998j , -1.       +12.5j       ],\n",
       "       [-0.9500002-12.4498998j , -1.       -12.4000004j ,\n",
       "        -1.049799 -12.350101j  , ..., -1.049799 +12.350101j  ,\n",
       "        -1.       +12.4000004j , -0.9500002+12.4498998j ],\n",
       "       [-0.9002012-12.3997996j , -0.950201 -12.350101j  ,\n",
       "        -1.       -12.30040241j, ..., -1.       +12.30040241j,\n",
       "        -0.950201 +12.350101j  , -0.9002012+12.3997996j ],\n",
       "       ...,\n",
       "       [-0.9002012+12.3997996j , -0.950201 +12.350101j  ,\n",
       "        -1.       +12.30040241j, ..., -1.       -12.30040241j,\n",
       "        -0.950201 -12.350101j  , -0.9002012-12.3997996j ],\n",
       "       [-0.9500002+12.4498998j , -1.       +12.4000004j ,\n",
       "        -1.049799 +12.350101j  , ..., -1.049799 -12.350101j  ,\n",
       "        -1.       -12.4000004j , -0.9500002-12.4498998j ],\n",
       "       [-1.       +12.5j       , -1.0499998+12.4498998j ,\n",
       "        -1.0997988+12.3997996j , ..., -1.0997988-12.3997996j ,\n",
       "        -1.0499998-12.4498998j , -1.       -12.5j       ]])"
      ]
     },
     "execution_count": 27,
     "metadata": {},
     "output_type": "execute_result"
    }
   ],
   "source": [
    "f(zz)"
   ]
  },
  {
   "cell_type": "markdown",
   "id": "7291218c",
   "metadata": {},
   "source": [
    "Idea: Let's make a copy of the grid `zz` and keep replacing that copy with `f` applied to it.  Points with unbounded orbits will overflow, because the numbers get so big so fast.  Any points that don't overflow are bounded (probably)."
   ]
  },
  {
   "cell_type": "code",
   "execution_count": 28,
   "id": "72d1ab05",
   "metadata": {},
   "outputs": [
    {
     "name": "stderr",
     "output_type": "stream",
     "text": [
      "/tmp/ipykernel_2072902/2442714906.py:7: RuntimeWarning: overflow encountered in multiply\n",
      "  return z*z - 1\n",
      "/tmp/ipykernel_2072902/2442714906.py:7: RuntimeWarning: invalid value encountered in multiply\n",
      "  return z*z - 1\n"
     ]
    }
   ],
   "source": [
    "iterates = np.copy(zz)\n",
    "for _ in range(1000):\n",
    "    iterates = f(iterates)"
   ]
  },
  {
   "cell_type": "code",
   "execution_count": 29,
   "id": "fc7b63d4",
   "metadata": {},
   "outputs": [
    {
     "data": {
      "text/plain": [
       "(nan+nanj)"
      ]
     },
     "execution_count": 29,
     "metadata": {},
     "output_type": "execute_result"
    }
   ],
   "source": [
    "iterates[0,0] # unbounded point -> overflow -> \"NAN\" value (not a number)"
   ]
  },
  {
   "cell_type": "code",
   "execution_count": 30,
   "id": "d3e133ab",
   "metadata": {},
   "outputs": [
    {
     "data": {
      "text/plain": [
       "0j"
      ]
     },
     "execution_count": 30,
     "metadata": {},
     "output_type": "execute_result"
    }
   ],
   "source": [
    "iterates[251,253] # bounded point -> value that is not NAN"
   ]
  },
  {
   "cell_type": "markdown",
   "id": "f351ad43",
   "metadata": {},
   "source": [
    "`numpy` has a ufunc `isnan` that tests whether a value is NAN.  In this case, that's equivalent to us thinking it is a point with unbounded `f`-orbit."
   ]
  },
  {
   "cell_type": "code",
   "execution_count": 31,
   "id": "f7dce7b3",
   "metadata": {},
   "outputs": [
    {
     "data": {
      "text/plain": [
       "array([[ True,  True,  True, ...,  True,  True,  True],\n",
       "       [ True,  True,  True, ...,  True,  True,  True],\n",
       "       [ True,  True,  True, ...,  True,  True,  True],\n",
       "       ...,\n",
       "       [ True,  True,  True, ...,  True,  True,  True],\n",
       "       [ True,  True,  True, ...,  True,  True,  True],\n",
       "       [ True,  True,  True, ...,  True,  True,  True]])"
      ]
     },
     "execution_count": 31,
     "metadata": {},
     "output_type": "execute_result"
    }
   ],
   "source": [
    "np.isnan(iterates) # is_unbounded for each point in the grid"
   ]
  },
  {
   "cell_type": "markdown",
   "id": "a69ed7df",
   "metadata": {},
   "source": [
    "So now we can put that together with the image conversion step into a 4-line cell that computes the filled julia set!"
   ]
  },
  {
   "cell_type": "code",
   "execution_count": 32,
   "id": "850a6940",
   "metadata": {},
   "outputs": [
    {
     "name": "stderr",
     "output_type": "stream",
     "text": [
      "/tmp/ipykernel_2072902/2442714906.py:7: RuntimeWarning: overflow encountered in multiply\n",
      "  return z*z - 1\n",
      "/tmp/ipykernel_2072902/2442714906.py:7: RuntimeWarning: invalid value encountered in multiply\n",
      "  return z*z - 1\n"
     ]
    },
    {
     "name": "stdout",
     "output_type": "stream",
     "text": [
      "0.2572908401489258 seconds\n"
     ]
    },
    {
     "data": {
      "image/png": "[encoded data removed]",
      "text/plain": [
       "<PIL.Image.Image image mode=L size=500x500 at 0x7F6463E9C100>"
      ]
     },
     "execution_count": 32,
     "metadata": {},
     "output_type": "execute_result"
    }
   ],
   "source": [
    "t0 = time.time()\n",
    "iterates = np.copy(zz)\n",
    "for _ in range(1000):\n",
    "    iterates = f(iterates)\n",
    "t1 = time.time()\n",
    "print(t1-t0,\"seconds\")\n",
    "PIL.Image.fromarray(255*np.isnan(iterates).astype(\"uint8\"))"
   ]
  },
  {
   "cell_type": "markdown",
   "id": "acdb7646",
   "metadata": {},
   "source": [
    "## An even better way"
   ]
  },
  {
   "cell_type": "markdown",
   "id": "c14b00e4",
   "metadata": {},
   "source": [
    "If a point has unbounded orbit, we sometimes know that after just a few terms.  But the code above still applies `f` 1000 times.  A better way would be to keep track of which points we still need to work on, and only iterate on them.  For the others, we don't do any calculations.\n",
    "\n",
    "We'll use a mask for this: An array of booleans `active` that tells whether each pixel is still supposed to be iterated.\n",
    "At each step, pixels where the value has gone outside $|z|<2$ will be inactivated by setting `active` to `False`.  But we'll only check the absolute value for active points; anything else is already inactive."
   ]
  },
  {
   "cell_type": "code",
   "execution_count": 34,
   "id": "d1d65d4a",
   "metadata": {},
   "outputs": [
    {
     "name": "stdout",
     "output_type": "stream",
     "text": [
      "0.2307300567626953 seconds\n"
     ]
    },
    {
     "data": {
      "image/png": "[encoded data removed]",
      "text/plain": [
       "<PIL.Image.Image image mode=L size=500x500 at 0x7F6463E9DC30>"
      ]
     },
     "execution_count": 34,
     "metadata": {},
     "output_type": "execute_result"
    }
   ],
   "source": [
    "t0 = time.time()\n",
    "iterates = np.copy(zz)\n",
    "active = np.ones_like(iterates,dtype=\"bool\")  # Grid of True\n",
    "for _ in range(1000):\n",
    "    iterates[active] = f(iterates[active])  # Apply f to each pixel where we are supposed to proceed\n",
    "    active[active] &= np.abs(iterates[active]) < 2  # In future iterations, only continue on the pixels where abs < 2\n",
    "                                                     # (but only check this for points that remain active)\n",
    "t1 = time.time()\n",
    "print(t1-t0,\"seconds\")\n",
    "PIL.Image.fromarray(255*(1 - active.astype(\"uint8\")))"
   ]
  },
  {
   "cell_type": "markdown",
   "id": "401cb206",
   "metadata": {},
   "source": [
    "Note that mask behavior in numpy means `active[active]` is a way of saying \"the entries in array `active` that are `True` right now."
   ]
  },
  {
   "cell_type": "markdown",
   "id": "aa175538",
   "metadata": {},
   "source": [
    "## Summary\n",
    "\n",
    "By using numpy conventions and features, we got the calculation time down by a factor of 10!"
   ]
  },
  {
   "cell_type": "markdown",
   "id": "6c19f904",
   "metadata": {},
   "source": [
    "## Some other nice Julia sets"
   ]
  },
  {
   "cell_type": "markdown",
   "id": "d205e6d2",
   "metadata": {},
   "source": [
    "### $k(z) = z^2$ (the unit disk)"
   ]
  },
  {
   "cell_type": "code",
   "execution_count": 35,
   "id": "cd802f6b",
   "metadata": {},
   "outputs": [
    {
     "name": "stdout",
     "output_type": "stream",
     "text": [
      "0.2769429683685303 seconds\n"
     ]
    },
    {
     "data": {
      "image/png": "[encoded data removed]",
      "text/plain": [
       "<PIL.Image.Image image mode=L size=500x500 at 0x7F6448381E70>"
      ]
     },
     "execution_count": 35,
     "metadata": {},
     "output_type": "execute_result"
    }
   ],
   "source": [
    "t0 = time.time()\n",
    "iterates = np.copy(zz)\n",
    "active = np.ones_like(iterates,dtype=\"bool\")  # Grid of True\n",
    "for _ in range(1000):\n",
    "    iterates[active] = k(iterates[active])  # Apply f to each pixel where we are supposed to proceed\n",
    "    active[active] &= np.abs(iterates[active]) < 2  # In future iterations, only continue on the pixels where abs < 2\n",
    "                                                     # (but only check this for points that remain active)\n",
    "t1 = time.time()\n",
    "print(t1-t0,\"seconds\")\n",
    "PIL.Image.fromarray(255*(1 - active.astype(\"uint8\")))"
   ]
  },
  {
   "cell_type": "markdown",
   "id": "ea159cdf",
   "metadata": {},
   "source": [
    "### $q(z) = z^2 - 0.1$"
   ]
  },
  {
   "cell_type": "code",
   "execution_count": 36,
   "id": "61ccf3b8",
   "metadata": {},
   "outputs": [
    {
     "name": "stdout",
     "output_type": "stream",
     "text": [
      "0.3289802074432373 seconds\n"
     ]
    },
    {
     "data": {
      "image/png": "[encoded data removed]",
      "text/plain": [
       "<PIL.Image.Image image mode=L size=500x500 at 0x7F64480725F0>"
      ]
     },
     "execution_count": 36,
     "metadata": {},
     "output_type": "execute_result"
    }
   ],
   "source": [
    "t0 = time.time()\n",
    "iterates = np.copy(zz)\n",
    "active = np.ones_like(iterates,dtype=\"bool\")  # Grid of True\n",
    "for _ in range(1000):\n",
    "    iterates[active] = q(iterates[active])  # Apply f to each pixel where we are supposed to proceed\n",
    "    active[active] &= np.abs(iterates[active]) < 2  # In future iterations, only continue on the pixels where abs < 2\n",
    "                                                     # (but only check this for points that remain active)\n",
    "t1 = time.time()\n",
    "print(t1-t0,\"seconds\")\n",
    "PIL.Image.fromarray(255*(1 - active.astype(\"uint8\")))"
   ]
  },
  {
   "cell_type": "markdown",
   "id": "cbe6745d",
   "metadata": {},
   "source": [
    "### $g(z) = z^2 - 0.52 + 0.53i$"
   ]
  },
  {
   "cell_type": "code",
   "execution_count": 37,
   "id": "9c6a8ac8",
   "metadata": {},
   "outputs": [
    {
     "name": "stdout",
     "output_type": "stream",
     "text": [
      "0.41776609420776367 seconds\n"
     ]
    },
    {
     "data": {
      "image/png": "[encoded data removed]",
      "text/plain": [
       "<PIL.Image.Image image mode=L size=500x500 at 0x7F6463E69B70>"
      ]
     },
     "execution_count": 37,
     "metadata": {},
     "output_type": "execute_result"
    }
   ],
   "source": [
    "t0 = time.time()\n",
    "iterates = np.copy(zz)\n",
    "active = np.ones_like(iterates,dtype=\"bool\")  # Grid of True\n",
    "for _ in range(1000):\n",
    "    iterates[active] = g(iterates[active])  # Apply f to each pixel where we are supposed to proceed\n",
    "    active[active] &= np.abs(iterates[active]) < 2  # In future iterations, only continue on the pixels where abs < 2\n",
    "                                                     # (but only check this for points that remain active)\n",
    "t1 = time.time()\n",
    "print(t1-t0,\"seconds\")\n",
    "PIL.Image.fromarray(255*(1 - active.astype(\"uint8\")))"
   ]
  }
 ],
 "metadata": {
  "kernelspec": {
   "display_name": "Python 3 (ipykernel)",
   "language": "python",
   "name": "python3"
  },
  "language_info": {
   "codemirror_mode": {
    "name": "ipython",
    "version": 3
   },
   "file_extension": ".py",
   "mimetype": "text/x-python",
   "name": "python",
   "nbconvert_exporter": "python",
   "pygments_lexer": "ipython3",
   "version": "3.10.12"
  }
 },
 "nbformat": 4,
 "nbformat_minor": 5
}
