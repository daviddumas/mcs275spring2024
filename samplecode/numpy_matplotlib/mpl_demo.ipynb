{
 "cells": [
  {
   "cell_type": "markdown",
   "metadata": {},
   "source": [
    "# Quick intro to `matplotlib`\n",
    "### MCS 275 Spring 2024 - David Dumas\n",
    "\n",
    "This is a quick tour of basic plotting with matplotlib.  For more detail see:\n",
    "* [Chapter 4 of VanderPlas](https://jakevdp.github.io/PythonDataScienceHandbook/04.00-introduction-to-matplotlib.html)\n",
    "* [matplotlib documentation](https://matplotlib.org/stable/users/index.html), which includes some handy single-page guides:\n",
    "    * [matplotlib gallery](https://matplotlib.org/stable/gallery/index)\n",
    "    * [matplotlib cheatsheet](https://matplotlib.org/cheatsheets/)\n",
    "    * [matplotlib beginner handout](https://matplotlib.org/cheatsheets/handout-beginner.pdf)\n",
    "\n",
    "You can install matplotlib on your own machine (e.g. `python3 -m pip install matplotlib`).  \n",
    "Matplotlib is most often used in a notebook setting.\n",
    "\n",
    "Matplotlib and numpy are pre-installed in the [Google Colab](https://colab.research.google.com/) notebook environment."
   ]
  },
  {
   "cell_type": "markdown",
   "metadata": {},
   "source": [
    "## Import matplotlib etc."
   ]
  },
  {
   "cell_type": "code",
   "execution_count": null,
   "metadata": {},
   "outputs": [],
   "source": [
    "import numpy as np\n",
    "import matplotlib.pyplot as plt"
   ]
  },
  {
   "cell_type": "markdown",
   "metadata": {},
   "source": [
    "### Optional: select a stylesheet"
   ]
  },
  {
   "cell_type": "code",
   "execution_count": null,
   "metadata": {},
   "outputs": [],
   "source": [
    "plt.style.available"
   ]
  },
  {
   "cell_type": "markdown",
   "metadata": {},
   "source": [
    "Some stylesheets lack features (only support certain marker shapes, etc.).  Two good choices:\n",
    "* Don't use a stylesheet at all\n",
    "* Use `\"seaborn-whitegrid\"`\n",
    "\n",
    "`plt.style.use` selects one by name."
   ]
  },
  {
   "cell_type": "code",
   "execution_count": null,
   "metadata": {},
   "outputs": [],
   "source": []
  },
  {
   "cell_type": "markdown",
   "metadata": {},
   "source": [
    "## Absolutely minimal plot example"
   ]
  },
  {
   "cell_type": "markdown",
   "metadata": {},
   "source": [
    "Plot $y = \\sin(x)$ from $x=0$ to $x=2\\pi$."
   ]
  },
  {
   "cell_type": "code",
   "execution_count": null,
   "metadata": {},
   "outputs": [],
   "source": []
  },
  {
   "cell_type": "markdown",
   "metadata": {},
   "source": [
    "We see the plot not because it's the return value of `plt.plot`, but because we're in a notebook environment.  Any cell that makes a matplotlib figure will display it below."
   ]
  },
  {
   "cell_type": "markdown",
   "metadata": {},
   "source": [
    "## A more complete line plot example\n",
    "\n",
    "Set up a `plt.figure`, actually ask for it to be shown with `plt.show()`.\n",
    "\n",
    "Specify a size and resolution (DPI)."
   ]
  },
  {
   "cell_type": "code",
   "execution_count": null,
   "metadata": {},
   "outputs": [],
   "source": []
  },
  {
   "cell_type": "markdown",
   "metadata": {},
   "source": [
    "## Line plots and markers"
   ]
  },
  {
   "cell_type": "markdown",
   "metadata": {},
   "source": [
    "The plot above is actually just a series of line segments.  That becomes evident if we decrease the number of data points."
   ]
  },
  {
   "cell_type": "code",
   "execution_count": null,
   "metadata": {},
   "outputs": [],
   "source": []
  },
  {
   "cell_type": "markdown",
   "metadata": {},
   "source": [
    "In many cases it's a good idea to explicitly mark each data point, so sparseness of data and potential inaccuracy of the line segments becomes evident.\n",
    "\n",
    "You can pass `marker=\"x\"` to put a small `x` over each data point.  Or `marker=\"o\"` to put a dot.  There are [lots of other markers](https://matplotlib.org/stable/api/markers_api.html)."
   ]
  },
  {
   "cell_type": "code",
   "execution_count": null,
   "metadata": {},
   "outputs": [],
   "source": []
  },
  {
   "cell_type": "markdown",
   "metadata": {},
   "source": [
    "Passing `linestyle=\"none\"` as another kwarg of `plt.plot`, we can omit the line entirely."
   ]
  },
  {
   "cell_type": "code",
   "execution_count": null,
   "metadata": {},
   "outputs": [],
   "source": []
  },
  {
   "cell_type": "markdown",
   "metadata": {},
   "source": [
    "## Multiple functions\n",
    "\n",
    "Call `plt.plot` several times and each set of data will be shown on the same axes.  They don't need to use a common array of `x` coordinates.  You can mix different ranges and numbers of data points."
   ]
  },
  {
   "cell_type": "code",
   "execution_count": null,
   "metadata": {},
   "outputs": [],
   "source": []
  },
  {
   "cell_type": "markdown",
   "metadata": {},
   "source": [
    "## Line colors and styles\n",
    "\n",
    "`plt.plot` accepts `color`, `linestyle`, `linewidth` kwargs\n",
    "\n",
    "Matplotlib can use hex colors or any of a large selection of [named colors](https://matplotlib.org/stable/gallery/color/named_colors.html)."
   ]
  },
  {
   "cell_type": "code",
   "execution_count": null,
   "metadata": {},
   "outputs": [],
   "source": []
  },
  {
   "cell_type": "markdown",
   "metadata": {},
   "source": [
    "## Adjusting axes\n",
    "\n",
    "`plt.xlim` and `plt.ylim`"
   ]
  },
  {
   "cell_type": "code",
   "execution_count": null,
   "metadata": {},
   "outputs": [],
   "source": []
  },
  {
   "cell_type": "markdown",
   "metadata": {},
   "source": [
    "## Parametric plot\n",
    "\n",
    "Just make `x` and `y` both arrays computed from a third one.  Or do those computations directly in the call to `plt.plot`.\n",
    "\n",
    "Also, `plt.axis(\"equal\")` makes unit size in vertical and horizontal directions the same."
   ]
  },
  {
   "cell_type": "code",
   "execution_count": null,
   "metadata": {},
   "outputs": [],
   "source": []
  },
  {
   "cell_type": "markdown",
   "metadata": {},
   "source": [
    "## Non-even spacing of `x` values"
   ]
  },
  {
   "cell_type": "markdown",
   "metadata": {},
   "source": [
    "$y = \\sin(1/x)$ has lots of fast motion near $x=0$, but slow change elsewhere.  A naive attempt to plot it gives poor results."
   ]
  },
  {
   "cell_type": "code",
   "execution_count": null,
   "metadata": {},
   "outputs": [],
   "source": []
  },
  {
   "cell_type": "markdown",
   "metadata": {},
   "source": [
    "We could just use many more sample points, though that's wasteful in the places where the function varies slowly."
   ]
  },
  {
   "cell_type": "code",
   "execution_count": null,
   "metadata": {},
   "outputs": [],
   "source": []
  },
  {
   "cell_type": "markdown",
   "metadata": {},
   "source": [
    "Another option is to use values of $x$ that are not evenly spaced: put them closer together near $x=0$ and more spaced out for larger $x$."
   ]
  },
  {
   "cell_type": "code",
   "execution_count": null,
   "metadata": {},
   "outputs": [],
   "source": []
  },
  {
   "cell_type": "markdown",
   "metadata": {},
   "source": [
    "If we put markers on this last one, we'll see that most of the data points are at very small values of $x$."
   ]
  },
  {
   "cell_type": "code",
   "execution_count": null,
   "metadata": {},
   "outputs": [],
   "source": []
  },
  {
   "cell_type": "markdown",
   "metadata": {},
   "source": [
    "## Line plots can lie\n",
    "\n",
    "If you plot $\\tan(x)$, the poles are not recognized.  Instead, you get a continuous line plot."
   ]
  },
  {
   "cell_type": "code",
   "execution_count": null,
   "metadata": {},
   "outputs": [],
   "source": []
  },
  {
   "cell_type": "markdown",
   "metadata": {},
   "source": [
    "If you restrict the y range it looks a little better, but the vertical lines are still lies!  It's not a continuous curve.  But matplotlib knows nothing about the function you used---it only sees a list of values."
   ]
  },
  {
   "cell_type": "code",
   "execution_count": null,
   "metadata": {},
   "outputs": [],
   "source": []
  },
  {
   "cell_type": "markdown",
   "metadata": {},
   "source": [
    "One fix is to plot on each interval of continuity separately.  Another is to eliminate curves entirely and just draw the points, spacing them closely so it's easy to spot continuity/discontinuity."
   ]
  },
  {
   "cell_type": "code",
   "execution_count": null,
   "metadata": {},
   "outputs": [],
   "source": []
  },
  {
   "cell_type": "markdown",
   "metadata": {},
   "source": [
    "## Plot labels and legends\n",
    "\n",
    "Labels give names to axes and plots. (`plt.xlabel`, `plt.ylabel`)\n",
    "\n",
    "Plots can also have titles. (`plt.title`)\n",
    "\n",
    "A legend shows the names of the plots in a figure."
   ]
  },
  {
   "cell_type": "code",
   "execution_count": null,
   "metadata": {},
   "outputs": [],
   "source": []
  },
  {
   "cell_type": "markdown",
   "metadata": {},
   "source": [
    "## Saving plot as an image\n",
    "\n",
    "`plt.savefig(filename)` does it.  Run it **before** `plot.show()`, or don't call `plt.show()` at all."
   ]
  },
  {
   "cell_type": "code",
   "execution_count": null,
   "metadata": {},
   "outputs": [],
   "source": []
  },
  {
   "cell_type": "markdown",
   "metadata": {},
   "source": [
    "## Scatter plots"
   ]
  },
  {
   "cell_type": "markdown",
   "metadata": {},
   "source": [
    "### Make with `plt.plot`: Same color and marker size for each point"
   ]
  },
  {
   "cell_type": "code",
   "execution_count": null,
   "metadata": {},
   "outputs": [],
   "source": [
    "# sample data: four characteristics of the same list of objects\n",
    "n = np.array([1,1.5,2,2.5,3.5,5])\n",
    "t = np.array([1.8,2.6,3.5,4.9,8.8,8.2])\n",
    "s = np.array([0.1,0.1,0.1,0.2,0.2,0.5])\n",
    "c = np.array([1,2,3,5,8,20])"
   ]
  },
  {
   "cell_type": "code",
   "execution_count": null,
   "metadata": {},
   "outputs": [],
   "source": [
    "# Use `n` as x axis and `t` as y axis.  Draw dots.\n",
    "plt.plot(n,t,linestyle=\"none\",marker=\"o\")\n",
    "plt.xlabel(\"n\")\n",
    "plt.ylabel(\"t\")"
   ]
  },
  {
   "cell_type": "code",
   "execution_count": null,
   "metadata": {},
   "outputs": [],
   "source": [
    "plt.plot(n,s,linestyle=\"none\",marker=\"o\")\n",
    "plt.xlabel(\"n\")\n",
    "plt.ylabel(\"s\")"
   ]
  },
  {
   "cell_type": "markdown",
   "metadata": {},
   "source": [
    "### Make with `plt.scatter`: Can specify size and color for each point\n",
    "\n",
    "You pass `x` and `y` arrays as usual,  but then the kwarg `s` can set an array of sizes.  And kwarg `c` sets an array of scalars that map to colors.\n",
    "\n",
    "kwarg `cmap` selects colormap.  `plt.colorbar()` adds a color bar.  `plt.colormaps()` shows available ones."
   ]
  },
  {
   "cell_type": "code",
   "execution_count": null,
   "metadata": {},
   "outputs": [],
   "source": []
  },
  {
   "cell_type": "code",
   "execution_count": null,
   "metadata": {},
   "outputs": [],
   "source": []
  },
  {
   "cell_type": "code",
   "execution_count": null,
   "metadata": {},
   "outputs": [],
   "source": [
    "# Show the available color maps\n",
    "plt.colormaps()"
   ]
  },
  {
   "cell_type": "markdown",
   "metadata": {},
   "source": [
    "## Scatter plot real world data\n",
    "\n",
    "CSV with data about meteorites recovered on earth's surface, adapted from a NASA dataset:\n",
    "* [meteorites.csv](https://www.dumas.io/teaching/2022/spring/mcs275/data/meteorites.csv)\n",
    "\n",
    "Let's load it into a dictionary mapping column names to lists of values (thanks, `defaultdict`!) and then make some plots.\n",
    "\n",
    "For this dataset it turns out sizing by $0.002 m^{2/3}$ is a good choice.\n",
    "\n",
    "kwarg `alpha` can make the markers partially transparent."
   ]
  },
  {
   "cell_type": "code",
   "execution_count": null,
   "metadata": {},
   "outputs": [],
   "source": [
    "import csv\n",
    "import collections\n",
    "\n",
    "columns = collections.defaultdict(list)\n",
    "\n",
    "with open(\"meteorites.csv\",\"r\",newline=\"\",encoding=\"UTF-8\") as fp:\n",
    "    reader = csv.DictReader(fp)\n",
    "    for row in reader:\n",
    "        # row is now a dictionary like {\"latitude\":\"12.1\", \"longitude\": \"78.7\", \"mass\": \"15.5\", \"year\": \"1912\"}\n",
    "        for colname in row:\n",
    "            # columns[\"latitude\"].append(12.1)\n",
    "            if colname == \"year\":\n",
    "                x = int(row[colname])\n",
    "            else:\n",
    "                x = float(row[colname])\n",
    "            columns[colname].append(x)\n",
    "            \n",
    "for colname in columns:\n",
    "    columns[colname] = np.array( columns[colname] )"
   ]
  },
  {
   "cell_type": "code",
   "execution_count": null,
   "metadata": {},
   "outputs": [],
   "source": [
    "columns"
   ]
  },
  {
   "cell_type": "code",
   "execution_count": null,
   "metadata": {},
   "outputs": [],
   "source": []
  },
  {
   "cell_type": "markdown",
   "metadata": {},
   "source": [
    "Let's try the same thing with `plt.scatter` so we can show additional data about each point through color and size."
   ]
  },
  {
   "cell_type": "code",
   "execution_count": null,
   "metadata": {},
   "outputs": [],
   "source": []
  }
 ],
 "metadata": {
  "kernelspec": {
   "display_name": "Python 3 (ipykernel)",
   "language": "python",
   "name": "python3"
  },
  "language_info": {
   "codemirror_mode": {
    "name": "ipython",
    "version": 3
   },
   "file_extension": ".py",
   "mimetype": "text/x-python",
   "name": "python",
   "nbconvert_exporter": "python",
   "pygments_lexer": "ipython3",
   "version": "3.10.12"
  }
 },
 "nbformat": 4,
 "nbformat_minor": 4
}
