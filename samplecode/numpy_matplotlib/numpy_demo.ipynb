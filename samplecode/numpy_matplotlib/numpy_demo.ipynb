{
 "cells": [
  {
   "cell_type": "markdown",
   "id": "90415c86",
   "metadata": {},
   "source": [
    "# Demo of some `numpy` features\n",
    "\n",
    "## MCS 275 Spring 2024 - David Dumas\n",
    "\n",
    "This is a quick tour of some `numpy` features.  For more detail see:\n",
    "* [Chapter 2 of VanderPlas](https://jakevdp.github.io/PythonDataScienceHandbook/02.00-introduction-to-numpy.html)\n",
    "* [The numpy documentation](https://numpy.org/doc/stable/)"
   ]
  },
  {
   "cell_type": "markdown",
   "id": "d5ffa02e",
   "metadata": {},
   "source": [
    "## Importing the module\n",
    "\n",
    "And checking the version."
   ]
  },
  {
   "cell_type": "code",
   "execution_count": 61,
   "id": "89d672f7",
   "metadata": {},
   "outputs": [
    {
     "data": {
      "text/plain": [
       "'1.21.5'"
      ]
     },
     "execution_count": 61,
     "metadata": {},
     "output_type": "execute_result"
    }
   ],
   "source": [
    "import numpy as np\n",
    "np.__version__"
   ]
  },
  {
   "cell_type": "markdown",
   "id": "91294334",
   "metadata": {},
   "source": [
    "## Creating arrays\n",
    "\n",
    "They are iterable and type-homogeneous.  Can make one from any suitable iterable.\n",
    "\n",
    "[List of built-in dtypes](https://numpy.org/doc/stable/reference/arrays.scalars.html#arrays-scalars-built-in)."
   ]
  },
  {
   "cell_type": "code",
   "execution_count": 3,
   "id": "68896296",
   "metadata": {},
   "outputs": [],
   "source": [
    "# `np.array` will convert from an iterable\n",
    "x = np.array([2,4,8,16,32])"
   ]
  },
  {
   "cell_type": "code",
   "execution_count": 8,
   "id": "05995cfc",
   "metadata": {},
   "outputs": [],
   "source": [
    "# List of lists -> 4 row, 3 column matrix (2 dimensional array)\n",
    "A = np.array([[1,2,3],[4,5,6],[7,8,9],[0,2,0]])"
   ]
  },
  {
   "cell_type": "code",
   "execution_count": 11,
   "id": "ee97cd1c",
   "metadata": {},
   "outputs": [
    {
     "name": "stdout",
     "output_type": "stream",
     "text": [
      "[ 2  4  8 16 32]\n",
      "\n",
      "[[1 2 3]\n",
      " [4 5 6]\n",
      " [7 8 9]\n",
      " [0 2 0]]\n"
     ]
    }
   ],
   "source": [
    "# nice display\n",
    "print(x)\n",
    "print()\n",
    "print(A)"
   ]
  },
  {
   "cell_type": "code",
   "execution_count": 13,
   "id": "65571b87",
   "metadata": {},
   "outputs": [
    {
     "data": {
      "text/plain": [
       "numpy.ndarray"
      ]
     },
     "execution_count": 13,
     "metadata": {},
     "output_type": "execute_result"
    }
   ],
   "source": [
    "# ndarray class\n",
    "type(x)"
   ]
  },
  {
   "cell_type": "markdown",
   "id": "a4da6e09",
   "metadata": {},
   "source": [
    "Check number of dimensions"
   ]
  },
  {
   "cell_type": "code",
   "execution_count": 6,
   "id": "4691d548",
   "metadata": {},
   "outputs": [
    {
     "data": {
      "text/plain": [
       "1"
      ]
     },
     "execution_count": 6,
     "metadata": {},
     "output_type": "execute_result"
    }
   ],
   "source": [
    "x.ndim # how many dimensions?"
   ]
  },
  {
   "cell_type": "code",
   "execution_count": 14,
   "id": "8c7e12af",
   "metadata": {},
   "outputs": [
    {
     "data": {
      "text/plain": [
       "2"
      ]
     },
     "execution_count": 14,
     "metadata": {},
     "output_type": "execute_result"
    }
   ],
   "source": [
    "A.ndim"
   ]
  },
  {
   "cell_type": "markdown",
   "id": "536111f4",
   "metadata": {},
   "source": [
    "Check shape (size in each dimension)"
   ]
  },
  {
   "cell_type": "code",
   "execution_count": 7,
   "id": "49c8919c",
   "metadata": {},
   "outputs": [
    {
     "data": {
      "text/plain": [
       "(5,)"
      ]
     },
     "execution_count": 7,
     "metadata": {},
     "output_type": "execute_result"
    }
   ],
   "source": [
    "x.shape # size in each dimension, as a tuple"
   ]
  },
  {
   "cell_type": "code",
   "execution_count": 15,
   "id": "9257352b",
   "metadata": {},
   "outputs": [
    {
     "data": {
      "text/plain": [
       "(4, 3)"
      ]
     },
     "execution_count": 15,
     "metadata": {},
     "output_type": "execute_result"
    }
   ],
   "source": [
    "A.shape"
   ]
  },
  {
   "cell_type": "markdown",
   "id": "8174347f",
   "metadata": {},
   "source": [
    "Check \"length\" (first elt of shape)"
   ]
  },
  {
   "cell_type": "code",
   "execution_count": 16,
   "id": "53ab2831",
   "metadata": {},
   "outputs": [
    {
     "data": {
      "text/plain": [
       "5"
      ]
     },
     "execution_count": 16,
     "metadata": {},
     "output_type": "execute_result"
    }
   ],
   "source": [
    "len(x) # number of items in the vector"
   ]
  },
  {
   "cell_type": "code",
   "execution_count": 17,
   "id": "e65c6643",
   "metadata": {},
   "outputs": [
    {
     "data": {
      "text/plain": [
       "4"
      ]
     },
     "execution_count": 17,
     "metadata": {},
     "output_type": "execute_result"
    }
   ],
   "source": [
    "len(A) # number of rows in the matrix = A.shape[0]"
   ]
  },
  {
   "cell_type": "markdown",
   "id": "21d52f4d",
   "metadata": {},
   "source": [
    "In general, `len(m)` means `m.shape[0]` if `m` is a numpy array."
   ]
  },
  {
   "cell_type": "markdown",
   "id": "6faadb20",
   "metadata": {
    "scrolled": true
   },
   "source": [
    "Check data type"
   ]
  },
  {
   "cell_type": "code",
   "execution_count": 18,
   "id": "ddc9282b",
   "metadata": {},
   "outputs": [
    {
     "data": {
      "text/plain": [
       "dtype('int64')"
      ]
     },
     "execution_count": 18,
     "metadata": {},
     "output_type": "execute_result"
    }
   ],
   "source": [
    "x.dtype # int64 means (signed) integer, 64 bits"
   ]
  },
  {
   "cell_type": "markdown",
   "id": "093de5cf",
   "metadata": {},
   "source": [
    "Data type typically inferred but can be specified (potential lossy process)"
   ]
  },
  {
   "cell_type": "code",
   "execution_count": 19,
   "id": "37a60774",
   "metadata": {},
   "outputs": [],
   "source": [
    "# Given a mix of integers and floats, numpy\n",
    "# will choose a floating point dtype\n",
    "y= np.array([5,6,7,7.289])"
   ]
  },
  {
   "cell_type": "code",
   "execution_count": 20,
   "id": "8a697e99",
   "metadata": {},
   "outputs": [
    {
     "data": {
      "text/plain": [
       "array([5.   , 6.   , 7.   , 7.289])"
      ]
     },
     "execution_count": 20,
     "metadata": {},
     "output_type": "execute_result"
    }
   ],
   "source": [
    "y"
   ]
  },
  {
   "cell_type": "code",
   "execution_count": 21,
   "id": "59b83f0d",
   "metadata": {},
   "outputs": [
    {
     "data": {
      "text/plain": [
       "dtype('float64')"
      ]
     },
     "execution_count": 21,
     "metadata": {},
     "output_type": "execute_result"
    }
   ],
   "source": [
    "y.dtype # float64 means float, 64 bits (double)"
   ]
  },
  {
   "cell_type": "code",
   "execution_count": 22,
   "id": "045b46c1",
   "metadata": {},
   "outputs": [],
   "source": [
    "y_force_int = y= np.array([5,6,7,7.289], dtype=\"int\")"
   ]
  },
  {
   "cell_type": "code",
   "execution_count": 25,
   "id": "c3bcbb8c",
   "metadata": {},
   "outputs": [
    {
     "data": {
      "text/plain": [
       "array([5, 6, 7, 7])"
      ]
     },
     "execution_count": 25,
     "metadata": {},
     "output_type": "execute_result"
    }
   ],
   "source": [
    "# Notice we lost precision by specifying dtype int\n",
    "y_force_int"
   ]
  },
  {
   "cell_type": "code",
   "execution_count": 24,
   "id": "ce0a6602",
   "metadata": {},
   "outputs": [
    {
     "data": {
      "text/plain": [
       "dtype('int64')"
      ]
     },
     "execution_count": 24,
     "metadata": {},
     "output_type": "execute_result"
    }
   ],
   "source": [
    "# Notice numpy chose a precise type compatible with\n",
    "# the request \"int\"\n",
    "y_force_int.dtype"
   ]
  },
  {
   "cell_type": "code",
   "execution_count": 26,
   "id": "be1d312e",
   "metadata": {},
   "outputs": [],
   "source": [
    "# uint8 means UNSIGNED integer, 8 bits\n",
    "# UNSIGNED = only 0 and positive values\n",
    "# range is 0...255\n",
    "z = np.array([1,-1,2,100,300,500,800,16384], dtype=\"uint8\")"
   ]
  },
  {
   "cell_type": "code",
   "execution_count": 27,
   "id": "d6c56406",
   "metadata": {},
   "outputs": [
    {
     "data": {
      "text/plain": [
       "array([  1, 255,   2, 100,  44, 244,  32,   0], dtype=uint8)"
      ]
     },
     "execution_count": 27,
     "metadata": {},
     "output_type": "execute_result"
    }
   ],
   "source": [
    "z"
   ]
  },
  {
   "cell_type": "code",
   "execution_count": 28,
   "id": "012ae30c",
   "metadata": {},
   "outputs": [
    {
     "data": {
      "text/plain": [
       "44"
      ]
     },
     "execution_count": 28,
     "metadata": {},
     "output_type": "execute_result"
    }
   ],
   "source": [
    "# Why did 300 appear as 44 in the array above?\n",
    "300 % 256"
   ]
  },
  {
   "cell_type": "markdown",
   "id": "5930ca0e",
   "metadata": {},
   "source": [
    "## Filled arrays"
   ]
  },
  {
   "cell_type": "markdown",
   "id": "96e31668",
   "metadata": {},
   "source": [
    "Can fill with zeros, ones, or make an array full of a general value."
   ]
  },
  {
   "cell_type": "code",
   "execution_count": 29,
   "id": "134e443f",
   "metadata": {},
   "outputs": [
    {
     "data": {
      "text/plain": [
       "array([[0, 0, 0, 0, 0, 0, 0, 0, 0, 0, 0, 0],\n",
       "       [0, 0, 0, 0, 0, 0, 0, 0, 0, 0, 0, 0],\n",
       "       [0, 0, 0, 0, 0, 0, 0, 0, 0, 0, 0, 0]])"
      ]
     },
     "execution_count": 29,
     "metadata": {},
     "output_type": "execute_result"
    }
   ],
   "source": [
    "# Filled with zeros\n",
    "np.zeros( (3,12), dtype=\"int64\")"
   ]
  },
  {
   "cell_type": "code",
   "execution_count": 30,
   "id": "e1f2dc2c",
   "metadata": {},
   "outputs": [
    {
     "data": {
      "text/plain": [
       "array([[1., 1.],\n",
       "       [1., 1.],\n",
       "       [1., 1.],\n",
       "       [1., 1.],\n",
       "       [1., 1.],\n",
       "       [1., 1.]])"
      ]
     },
     "execution_count": 30,
     "metadata": {},
     "output_type": "execute_result"
    }
   ],
   "source": [
    "# Filled with ones\n",
    "np.ones( (6,2), dtype=\"float64\")"
   ]
  },
  {
   "cell_type": "code",
   "execution_count": 31,
   "id": "5b49b180",
   "metadata": {},
   "outputs": [
    {
     "data": {
      "text/plain": [
       "array([[42, 42, 42, 42],\n",
       "       [42, 42, 42, 42],\n",
       "       [42, 42, 42, 42],\n",
       "       [42, 42, 42, 42],\n",
       "       [42, 42, 42, 42],\n",
       "       [42, 42, 42, 42],\n",
       "       [42, 42, 42, 42]], dtype=uint8)"
      ]
     },
     "execution_count": 31,
     "metadata": {},
     "output_type": "execute_result"
    }
   ],
   "source": [
    "# Filled with one value\n",
    "np.full( (7,4), 42, dtype=\"uint8\" )"
   ]
  },
  {
   "cell_type": "markdown",
   "id": "649cede8",
   "metadata": {},
   "source": [
    "Can also ask for an array filled with random values (floats between 0 and 1, never exactly 1, uniformly distributed).  Note `np.random` is a submodule, you want `np.random.random(...)`"
   ]
  },
  {
   "cell_type": "code",
   "execution_count": 32,
   "id": "67c8a33a",
   "metadata": {},
   "outputs": [
    {
     "data": {
      "text/plain": [
       "array([[0.84985369, 0.52904623, 0.06757972, 0.60749338, 0.44579558],\n",
       "       [0.94276045, 0.22398809, 0.99290933, 0.9505469 , 0.65531365],\n",
       "       [0.0944089 , 0.67245052, 0.25851387, 0.81402906, 0.02156303],\n",
       "       [0.16531779, 0.87858936, 0.60636781, 0.24837322, 0.67221406]])"
      ]
     },
     "execution_count": 32,
     "metadata": {},
     "output_type": "execute_result"
    }
   ],
   "source": [
    "# Filled with random numbers between 0 and 1\n",
    "np.random.random( (4,5) )  # argument is the shape"
   ]
  },
  {
   "cell_type": "markdown",
   "id": "3d234ed0",
   "metadata": {},
   "source": [
    "## Special things about 2D arrays"
   ]
  },
  {
   "cell_type": "markdown",
   "id": "c913b0db",
   "metadata": {},
   "source": [
    "Identity (eye-dentity) matrix\n",
    "\n",
    "$$\n",
    "\\begin{pmatrix}\n",
    "1 & 0 & 0\\\\\n",
    "0 & 1 & 0\\\\\n",
    "0 & 0 & 1\n",
    "\\end{pmatrix}\n",
    "$$"
   ]
  },
  {
   "cell_type": "code",
   "execution_count": 62,
   "id": "e8ed0c3e",
   "metadata": {},
   "outputs": [
    {
     "data": {
      "text/plain": [
       "array([[1., 0., 0., 0., 0.],\n",
       "       [0., 1., 0., 0., 0.],\n",
       "       [0., 0., 1., 0., 0.],\n",
       "       [0., 0., 0., 1., 0.],\n",
       "       [0., 0., 0., 0., 1.]])"
      ]
     },
     "execution_count": 62,
     "metadata": {},
     "output_type": "execute_result"
    }
   ],
   "source": [
    "np.eye(5)"
   ]
  },
  {
   "cell_type": "code",
   "execution_count": 63,
   "id": "24760b24",
   "metadata": {},
   "outputs": [
    {
     "data": {
      "text/plain": [
       "array([[1, 0, 0, 0, 0],\n",
       "       [0, 1, 0, 0, 0],\n",
       "       [0, 0, 1, 0, 0],\n",
       "       [0, 0, 0, 1, 0],\n",
       "       [0, 0, 0, 0, 1]])"
      ]
     },
     "execution_count": 63,
     "metadata": {},
     "output_type": "execute_result"
    }
   ],
   "source": [
    "np.eye(5,dtype=\"int\")"
   ]
  },
  {
   "cell_type": "code",
   "execution_count": 64,
   "id": "653d6071",
   "metadata": {},
   "outputs": [
    {
     "data": {
      "text/plain": [
       "array([[ True, False, False],\n",
       "       [False,  True, False],\n",
       "       [False, False,  True]])"
      ]
     },
     "execution_count": 64,
     "metadata": {},
     "output_type": "execute_result"
    }
   ],
   "source": [
    "np.eye(3,dtype=\"bool\")"
   ]
  },
  {
   "cell_type": "markdown",
   "id": "96cc0211",
   "metadata": {},
   "source": [
    "Transpose"
   ]
  },
  {
   "cell_type": "code",
   "execution_count": 66,
   "id": "9906a836",
   "metadata": {},
   "outputs": [
    {
     "data": {
      "text/plain": [
       "array([[1, 3],\n",
       "       [5, 7],\n",
       "       [9, 4],\n",
       "       [6, 6]])"
      ]
     },
     "execution_count": 66,
     "metadata": {},
     "output_type": "execute_result"
    }
   ],
   "source": [
    "A = np.array([[1,3],[5,7],[9,4],[6,6]])\n",
    "A"
   ]
  },
  {
   "cell_type": "code",
   "execution_count": 67,
   "id": "372de57b",
   "metadata": {},
   "outputs": [
    {
     "data": {
      "text/plain": [
       "array([[1, 5, 9, 6],\n",
       "       [3, 7, 4, 6]])"
      ]
     },
     "execution_count": 67,
     "metadata": {},
     "output_type": "execute_result"
    }
   ],
   "source": [
    "A.T  # The TRANSPOSE of A"
   ]
  },
  {
   "cell_type": "code",
   "execution_count": 68,
   "id": "e7ae3a81",
   "metadata": {},
   "outputs": [
    {
     "data": {
      "text/plain": [
       "True"
      ]
     },
     "execution_count": 68,
     "metadata": {},
     "output_type": "execute_result"
    }
   ],
   "source": [
    "A[2,0] == A.T[0,2]"
   ]
  },
  {
   "cell_type": "code",
   "execution_count": 69,
   "id": "82209edf",
   "metadata": {},
   "outputs": [
    {
     "data": {
      "text/plain": [
       "(4, 2)"
      ]
     },
     "execution_count": 69,
     "metadata": {},
     "output_type": "execute_result"
    }
   ],
   "source": [
    "A.shape"
   ]
  },
  {
   "cell_type": "code",
   "execution_count": 70,
   "id": "1f4b7fc2",
   "metadata": {},
   "outputs": [
    {
     "data": {
      "text/plain": [
       "(2, 4)"
      ]
     },
     "execution_count": 70,
     "metadata": {},
     "output_type": "execute_result"
    }
   ],
   "source": [
    "A.T.shape"
   ]
  },
  {
   "cell_type": "markdown",
   "id": "c6237fb2",
   "metadata": {},
   "source": [
    "## Vector algebra"
   ]
  },
  {
   "cell_type": "code",
   "execution_count": 33,
   "id": "8363f0be",
   "metadata": {},
   "outputs": [],
   "source": [
    "# two 3-dimensional vectors\n",
    "v = np.array([1,2,5])\n",
    "w = np.array([4,-8,0])"
   ]
  },
  {
   "cell_type": "markdown",
   "id": "a82c5829",
   "metadata": {},
   "source": [
    "Dot product (and vector length)"
   ]
  },
  {
   "cell_type": "code",
   "execution_count": 34,
   "id": "867dacfd",
   "metadata": {},
   "outputs": [
    {
     "data": {
      "text/plain": [
       "-12"
      ]
     },
     "execution_count": 34,
     "metadata": {},
     "output_type": "execute_result"
    }
   ],
   "source": [
    "v.dot(w) # dot product\n",
    "#   1*4 + 2*(-8) + 5*0"
   ]
  },
  {
   "cell_type": "code",
   "execution_count": 35,
   "id": "0e47273f",
   "metadata": {},
   "outputs": [
    {
     "data": {
      "text/plain": [
       "5.477225575051661"
      ]
     },
     "execution_count": 35,
     "metadata": {},
     "output_type": "execute_result"
    }
   ],
   "source": [
    "v.dot(v)**0.5 # length"
   ]
  },
  {
   "cell_type": "markdown",
   "id": "7210680d",
   "metadata": {},
   "source": [
    "Scalar multiplication"
   ]
  },
  {
   "cell_type": "code",
   "execution_count": 36,
   "id": "628cbe6e",
   "metadata": {},
   "outputs": [
    {
     "data": {
      "text/plain": [
       "array([1.8, 3.6, 9. ])"
      ]
     },
     "execution_count": 36,
     "metadata": {},
     "output_type": "execute_result"
    }
   ],
   "source": [
    "1.8 * v # scalar multiplication"
   ]
  },
  {
   "cell_type": "markdown",
   "id": "0ce5e815",
   "metadata": {},
   "source": [
    "Elementwise sum"
   ]
  },
  {
   "cell_type": "code",
   "execution_count": 37,
   "id": "7b2cd023",
   "metadata": {},
   "outputs": [
    {
     "data": {
      "text/plain": [
       "array([ 5, -6,  5])"
      ]
     },
     "execution_count": 37,
     "metadata": {},
     "output_type": "execute_result"
    }
   ],
   "source": [
    "v+w # elementwise sum"
   ]
  },
  {
   "cell_type": "markdown",
   "id": "1c9b1142",
   "metadata": {},
   "source": [
    "Elementwise product (?!)"
   ]
  },
  {
   "cell_type": "code",
   "execution_count": 38,
   "id": "45959338",
   "metadata": {},
   "outputs": [
    {
     "data": {
      "text/plain": [
       "array([  4, -16,   0])"
      ]
     },
     "execution_count": 38,
     "metadata": {},
     "output_type": "execute_result"
    }
   ],
   "source": [
    "v*w # elementwise product"
   ]
  },
  {
   "cell_type": "markdown",
   "id": "03b09226",
   "metadata": {},
   "source": [
    "## Arithmetic progressions"
   ]
  },
  {
   "cell_type": "markdown",
   "id": "0d866cfb",
   "metadata": {},
   "source": [
    "* `np.arange` is `start`, `stop`, `step`\n",
    "* `np.linspace` is `first`,`last`,`number`"
   ]
  },
  {
   "cell_type": "code",
   "execution_count": 39,
   "id": "192ccc30",
   "metadata": {},
   "outputs": [
    {
     "data": {
      "text/plain": [
       "[3, 5, 7, 9, 11, 13, 15, 17, 19]"
      ]
     },
     "execution_count": 39,
     "metadata": {},
     "output_type": "execute_result"
    }
   ],
   "source": [
    "# Recall how you get a list of integer values\n",
    "# in arithmetic progression using built-in stuff\n",
    "list(range(3,20,2))"
   ]
  },
  {
   "cell_type": "markdown",
   "id": "017408e1",
   "metadata": {},
   "source": [
    "The similarly named `arange` from `numpy` does all this and more."
   ]
  },
  {
   "cell_type": "code",
   "execution_count": 40,
   "id": "7510c5e9",
   "metadata": {},
   "outputs": [
    {
     "data": {
      "text/plain": [
       "array([2. , 2.1, 2.2, 2.3, 2.4, 2.5, 2.6, 2.7, 2.8, 2.9])"
      ]
     },
     "execution_count": 40,
     "metadata": {},
     "output_type": "execute_result"
    }
   ],
   "source": [
    "# From 2 up to but not including 3 in steps of size 0.1\n",
    "np.arange(2,3,0.1)   # start, stop (not included), step"
   ]
  },
  {
   "cell_type": "markdown",
   "id": "8787df57",
   "metadata": {},
   "source": [
    "When you know how many points you want, rather than the spacing, it's better to use `np.linspace`.  It takes the first and last elements, then the number of evenly-spaced points you want between them."
   ]
  },
  {
   "cell_type": "code",
   "execution_count": 41,
   "id": "7bce88f4",
   "metadata": {},
   "outputs": [
    {
     "data": {
      "text/plain": [
       "array([12. , 12.4, 12.8, 13.2, 13.6, 14. ])"
      ]
     },
     "execution_count": 41,
     "metadata": {},
     "output_type": "execute_result"
    }
   ],
   "source": [
    "# From 12 to 14 in 6 steps; \n",
    "np.linspace( 12, 14, 6 )   # first, last, number of elements"
   ]
  },
  {
   "cell_type": "markdown",
   "id": "6ecc13e2",
   "metadata": {},
   "source": [
    "## Accessing items\n",
    "\n",
    "Zero-based indexing.  For multi-dimensional arrays, give several integer indices separated by commas."
   ]
  },
  {
   "cell_type": "code",
   "execution_count": 47,
   "id": "21bb8e07",
   "metadata": {},
   "outputs": [
    {
     "data": {
      "text/plain": [
       "array([ 8, 11, 14, 17, 20, 23])"
      ]
     },
     "execution_count": 47,
     "metadata": {},
     "output_type": "execute_result"
    }
   ],
   "source": [
    "v = np.arange(8,24,3)\n",
    "v"
   ]
  },
  {
   "cell_type": "code",
   "execution_count": 44,
   "id": "a896a699",
   "metadata": {},
   "outputs": [
    {
     "data": {
      "text/plain": [
       "array([[ 1,  2,  3],\n",
       "       [ 4,  5,  6],\n",
       "       [ 7,  8,  9],\n",
       "       [ 0, -2, 16]])"
      ]
     },
     "execution_count": 44,
     "metadata": {},
     "output_type": "execute_result"
    }
   ],
   "source": [
    "A = np.array([[1,2,3],[4,5,6],[7,8,9],[0,-2,16]])\n",
    "A"
   ]
  },
  {
   "cell_type": "markdown",
   "id": "a9dc0d34",
   "metadata": {},
   "source": [
    "### Vector indexing: Just like lists"
   ]
  },
  {
   "cell_type": "code",
   "execution_count": 48,
   "id": "81e05034",
   "metadata": {},
   "outputs": [
    {
     "data": {
      "text/plain": [
       "8"
      ]
     },
     "execution_count": 48,
     "metadata": {},
     "output_type": "execute_result"
    }
   ],
   "source": [
    "v[0]"
   ]
  },
  {
   "cell_type": "code",
   "execution_count": 49,
   "id": "ea4b2bcf",
   "metadata": {},
   "outputs": [
    {
     "data": {
      "text/plain": [
       "20"
      ]
     },
     "execution_count": 49,
     "metadata": {},
     "output_type": "execute_result"
    }
   ],
   "source": [
    "v[4]"
   ]
  },
  {
   "cell_type": "code",
   "execution_count": 51,
   "id": "928a3ebd",
   "metadata": {},
   "outputs": [
    {
     "data": {
      "text/plain": [
       "23"
      ]
     },
     "execution_count": 51,
     "metadata": {},
     "output_type": "execute_result"
    }
   ],
   "source": [
    "v[-1]"
   ]
  },
  {
   "cell_type": "markdown",
   "id": "ee16d473",
   "metadata": {},
   "source": [
    "### Multidimensional indexing: use a tuple of indices\n",
    "\n",
    "For matrices, it's `[row, col]`"
   ]
  },
  {
   "cell_type": "code",
   "execution_count": 53,
   "id": "84bd70fd",
   "metadata": {},
   "outputs": [
    {
     "name": "stdout",
     "output_type": "stream",
     "text": [
      "[[ 1  2  3]\n",
      " [ 4  5  6]\n",
      " [ 7  8  9]\n",
      " [ 0 -2 16]]\n",
      "\n",
      "2\n"
     ]
    }
   ],
   "source": [
    "print(A)\n",
    "print()\n",
    "print(A[0,1])  # row 0 column 1"
   ]
  },
  {
   "cell_type": "markdown",
   "id": "421a5796",
   "metadata": {},
   "source": [
    "Omitted indices at the end mean \"everything from those dimensions\""
   ]
  },
  {
   "cell_type": "code",
   "execution_count": 54,
   "id": "3cf11751",
   "metadata": {},
   "outputs": [
    {
     "data": {
      "text/plain": [
       "array([7, 8, 9])"
      ]
     },
     "execution_count": 54,
     "metadata": {},
     "output_type": "execute_result"
    }
   ],
   "source": [
    "A[2] # Row 2"
   ]
  },
  {
   "cell_type": "markdown",
   "id": "c208c123",
   "metadata": {},
   "source": [
    "Using `:` as an index means \"everything from that dimension\""
   ]
  },
  {
   "cell_type": "code",
   "execution_count": 56,
   "id": "e77936f5",
   "metadata": {},
   "outputs": [
    {
     "name": "stdout",
     "output_type": "stream",
     "text": [
      "[[ 1  2  3]\n",
      " [ 4  5  6]\n",
      " [ 7  8  9]\n",
      " [ 0 -2 16]]\n",
      "\n",
      "[ 2  5  8 -2]\n"
     ]
    }
   ],
   "source": [
    "print(A)\n",
    "print()\n",
    "# All rows, column 1; that is, get column 1 as a vector\n",
    "print(A[:,1])  "
   ]
  },
  {
   "cell_type": "code",
   "execution_count": 75,
   "id": "a0cda312",
   "metadata": {},
   "outputs": [
    {
     "data": {
      "text/plain": [
       "array([[ 0,  1,  2,  3],\n",
       "       [ 4,  5,  6,  7],\n",
       "       [ 8,  9, 10, 11],\n",
       "       [12, 13, 14, 15]])"
      ]
     },
     "execution_count": 75,
     "metadata": {},
     "output_type": "execute_result"
    }
   ],
   "source": [
    "np.arange(0,16).reshape( (4,4) )"
   ]
  },
  {
   "cell_type": "code",
   "execution_count": 81,
   "id": "cb78bff7",
   "metadata": {},
   "outputs": [
    {
     "data": {
      "text/plain": [
       "array([0.38840672, 0.24351184, 0.2268054 , 0.62668464, 0.1897047 ,\n",
       "       0.00832081, 0.77081304, 0.19896759, 0.71307259])"
      ]
     },
     "execution_count": 81,
     "metadata": {},
     "output_type": "execute_result"
    }
   ],
   "source": [
    "np.random.random( (3,3) ).ravel()"
   ]
  },
  {
   "cell_type": "markdown",
   "id": "bc5f6813",
   "metadata": {},
   "source": [
    "## Assigning items\n",
    "\n",
    "**`numpy` arrays are mutable** 😱  -- more complicated than immutable, but more memory efficient (changes rather than copies)"
   ]
  },
  {
   "cell_type": "code",
   "execution_count": 83,
   "id": "93fbe3e2",
   "metadata": {},
   "outputs": [
    {
     "data": {
      "text/plain": [
       "array([[0, 0, 0, 0, 0, 0, 0, 0, 0, 0, 0, 0, 0, 0, 0, 0],\n",
       "       [0, 0, 0, 0, 0, 0, 0, 0, 0, 0, 0, 0, 0, 0, 0, 0],\n",
       "       [0, 0, 0, 0, 0, 0, 0, 0, 0, 0, 0, 0, 0, 0, 0, 0],\n",
       "       [0, 0, 0, 0, 0, 0, 0, 0, 0, 0, 0, 0, 0, 0, 0, 0],\n",
       "       [0, 0, 0, 0, 0, 0, 0, 0, 0, 0, 0, 0, 0, 0, 0, 0],\n",
       "       [0, 0, 0, 0, 0, 0, 0, 0, 0, 0, 0, 0, 0, 0, 0, 0],\n",
       "       [0, 0, 0, 0, 0, 0, 0, 0, 0, 0, 0, 0, 0, 0, 0, 0],\n",
       "       [0, 0, 0, 0, 0, 0, 0, 0, 0, 0, 0, 0, 0, 0, 0, 0],\n",
       "       [0, 0, 0, 0, 0, 0, 0, 0, 0, 0, 0, 0, 0, 0, 0, 0],\n",
       "       [0, 0, 0, 0, 0, 0, 0, 0, 0, 0, 0, 0, 0, 0, 0, 0],\n",
       "       [0, 0, 0, 0, 0, 0, 0, 0, 0, 0, 0, 0, 0, 0, 0, 0],\n",
       "       [0, 0, 0, 0, 0, 0, 0, 0, 0, 0, 0, 0, 0, 0, 0, 0]])"
      ]
     },
     "execution_count": 83,
     "metadata": {},
     "output_type": "execute_result"
    }
   ],
   "source": [
    "A = np.zeros( (12,16), dtype=\"int\")\n",
    "A"
   ]
  },
  {
   "cell_type": "code",
   "execution_count": 84,
   "id": "b7e76c24",
   "metadata": {},
   "outputs": [],
   "source": [
    "A[7,2] = 4"
   ]
  },
  {
   "cell_type": "code",
   "execution_count": 85,
   "id": "0ddd3b6a",
   "metadata": {},
   "outputs": [
    {
     "data": {
      "text/plain": [
       "array([[0, 0, 0, 0, 0, 0, 0, 0, 0, 0, 0, 0, 0, 0, 0, 0],\n",
       "       [0, 0, 0, 0, 0, 0, 0, 0, 0, 0, 0, 0, 0, 0, 0, 0],\n",
       "       [0, 0, 0, 0, 0, 0, 0, 0, 0, 0, 0, 0, 0, 0, 0, 0],\n",
       "       [0, 0, 0, 0, 0, 0, 0, 0, 0, 0, 0, 0, 0, 0, 0, 0],\n",
       "       [0, 0, 0, 0, 0, 0, 0, 0, 0, 0, 0, 0, 0, 0, 0, 0],\n",
       "       [0, 0, 0, 0, 0, 0, 0, 0, 0, 0, 0, 0, 0, 0, 0, 0],\n",
       "       [0, 0, 0, 0, 0, 0, 0, 0, 0, 0, 0, 0, 0, 0, 0, 0],\n",
       "       [0, 0, 4, 0, 0, 0, 0, 0, 0, 0, 0, 0, 0, 0, 0, 0],\n",
       "       [0, 0, 0, 0, 0, 0, 0, 0, 0, 0, 0, 0, 0, 0, 0, 0],\n",
       "       [0, 0, 0, 0, 0, 0, 0, 0, 0, 0, 0, 0, 0, 0, 0, 0],\n",
       "       [0, 0, 0, 0, 0, 0, 0, 0, 0, 0, 0, 0, 0, 0, 0, 0],\n",
       "       [0, 0, 0, 0, 0, 0, 0, 0, 0, 0, 0, 0, 0, 0, 0, 0]])"
      ]
     },
     "execution_count": 85,
     "metadata": {},
     "output_type": "execute_result"
    }
   ],
   "source": [
    "A"
   ]
  },
  {
   "cell_type": "code",
   "execution_count": 87,
   "id": "5957c24d",
   "metadata": {},
   "outputs": [
    {
     "data": {
      "text/plain": [
       "array([0, 0, 4, 0, 0, 0, 0, 0, 0, 0, 0, 0, 0, 0, 0, 0])"
      ]
     },
     "execution_count": 87,
     "metadata": {},
     "output_type": "execute_result"
    }
   ],
   "source": [
    "A[7]  # row 7, column ANYTHING, i.e. the entire row 7 as a vector"
   ]
  },
  {
   "cell_type": "code",
   "execution_count": 88,
   "id": "e013cd32",
   "metadata": {},
   "outputs": [
    {
     "data": {
      "text/plain": [
       "array([0, 0, 0, 0, 0, 0, 0, 4, 0, 0, 0, 0])"
      ]
     },
     "execution_count": 88,
     "metadata": {},
     "output_type": "execute_result"
    }
   ],
   "source": [
    "A[:, 2] # all rows, column 2, i.e. the entire column 2 a a vector"
   ]
  },
  {
   "cell_type": "markdown",
   "id": "caeef09f",
   "metadata": {},
   "source": [
    "## Slices\n",
    "\n",
    "Can combine slice notation with multiple indices."
   ]
  },
  {
   "cell_type": "code",
   "execution_count": 91,
   "id": "029b0199",
   "metadata": {},
   "outputs": [
    {
     "data": {
      "text/plain": [
       "['b', 'c']"
      ]
     },
     "execution_count": 91,
     "metadata": {},
     "output_type": "execute_result"
    }
   ],
   "source": [
    "L = [\"a\",\"b\",\"c\",\"d\",\"e\"]\n",
    "L[1:3]  # this is a slice"
   ]
  },
  {
   "cell_type": "code",
   "execution_count": null,
   "id": "1a02606d",
   "metadata": {},
   "outputs": [],
   "source": [
    "L[:] # slice that starts at beginning of the list and ends just past the end of the list"
   ]
  },
  {
   "cell_type": "code",
   "execution_count": 105,
   "id": "b0ff4143",
   "metadata": {},
   "outputs": [
    {
     "data": {
      "text/plain": [
       "array([[ 1,  2,  3,  4,  5],\n",
       "       [ 6,  7,  8,  9, 10],\n",
       "       [11, 12, 13, 14, 15],\n",
       "       [16, 17, 18, 19, 20],\n",
       "       [21, 22, 23, 24, 25],\n",
       "       [26, 27, 28, 29, 30],\n",
       "       [31, 32, 33, 34, 35],\n",
       "       [36, 37, 38, 39, 40],\n",
       "       [41, 42, 43, 44, 45],\n",
       "       [46, 47, 48, 49, 50],\n",
       "       [51, 52, 53, 54, 55],\n",
       "       [56, 57, 58, 59, 60]])"
      ]
     },
     "execution_count": 105,
     "metadata": {},
     "output_type": "execute_result"
    }
   ],
   "source": [
    "A = np.arange(12*5,dtype=\"int\").reshape( (12,5) ) + 1\n",
    "A"
   ]
  },
  {
   "cell_type": "code",
   "execution_count": 104,
   "id": "b00f4f73",
   "metadata": {},
   "outputs": [
    {
     "data": {
      "text/plain": [
       "array([[16, 17, 18, 19, 20],\n",
       "       [21, 22, 23, 24, 25],\n",
       "       [26, 27, 28, 29, 30]])"
      ]
     },
     "execution_count": 104,
     "metadata": {},
     "output_type": "execute_result"
    }
   ],
   "source": [
    "A[3:6]   # 2D array that consists of rows 3, 4, and 5 from A"
   ]
  },
  {
   "cell_type": "code",
   "execution_count": 106,
   "id": "41180f32",
   "metadata": {},
   "outputs": [
    {
     "data": {
      "text/plain": [
       "array([[ 7,  8,  9],\n",
       "       [12, 13, 14],\n",
       "       [17, 18, 19],\n",
       "       [22, 23, 24],\n",
       "       [27, 28, 29],\n",
       "       [32, 33, 34],\n",
       "       [37, 38, 39],\n",
       "       [42, 43, 44],\n",
       "       [47, 48, 49],\n",
       "       [52, 53, 54]])"
      ]
     },
     "execution_count": 106,
     "metadata": {},
     "output_type": "execute_result"
    }
   ],
   "source": [
    "A[1:-1, 1:-1]   # 2D array with rows 1 up to but not including last\n",
    "                # and cols 1 up to but not including last"
   ]
  },
  {
   "cell_type": "code",
   "execution_count": 108,
   "id": "0c3708ad",
   "metadata": {},
   "outputs": [
    {
     "data": {
      "text/plain": [
       "array([[48, 49],\n",
       "       [53, 54]])"
      ]
     },
     "execution_count": 108,
     "metadata": {},
     "output_type": "execute_result"
    }
   ],
   "source": [
    "A[9:11,2:4]"
   ]
  },
  {
   "cell_type": "code",
   "execution_count": 109,
   "id": "e889807c",
   "metadata": {},
   "outputs": [
    {
     "data": {
      "text/plain": [
       "array([[ 1,  3,  5],\n",
       "       [11, 13, 15],\n",
       "       [21, 23, 25],\n",
       "       [31, 33, 35],\n",
       "       [41, 43, 45],\n",
       "       [51, 53, 55]])"
      ]
     },
     "execution_count": 109,
     "metadata": {},
     "output_type": "execute_result"
    }
   ],
   "source": [
    "A[::2,::2] # all entries whose position has an even-numbered column and row"
   ]
  },
  {
   "cell_type": "code",
   "execution_count": 111,
   "id": "5c87d7bb",
   "metadata": {},
   "outputs": [],
   "source": [
    "# You can use slices in assignment statements\n",
    "A[::2,::2] = 0  # sets all entries in that slice of the matrix to zero"
   ]
  },
  {
   "cell_type": "code",
   "execution_count": 112,
   "id": "f2aab9dc",
   "metadata": {},
   "outputs": [
    {
     "data": {
      "text/plain": [
       "array([[ 0,  2,  0,  4,  0],\n",
       "       [ 6,  7,  8,  9, 10],\n",
       "       [ 0, 12,  0, 14,  0],\n",
       "       [16, 17, 18, 19, 20],\n",
       "       [ 0, 22,  0, 24,  0],\n",
       "       [26, 27, 28, 29, 30],\n",
       "       [ 0, 32,  0, 34,  0],\n",
       "       [36, 37, 38, 39, 40],\n",
       "       [ 0, 42,  0, 44,  0],\n",
       "       [46, 47, 48, 49, 50],\n",
       "       [ 0, 52,  0, 54,  0],\n",
       "       [56, 57, 58, 59, 60]])"
      ]
     },
     "execution_count": 112,
     "metadata": {},
     "output_type": "execute_result"
    }
   ],
   "source": [
    "A"
   ]
  },
  {
   "cell_type": "code",
   "execution_count": 114,
   "id": "b476a175",
   "metadata": {},
   "outputs": [],
   "source": [
    "A[1:4, 1:6] = -1  # the submatrix between rows 1 and 4 (not incl 4) and cols 1 and 6 (not incl 6) is set to -1"
   ]
  },
  {
   "cell_type": "code",
   "execution_count": 115,
   "id": "8b6fae9e",
   "metadata": {},
   "outputs": [
    {
     "data": {
      "text/plain": [
       "array([[ 0,  2,  0,  4,  0],\n",
       "       [ 6, -1, -1, -1, -1],\n",
       "       [ 0, -1, -1, -1, -1],\n",
       "       [16, -1, -1, -1, -1],\n",
       "       [ 0, 22,  0, 24,  0],\n",
       "       [26, 27, 28, 29, 30],\n",
       "       [ 0, 32,  0, 34,  0],\n",
       "       [36, 37, 38, 39, 40],\n",
       "       [ 0, 42,  0, 44,  0],\n",
       "       [46, 47, 48, 49, 50],\n",
       "       [ 0, 52,  0, 54,  0],\n",
       "       [56, 57, 58, 59, 60]])"
      ]
     },
     "execution_count": 115,
     "metadata": {},
     "output_type": "execute_result"
    }
   ],
   "source": [
    "A"
   ]
  },
  {
   "cell_type": "markdown",
   "id": "ab73bf2b",
   "metadata": {},
   "source": [
    "Slices return **views**, not copies."
   ]
  },
  {
   "cell_type": "code",
   "execution_count": 116,
   "id": "c76bb2e5",
   "metadata": {},
   "outputs": [],
   "source": [
    "C = A[-1]  # last row of A"
   ]
  },
  {
   "cell_type": "code",
   "execution_count": 117,
   "id": "b32ea127",
   "metadata": {},
   "outputs": [
    {
     "data": {
      "text/plain": [
       "array([56, 57, 58, 59, 60])"
      ]
     },
     "execution_count": 117,
     "metadata": {},
     "output_type": "execute_result"
    }
   ],
   "source": [
    "C"
   ]
  },
  {
   "cell_type": "code",
   "execution_count": 118,
   "id": "bf60ab2c",
   "metadata": {},
   "outputs": [],
   "source": [
    "C[1::2] += 10  # each element of C at odd index gets increased by 10"
   ]
  },
  {
   "cell_type": "code",
   "execution_count": 119,
   "id": "6bbb458c",
   "metadata": {},
   "outputs": [
    {
     "data": {
      "text/plain": [
       "array([56, 67, 58, 69, 60])"
      ]
     },
     "execution_count": 119,
     "metadata": {},
     "output_type": "execute_result"
    }
   ],
   "source": [
    "C"
   ]
  },
  {
   "cell_type": "code",
   "execution_count": 120,
   "id": "7feec5ef",
   "metadata": {},
   "outputs": [
    {
     "data": {
      "text/plain": [
       "array([[ 0,  2,  0,  4,  0],\n",
       "       [ 6, -1, -1, -1, -1],\n",
       "       [ 0, -1, -1, -1, -1],\n",
       "       [16, -1, -1, -1, -1],\n",
       "       [ 0, 22,  0, 24,  0],\n",
       "       [26, 27, 28, 29, 30],\n",
       "       [ 0, 32,  0, 34,  0],\n",
       "       [36, 37, 38, 39, 40],\n",
       "       [ 0, 42,  0, 44,  0],\n",
       "       [46, 47, 48, 49, 50],\n",
       "       [ 0, 52,  0, 54,  0],\n",
       "       [56, 67, 58, 69, 60]])"
      ]
     },
     "execution_count": 120,
     "metadata": {},
     "output_type": "execute_result"
    }
   ],
   "source": [
    "A"
   ]
  },
  {
   "cell_type": "markdown",
   "id": "49c53103",
   "metadata": {},
   "source": [
    "## Equality and bool\n",
    "\n",
    "`.all()` checks if an array of booleans is all `True`."
   ]
  },
  {
   "cell_type": "code",
   "execution_count": 121,
   "id": "986dedb8",
   "metadata": {},
   "outputs": [],
   "source": [
    "A = np.array([1,2,3])\n",
    "B = np.array([1,2,4])"
   ]
  },
  {
   "cell_type": "code",
   "execution_count": 122,
   "id": "7d289375",
   "metadata": {},
   "outputs": [
    {
     "data": {
      "text/plain": [
       "array([ True,  True, False])"
      ]
     },
     "execution_count": 122,
     "metadata": {},
     "output_type": "execute_result"
    }
   ],
   "source": [
    "A==B"
   ]
  },
  {
   "cell_type": "code",
   "execution_count": 123,
   "id": "e9fb6cca",
   "metadata": {},
   "outputs": [
    {
     "ename": "ValueError",
     "evalue": "The truth value of an array with more than one element is ambiguous. Use a.any() or a.all()",
     "output_type": "error",
     "traceback": [
      "\u001b[0;31m---------------------------------------------------------------------------\u001b[0m",
      "\u001b[0;31mValueError\u001b[0m                                Traceback (most recent call last)",
      "\u001b[0;32m/tmp/ipykernel_104188/3785048590.py\u001b[0m in \u001b[0;36m<module>\u001b[0;34m\u001b[0m\n\u001b[1;32m      1\u001b[0m \u001b[0;31m# common mistake\u001b[0m\u001b[0;34m\u001b[0m\u001b[0;34m\u001b[0m\u001b[0m\n\u001b[0;32m----> 2\u001b[0;31m \u001b[0;32mif\u001b[0m \u001b[0mA\u001b[0m\u001b[0;34m==\u001b[0m\u001b[0mB\u001b[0m\u001b[0;34m:\u001b[0m\u001b[0;34m\u001b[0m\u001b[0;34m\u001b[0m\u001b[0m\n\u001b[0m\u001b[1;32m      3\u001b[0m     \u001b[0mprint\u001b[0m\u001b[0;34m(\u001b[0m\u001b[0;34m\"They are the same\"\u001b[0m\u001b[0;34m)\u001b[0m\u001b[0;34m\u001b[0m\u001b[0;34m\u001b[0m\u001b[0m\n\u001b[1;32m      4\u001b[0m \u001b[0;32melse\u001b[0m\u001b[0;34m:\u001b[0m\u001b[0;34m\u001b[0m\u001b[0;34m\u001b[0m\u001b[0m\n\u001b[1;32m      5\u001b[0m     \u001b[0mprint\u001b[0m\u001b[0;34m(\u001b[0m\u001b[0;34m\"There is a difference\"\u001b[0m\u001b[0;34m)\u001b[0m\u001b[0;34m\u001b[0m\u001b[0;34m\u001b[0m\u001b[0m\n",
      "\u001b[0;31mValueError\u001b[0m: The truth value of an array with more than one element is ambiguous. Use a.any() or a.all()"
     ]
    }
   ],
   "source": [
    "# common mistake\n",
    "if A==B:\n",
    "    print(\"They are the same\")\n",
    "else:\n",
    "    print(\"There is a difference\")"
   ]
  },
  {
   "cell_type": "code",
   "execution_count": 124,
   "id": "4462e28b",
   "metadata": {},
   "outputs": [
    {
     "name": "stdout",
     "output_type": "stream",
     "text": [
      "There is a difference\n"
     ]
    }
   ],
   "source": [
    "# common fix\n",
    "if np.all(A==B):\n",
    "    print(\"They are the same\")\n",
    "else:\n",
    "    print(\"There is a difference\")"
   ]
  },
  {
   "cell_type": "code",
   "execution_count": 125,
   "id": "7eecf10b",
   "metadata": {},
   "outputs": [
    {
     "name": "stdout",
     "output_type": "stream",
     "text": [
      "There is a difference\n"
     ]
    }
   ],
   "source": [
    "# common fix\n",
    "if np.array_equal(A,B):\n",
    "    print(\"They are the same\")\n",
    "else:\n",
    "    print(\"There is a difference\")"
   ]
  },
  {
   "cell_type": "markdown",
   "id": "bb914bb5",
   "metadata": {},
   "source": [
    "## Ufuncs\n",
    "\n",
    "Functions that automatically apply to each entry in an array."
   ]
  },
  {
   "cell_type": "markdown",
   "id": "f816ad3b",
   "metadata": {},
   "source": [
    "### Some arrays to operate on"
   ]
  },
  {
   "cell_type": "code",
   "execution_count": 131,
   "id": "7eb1e281",
   "metadata": {},
   "outputs": [
    {
     "data": {
      "text/plain": [
       "array([0.  , 0.25, 0.5 , 0.75, 1.  , 1.25, 1.5 , 1.75, 2.  , 2.25, 2.5 ,\n",
       "       2.75, 3.  , 3.25, 3.5 , 3.75, 4.  ])"
      ]
     },
     "execution_count": 131,
     "metadata": {},
     "output_type": "execute_result"
    }
   ],
   "source": [
    "v = np.linspace(0,4,17)\n",
    "v"
   ]
  },
  {
   "cell_type": "markdown",
   "id": "99440cd0",
   "metadata": {},
   "source": [
    "### Examples of numpy ufuncs"
   ]
  },
  {
   "cell_type": "code",
   "execution_count": 134,
   "id": "8dc4ab1f",
   "metadata": {},
   "outputs": [],
   "source": [
    "# slow\n",
    "L = []\n",
    "for x in v:\n",
    "    L.append(np.cos(x))\n",
    "cos_x = np.array(L)"
   ]
  },
  {
   "cell_type": "code",
   "execution_count": 133,
   "id": "868078d1",
   "metadata": {},
   "outputs": [
    {
     "data": {
      "text/plain": [
       "array([ 1.        ,  0.96891242,  0.87758256,  0.73168887,  0.54030231,\n",
       "        0.31532236,  0.0707372 , -0.17824606, -0.41614684, -0.62817362,\n",
       "       -0.80114362, -0.92430238, -0.9899925 , -0.99412968, -0.93645669,\n",
       "       -0.82055936, -0.65364362])"
      ]
     },
     "execution_count": 133,
     "metadata": {},
     "output_type": "execute_result"
    }
   ],
   "source": [
    "cos_x"
   ]
  },
  {
   "cell_type": "code",
   "execution_count": 135,
   "id": "eeecb378",
   "metadata": {},
   "outputs": [
    {
     "data": {
      "text/plain": [
       "array([ 1.        ,  0.96891242,  0.87758256,  0.73168887,  0.54030231,\n",
       "        0.31532236,  0.0707372 , -0.17824606, -0.41614684, -0.62817362,\n",
       "       -0.80114362, -0.92430238, -0.9899925 , -0.99412968, -0.93645669,\n",
       "       -0.82055936, -0.65364362])"
      ]
     },
     "execution_count": 135,
     "metadata": {},
     "output_type": "execute_result"
    }
   ],
   "source": [
    "np.cos(v) # elementwise cosine of the numbres in v"
   ]
  },
  {
   "cell_type": "code",
   "execution_count": 137,
   "id": "2cb58130",
   "metadata": {},
   "outputs": [
    {
     "data": {
      "text/plain": [
       "array([ 0.    ,  0.0625,  0.25  ,  0.5625,  1.    ,  1.5625,  2.25  ,\n",
       "        3.0625,  4.    ,  5.0625,  6.25  ,  7.5625,  9.    , 10.5625,\n",
       "       12.25  , 14.0625, 16.    ])"
      ]
     },
     "execution_count": 137,
     "metadata": {},
     "output_type": "execute_result"
    }
   ],
   "source": [
    "v**2  # exponentiation also automatically operates elementwise"
   ]
  },
  {
   "cell_type": "markdown",
   "id": "5750b807",
   "metadata": {},
   "source": [
    "Let $f(x) = 3x^2 - 8x + 14$.  Apply $f$ to each element of array `v`."
   ]
  },
  {
   "cell_type": "code",
   "execution_count": 138,
   "id": "620c757a",
   "metadata": {},
   "outputs": [],
   "source": [
    "def f(x):\n",
    "    return 3*x**2  - 8*x + 14  # square, scalar mult, and addition are all ufuncs"
   ]
  },
  {
   "cell_type": "code",
   "execution_count": 139,
   "id": "fe1580c1",
   "metadata": {},
   "outputs": [
    {
     "data": {
      "text/plain": [
       "array([14.    , 12.1875, 10.75  ,  9.6875,  9.    ,  8.6875,  8.75  ,\n",
       "        9.1875, 10.    , 11.1875, 12.75  , 14.6875, 17.    , 19.6875,\n",
       "       22.75  , 26.1875, 30.    ])"
      ]
     },
     "execution_count": 139,
     "metadata": {},
     "output_type": "execute_result"
    }
   ],
   "source": [
    "np.array([ f(x) for x in v ])  # slow way"
   ]
  },
  {
   "cell_type": "code",
   "execution_count": 141,
   "id": "4a6dca14",
   "metadata": {},
   "outputs": [
    {
     "data": {
      "text/plain": [
       "array([14.    , 12.1875, 10.75  ,  9.6875,  9.    ,  8.6875,  8.75  ,\n",
       "        9.1875, 10.    , 11.1875, 12.75  , 14.6875, 17.    , 19.6875,\n",
       "       22.75  , 26.1875, 30.    ])"
      ]
     },
     "execution_count": 141,
     "metadata": {},
     "output_type": "execute_result"
    }
   ],
   "source": [
    "f(v) # automatically acts on every entry of v separately"
   ]
  },
  {
   "cell_type": "markdown",
   "id": "f86a385f",
   "metadata": {},
   "source": [
    "## Broadcasting"
   ]
  },
  {
   "cell_type": "code",
   "execution_count": 144,
   "id": "c7837f69",
   "metadata": {},
   "outputs": [
    {
     "data": {
      "text/plain": [
       "array([[513, 514],\n",
       "       [515, 516]])"
      ]
     },
     "execution_count": 144,
     "metadata": {},
     "output_type": "execute_result"
    }
   ],
   "source": [
    "np.array([[1,2],[3,4]]) + 512  # elementwise"
   ]
  },
  {
   "cell_type": "code",
   "execution_count": 146,
   "id": "5cb11562",
   "metadata": {},
   "outputs": [
    {
     "data": {
      "text/plain": [
       "array([[513, 514],\n",
       "       [515, 516]])"
      ]
     },
     "execution_count": 146,
     "metadata": {},
     "output_type": "execute_result"
    }
   ],
   "source": [
    "np.array([[1,2],[3,4]]) + np.array([[512,512],[512,512]])  # what actually happens"
   ]
  },
  {
   "cell_type": "code",
   "execution_count": 147,
   "id": "004d9177",
   "metadata": {},
   "outputs": [
    {
     "data": {
      "text/plain": [
       "array([[  11,  102, 1003],\n",
       "       [  14,  105, 1006]])"
      ]
     },
     "execution_count": 147,
     "metadata": {},
     "output_type": "execute_result"
    }
   ],
   "source": [
    "np.array([[1,2,3],[4,5,6]]) + np.array([10,100,1000]) # matrix + row\n",
    "# 10,100,1000 gets added to each row of the matrix"
   ]
  },
  {
   "cell_type": "markdown",
   "id": "dd2318f3",
   "metadata": {},
   "source": [
    "## Aggregations\n",
    "\n",
    "`sum`, `max`, `min`, `argmax`, `argmin`, `mean`, `all`, `any`, `array_equal`"
   ]
  },
  {
   "cell_type": "code",
   "execution_count": null,
   "id": "72eb3e0c",
   "metadata": {},
   "outputs": [],
   "source": []
  },
  {
   "cell_type": "markdown",
   "id": "08858554",
   "metadata": {},
   "source": [
    "## Masks"
   ]
  },
  {
   "cell_type": "code",
   "execution_count": 149,
   "id": "1390ac88",
   "metadata": {},
   "outputs": [],
   "source": [
    "B = np.array([[1,2,3],[4,5,6]]) + np.array([10,100,1000])"
   ]
  },
  {
   "cell_type": "code",
   "execution_count": 150,
   "id": "947d5502",
   "metadata": {},
   "outputs": [
    {
     "data": {
      "text/plain": [
       "array([[  11,  102, 1003],\n",
       "       [  14,  105, 1006]])"
      ]
     },
     "execution_count": 150,
     "metadata": {},
     "output_type": "execute_result"
    }
   ],
   "source": [
    "B"
   ]
  },
  {
   "cell_type": "code",
   "execution_count": 151,
   "id": "8c6858bb",
   "metadata": {},
   "outputs": [
    {
     "data": {
      "text/plain": [
       "array([[False,  True,  True],\n",
       "       [False,  True,  True]])"
      ]
     },
     "execution_count": 151,
     "metadata": {},
     "output_type": "execute_result"
    }
   ],
   "source": [
    "B > 100"
   ]
  },
  {
   "cell_type": "code",
   "execution_count": 152,
   "id": "8c226891",
   "metadata": {},
   "outputs": [],
   "source": [
    "B[ B > 100 ] = 0   # Every element of B that is greater than 100 should be set to zero"
   ]
  },
  {
   "cell_type": "code",
   "execution_count": 155,
   "id": "2e296bef",
   "metadata": {},
   "outputs": [],
   "source": [
    "A[ A < 0 ] = 0  #\n",
    "A[ A > 1 ] = 1  #  clamp A between 0 and 1"
   ]
  },
  {
   "cell_type": "markdown",
   "id": "9909646e",
   "metadata": {},
   "source": [
    "## Pillow integration\n",
    "\n",
    "* `np.array(img)` just works, if `img` is a `PIL.Image` object\n",
    "* Use `PIL.Image.fromarray(A)` to make an image from an array\n",
    "    * Shape `(height,width)` and dtype `uint8` for grayscale\n",
    "    * Shape `(height,width,3)` and dtype `uint8` for color (last axis is red, green, blue)"
   ]
  },
  {
   "cell_type": "code",
   "execution_count": null,
   "id": "9c9a0e35",
   "metadata": {},
   "outputs": [],
   "source": []
  }
 ],
 "metadata": {
  "kernelspec": {
   "display_name": "Python 3 (ipykernel)",
   "language": "python",
   "name": "python3"
  },
  "language_info": {
   "codemirror_mode": {
    "name": "ipython",
    "version": 3
   },
   "file_extension": ".py",
   "mimetype": "text/x-python",
   "name": "python",
   "nbconvert_exporter": "python",
   "pygments_lexer": "ipython3",
   "version": "3.10.12"
  }
 },
 "nbformat": 4,
 "nbformat_minor": 5
}
