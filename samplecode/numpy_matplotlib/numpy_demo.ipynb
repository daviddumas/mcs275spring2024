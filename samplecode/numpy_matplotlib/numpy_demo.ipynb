{
 "cells": [
  {
   "cell_type": "markdown",
   "id": "90415c86",
   "metadata": {},
   "source": [
    "# Demo of some `numpy` features\n",
    "\n",
    "## MCS 275 Spring 2024 - David Dumas\n",
    "\n",
    "This is a quick tour of some `numpy` features.  For more detail see:\n",
    "* [Chapter 2 of VanderPlas](https://jakevdp.github.io/PythonDataScienceHandbook/02.00-introduction-to-numpy.html)\n",
    "* [The numpy documentation](https://numpy.org/doc/stable/)"
   ]
  },
  {
   "cell_type": "markdown",
   "id": "d5ffa02e",
   "metadata": {},
   "source": [
    "## Importing the module\n",
    "\n",
    "And checking the version."
   ]
  },
  {
   "cell_type": "code",
   "execution_count": 1,
   "id": "89d672f7",
   "metadata": {},
   "outputs": [
    {
     "name": "stdout",
     "output_type": "stream",
     "text": [
      "1.21.5\n"
     ]
    }
   ],
   "source": [
    "import numpy as np\n",
    "print(np.__version__)"
   ]
  },
  {
   "cell_type": "markdown",
   "id": "91294334",
   "metadata": {},
   "source": [
    "## Creating arrays\n",
    "\n",
    "They are iterable and type-homogeneous.  Can make one from any suitable iterable.\n",
    "\n",
    "[List of built-in dtypes](https://numpy.org/doc/stable/reference/arrays.scalars.html#arrays-scalars-built-in)."
   ]
  },
  {
   "cell_type": "code",
   "execution_count": 4,
   "id": "68896296",
   "metadata": {},
   "outputs": [],
   "source": [
    "x = np.array( [-3,5,91,45,16,5.1] )"
   ]
  },
  {
   "cell_type": "code",
   "execution_count": 5,
   "id": "f58a2530",
   "metadata": {},
   "outputs": [
    {
     "data": {
      "text/plain": [
       "array([-3. ,  5. , 91. , 45. , 16. ,  5.1])"
      ]
     },
     "execution_count": 5,
     "metadata": {},
     "output_type": "execute_result"
    }
   ],
   "source": [
    "x"
   ]
  },
  {
   "cell_type": "code",
   "execution_count": 6,
   "id": "dbfd3096",
   "metadata": {},
   "outputs": [],
   "source": [
    "A = np.array([\n",
    "    [1,7],\n",
    "    [0,0],\n",
    "    [5,-2],\n",
    "    [-3,-8]\n",
    "]\n",
    ")"
   ]
  },
  {
   "cell_type": "code",
   "execution_count": 7,
   "id": "fbf0d7e0",
   "metadata": {},
   "outputs": [
    {
     "data": {
      "text/plain": [
       "array([[ 1,  7],\n",
       "       [ 0,  0],\n",
       "       [ 5, -2],\n",
       "       [-3, -8]])"
      ]
     },
     "execution_count": 7,
     "metadata": {},
     "output_type": "execute_result"
    }
   ],
   "source": [
    "A"
   ]
  },
  {
   "cell_type": "code",
   "execution_count": 8,
   "id": "f7287b7b",
   "metadata": {},
   "outputs": [],
   "source": [
    "long_vector = np.array( range(10_000) )"
   ]
  },
  {
   "cell_type": "code",
   "execution_count": 9,
   "id": "9a4b3648",
   "metadata": {},
   "outputs": [
    {
     "data": {
      "text/plain": [
       "array([   0,    1,    2, ..., 9997, 9998, 9999])"
      ]
     },
     "execution_count": 9,
     "metadata": {},
     "output_type": "execute_result"
    }
   ],
   "source": [
    "long_vector"
   ]
  },
  {
   "cell_type": "markdown",
   "id": "a4da6e09",
   "metadata": {},
   "source": [
    "Check number of dimensions"
   ]
  },
  {
   "cell_type": "code",
   "execution_count": 10,
   "id": "cf9d9f29",
   "metadata": {},
   "outputs": [
    {
     "data": {
      "text/plain": [
       "1"
      ]
     },
     "execution_count": 10,
     "metadata": {},
     "output_type": "execute_result"
    }
   ],
   "source": [
    "x.ndim"
   ]
  },
  {
   "cell_type": "code",
   "execution_count": 11,
   "id": "6178eb9a",
   "metadata": {},
   "outputs": [
    {
     "data": {
      "text/plain": [
       "2"
      ]
     },
     "execution_count": 11,
     "metadata": {},
     "output_type": "execute_result"
    }
   ],
   "source": [
    "A.ndim"
   ]
  },
  {
   "cell_type": "markdown",
   "id": "536111f4",
   "metadata": {},
   "source": [
    "Check shape (size in each dimension)"
   ]
  },
  {
   "cell_type": "code",
   "execution_count": 13,
   "id": "49c8919c",
   "metadata": {},
   "outputs": [
    {
     "data": {
      "text/plain": [
       "tuple"
      ]
     },
     "execution_count": 13,
     "metadata": {},
     "output_type": "execute_result"
    }
   ],
   "source": [
    "x.shape"
   ]
  },
  {
   "cell_type": "code",
   "execution_count": 14,
   "id": "c1d69ae4",
   "metadata": {},
   "outputs": [
    {
     "data": {
      "text/plain": [
       "6"
      ]
     },
     "execution_count": 14,
     "metadata": {},
     "output_type": "execute_result"
    }
   ],
   "source": [
    "# how many elements are in the vector x?\n",
    "x.shape[0]"
   ]
  },
  {
   "cell_type": "code",
   "execution_count": 15,
   "id": "6d5b475f",
   "metadata": {},
   "outputs": [
    {
     "data": {
      "text/plain": [
       "(4, 2)"
      ]
     },
     "execution_count": 15,
     "metadata": {},
     "output_type": "execute_result"
    }
   ],
   "source": [
    "A.shape"
   ]
  },
  {
   "cell_type": "code",
   "execution_count": 16,
   "id": "2527381b",
   "metadata": {},
   "outputs": [
    {
     "data": {
      "text/plain": [
       "array([[ 1,  7],\n",
       "       [ 0,  0],\n",
       "       [ 5, -2],\n",
       "       [-3, -8]])"
      ]
     },
     "execution_count": 16,
     "metadata": {},
     "output_type": "execute_result"
    }
   ],
   "source": [
    "A"
   ]
  },
  {
   "cell_type": "markdown",
   "id": "8174347f",
   "metadata": {},
   "source": [
    "Check \"length\" (first elt of shape)"
   ]
  },
  {
   "cell_type": "code",
   "execution_count": 17,
   "id": "53ab2831",
   "metadata": {},
   "outputs": [
    {
     "data": {
      "text/plain": [
       "6"
      ]
     },
     "execution_count": 17,
     "metadata": {},
     "output_type": "execute_result"
    }
   ],
   "source": [
    "len(x)  # same as x.shape[0]"
   ]
  },
  {
   "cell_type": "code",
   "execution_count": 18,
   "id": "b95ba5e4",
   "metadata": {},
   "outputs": [
    {
     "data": {
      "text/plain": [
       "4"
      ]
     },
     "execution_count": 18,
     "metadata": {},
     "output_type": "execute_result"
    }
   ],
   "source": [
    "len(A)"
   ]
  },
  {
   "cell_type": "markdown",
   "id": "6faadb20",
   "metadata": {
    "scrolled": true
   },
   "source": [
    "Check data type"
   ]
  },
  {
   "cell_type": "code",
   "execution_count": 20,
   "id": "2171a1bc",
   "metadata": {},
   "outputs": [
    {
     "data": {
      "text/plain": [
       "array([-3. ,  5. , 91. , 45. , 16. ,  5.1])"
      ]
     },
     "execution_count": 20,
     "metadata": {},
     "output_type": "execute_result"
    }
   ],
   "source": [
    "x"
   ]
  },
  {
   "cell_type": "code",
   "execution_count": 19,
   "id": "ddc9282b",
   "metadata": {},
   "outputs": [
    {
     "data": {
      "text/plain": [
       "dtype('float64')"
      ]
     },
     "execution_count": 19,
     "metadata": {},
     "output_type": "execute_result"
    }
   ],
   "source": [
    "x.dtype"
   ]
  },
  {
   "cell_type": "markdown",
   "id": "093de5cf",
   "metadata": {},
   "source": [
    "Data type typically inferred but can be specified (potential lossy process)"
   ]
  },
  {
   "cell_type": "code",
   "execution_count": 21,
   "id": "37a60774",
   "metadata": {},
   "outputs": [],
   "source": [
    "y = np.array([5,6,0,0,2,5,1], dtype=\"float64\")"
   ]
  },
  {
   "cell_type": "code",
   "execution_count": 22,
   "id": "95d0b122",
   "metadata": {},
   "outputs": [
    {
     "data": {
      "text/plain": [
       "array([5., 6., 0., 0., 2., 5., 1.])"
      ]
     },
     "execution_count": 22,
     "metadata": {},
     "output_type": "execute_result"
    }
   ],
   "source": [
    "y"
   ]
  },
  {
   "cell_type": "markdown",
   "id": "0d4b7606",
   "metadata": {},
   "source": [
    "`uint8` means *u*nsigned *int*eger of 8 bits.  \n",
    "Minimum is 0, maximum is 255.\n"
   ]
  },
  {
   "cell_type": "code",
   "execution_count": 26,
   "id": "077bcc40",
   "metadata": {},
   "outputs": [
    {
     "name": "stdout",
     "output_type": "stream",
     "text": [
      "[  2 249   0 100 200  44 244  16]\n"
     ]
    }
   ],
   "source": [
    "z = np.array([2,-7,0,100,200,300,500,10000], dtype=\"uint8\")\n",
    "print(z)"
   ]
  },
  {
   "cell_type": "markdown",
   "id": "cc2520fa",
   "metadata": {},
   "source": [
    "Can make a 2D array (matrix) from a list of lists"
   ]
  },
  {
   "cell_type": "code",
   "execution_count": null,
   "id": "deddc718",
   "metadata": {},
   "outputs": [],
   "source": []
  },
  {
   "cell_type": "markdown",
   "id": "5930ca0e",
   "metadata": {},
   "source": [
    "## Filled arrays"
   ]
  },
  {
   "cell_type": "markdown",
   "id": "96e31668",
   "metadata": {},
   "source": [
    "Can fill with zeros, ones, or make an array full of a general value."
   ]
  },
  {
   "cell_type": "code",
   "execution_count": 27,
   "id": "134e443f",
   "metadata": {},
   "outputs": [
    {
     "data": {
      "text/plain": [
       "array([0., 0., 0., 0., 0., 0., 0., 0., 0., 0.])"
      ]
     },
     "execution_count": 27,
     "metadata": {},
     "output_type": "execute_result"
    }
   ],
   "source": [
    "np.zeros(10)"
   ]
  },
  {
   "cell_type": "code",
   "execution_count": 29,
   "id": "96d40815",
   "metadata": {},
   "outputs": [
    {
     "data": {
      "text/plain": [
       "array([[0., 0., 0., 0., 0., 0., 0., 0., 0., 0., 0., 0., 0., 0., 0.],\n",
       "       [0., 0., 0., 0., 0., 0., 0., 0., 0., 0., 0., 0., 0., 0., 0.],\n",
       "       [0., 0., 0., 0., 0., 0., 0., 0., 0., 0., 0., 0., 0., 0., 0.],\n",
       "       [0., 0., 0., 0., 0., 0., 0., 0., 0., 0., 0., 0., 0., 0., 0.],\n",
       "       [0., 0., 0., 0., 0., 0., 0., 0., 0., 0., 0., 0., 0., 0., 0.]])"
      ]
     },
     "execution_count": 29,
     "metadata": {},
     "output_type": "execute_result"
    }
   ],
   "source": [
    "np.zeros( (5,15) )"
   ]
  },
  {
   "cell_type": "code",
   "execution_count": 30,
   "id": "c606c5b6",
   "metadata": {},
   "outputs": [
    {
     "data": {
      "text/plain": [
       "array([[0, 0, 0],\n",
       "       [0, 0, 0],\n",
       "       [0, 0, 0]])"
      ]
     },
     "execution_count": 30,
     "metadata": {},
     "output_type": "execute_result"
    }
   ],
   "source": [
    "np.zeros((3,3), dtype=\"int\")"
   ]
  },
  {
   "cell_type": "code",
   "execution_count": 31,
   "id": "3800ad91",
   "metadata": {},
   "outputs": [
    {
     "data": {
      "text/plain": [
       "array([[False, False, False],\n",
       "       [False, False, False],\n",
       "       [False, False, False]])"
      ]
     },
     "execution_count": 31,
     "metadata": {},
     "output_type": "execute_result"
    }
   ],
   "source": [
    "np.zeros((3,3), dtype=\"bool\")"
   ]
  },
  {
   "cell_type": "code",
   "execution_count": 32,
   "id": "8c647205",
   "metadata": {},
   "outputs": [
    {
     "data": {
      "text/plain": [
       "True"
      ]
     },
     "execution_count": 32,
     "metadata": {},
     "output_type": "execute_result"
    }
   ],
   "source": [
    "True == 1"
   ]
  },
  {
   "cell_type": "markdown",
   "id": "649cede8",
   "metadata": {},
   "source": [
    "Can also ask for an array filled with random values (floats between 0 and 1, never exactly 1, uniformly distributed).  Note `np.random` is a submodule, you want `np.random.random(...)`"
   ]
  },
  {
   "cell_type": "code",
   "execution_count": 33,
   "id": "67c8a33a",
   "metadata": {},
   "outputs": [
    {
     "data": {
      "text/plain": [
       "array([0.28614261, 0.65501536, 0.90492018, 0.75424583, 0.13442153,\n",
       "       0.73298525, 0.09509374, 0.97043484, 0.40662834, 0.56457747])"
      ]
     },
     "execution_count": 33,
     "metadata": {},
     "output_type": "execute_result"
    }
   ],
   "source": [
    "np.random.random(10)"
   ]
  },
  {
   "cell_type": "code",
   "execution_count": 35,
   "id": "0bdd38d5",
   "metadata": {},
   "outputs": [
    {
     "data": {
      "text/plain": [
       "array([[0.54226901, 0.62847445, 0.44242965],\n",
       "       [0.01640402, 0.5690059 , 0.84967372],\n",
       "       [0.11036265, 0.80254551, 0.40854342],\n",
       "       [0.74652201, 0.96222029, 0.8792049 ],\n",
       "       [0.12861055, 0.5678108 , 0.18391426],\n",
       "       [0.88869421, 0.96376697, 0.29301565],\n",
       "       [0.80092353, 0.61597063, 0.0138651 ],\n",
       "       [0.52926654, 0.99438864, 0.83511244],\n",
       "       [0.35222131, 0.1606797 , 0.67823432],\n",
       "       [0.26783098, 0.08364909, 0.2833546 ]])"
      ]
     },
     "execution_count": 35,
     "metadata": {},
     "output_type": "execute_result"
    }
   ],
   "source": [
    "np.random.random((10,3))"
   ]
  },
  {
   "cell_type": "markdown",
   "id": "3d234ed0",
   "metadata": {},
   "source": [
    "## Special things about 2D arrays"
   ]
  },
  {
   "cell_type": "markdown",
   "id": "c913b0db",
   "metadata": {},
   "source": [
    "Identity (eye-dentity) matrix"
   ]
  },
  {
   "cell_type": "code",
   "execution_count": null,
   "id": "e8ed0c3e",
   "metadata": {},
   "outputs": [],
   "source": []
  },
  {
   "cell_type": "markdown",
   "id": "96cc0211",
   "metadata": {},
   "source": [
    "Transpose"
   ]
  },
  {
   "cell_type": "code",
   "execution_count": null,
   "id": "9906a836",
   "metadata": {},
   "outputs": [],
   "source": []
  },
  {
   "cell_type": "markdown",
   "id": "c6237fb2",
   "metadata": {},
   "source": [
    "## Vector algebra"
   ]
  },
  {
   "cell_type": "code",
   "execution_count": 36,
   "id": "0e71de5d",
   "metadata": {},
   "outputs": [],
   "source": [
    "u = np.array( [2,5,8] )\n",
    "v = np.array( [3,0,0])\n",
    "w = np.array( [1,-2,1] )"
   ]
  },
  {
   "cell_type": "markdown",
   "id": "a82c5829",
   "metadata": {},
   "source": [
    "Dot product (and vector length)"
   ]
  },
  {
   "cell_type": "code",
   "execution_count": 37,
   "id": "867dacfd",
   "metadata": {},
   "outputs": [
    {
     "data": {
      "text/plain": [
       "3"
      ]
     },
     "execution_count": 37,
     "metadata": {},
     "output_type": "execute_result"
    }
   ],
   "source": [
    "np.dot(v,w)"
   ]
  },
  {
   "cell_type": "code",
   "execution_count": 38,
   "id": "52300d33",
   "metadata": {},
   "outputs": [
    {
     "data": {
      "text/plain": [
       "3"
      ]
     },
     "execution_count": 38,
     "metadata": {},
     "output_type": "execute_result"
    }
   ],
   "source": [
    "v.dot(w)"
   ]
  },
  {
   "cell_type": "code",
   "execution_count": 39,
   "id": "8224f675",
   "metadata": {},
   "outputs": [
    {
     "data": {
      "text/plain": [
       "3"
      ]
     },
     "execution_count": 39,
     "metadata": {},
     "output_type": "execute_result"
    }
   ],
   "source": [
    "w.dot(v)"
   ]
  },
  {
   "cell_type": "code",
   "execution_count": 40,
   "id": "f1a370f1",
   "metadata": {},
   "outputs": [
    {
     "data": {
      "text/plain": [
       "9.643650760992955"
      ]
     },
     "execution_count": 40,
     "metadata": {},
     "output_type": "execute_result"
    }
   ],
   "source": [
    "u.dot(u) ** 0.5  # length of the vector u (Euclidean sense)"
   ]
  },
  {
   "cell_type": "markdown",
   "id": "7210680d",
   "metadata": {},
   "source": [
    "Scalar multiplication"
   ]
  },
  {
   "cell_type": "code",
   "execution_count": 41,
   "id": "628cbe6e",
   "metadata": {},
   "outputs": [
    {
     "data": {
      "text/plain": [
       "array([ 3. ,  7.5, 12. ])"
      ]
     },
     "execution_count": 41,
     "metadata": {},
     "output_type": "execute_result"
    }
   ],
   "source": [
    "1.5 * u"
   ]
  },
  {
   "cell_type": "code",
   "execution_count": 42,
   "id": "9fdbb191",
   "metadata": {},
   "outputs": [
    {
     "data": {
      "text/plain": [
       "array([2, 5, 8])"
      ]
     },
     "execution_count": 42,
     "metadata": {},
     "output_type": "execute_result"
    }
   ],
   "source": [
    "u"
   ]
  },
  {
   "cell_type": "markdown",
   "id": "0ce5e815",
   "metadata": {},
   "source": [
    "Elementwise sum"
   ]
  },
  {
   "cell_type": "code",
   "execution_count": 43,
   "id": "8a916a7b",
   "metadata": {},
   "outputs": [
    {
     "data": {
      "text/plain": [
       "array([2, 5, 8])"
      ]
     },
     "execution_count": 43,
     "metadata": {},
     "output_type": "execute_result"
    }
   ],
   "source": [
    "u"
   ]
  },
  {
   "cell_type": "code",
   "execution_count": 44,
   "id": "4553d9ec",
   "metadata": {},
   "outputs": [
    {
     "data": {
      "text/plain": [
       "array([3, 0, 0])"
      ]
     },
     "execution_count": 44,
     "metadata": {},
     "output_type": "execute_result"
    }
   ],
   "source": [
    "v"
   ]
  },
  {
   "cell_type": "code",
   "execution_count": 45,
   "id": "7b2cd023",
   "metadata": {},
   "outputs": [
    {
     "data": {
      "text/plain": [
       "array([5, 5, 8])"
      ]
     },
     "execution_count": 45,
     "metadata": {},
     "output_type": "execute_result"
    }
   ],
   "source": [
    "u + v"
   ]
  },
  {
   "cell_type": "markdown",
   "id": "1c9b1142",
   "metadata": {},
   "source": [
    "Elementwise product (?!)"
   ]
  },
  {
   "cell_type": "code",
   "execution_count": 46,
   "id": "45959338",
   "metadata": {},
   "outputs": [
    {
     "data": {
      "text/plain": [
       "array([6, 0, 0])"
      ]
     },
     "execution_count": 46,
     "metadata": {},
     "output_type": "execute_result"
    }
   ],
   "source": [
    "u * v  # usually not what you want in geometric setting"
   ]
  },
  {
   "cell_type": "markdown",
   "id": "03b09226",
   "metadata": {},
   "source": [
    "## Arithmetic progressions"
   ]
  },
  {
   "cell_type": "markdown",
   "id": "0d866cfb",
   "metadata": {},
   "source": [
    "* `np.arange` is `start`, `stop`, `step`\n",
    "* `np.linspace` is `first`,`last`,`number`"
   ]
  },
  {
   "cell_type": "code",
   "execution_count": 47,
   "id": "192ccc30",
   "metadata": {},
   "outputs": [
    {
     "data": {
      "text/plain": [
       "[2, 7, 12, 17]"
      ]
     },
     "execution_count": 47,
     "metadata": {},
     "output_type": "execute_result"
    }
   ],
   "source": [
    "list(range(2,20,5))"
   ]
  },
  {
   "cell_type": "code",
   "execution_count": 48,
   "id": "40feff36",
   "metadata": {},
   "outputs": [
    {
     "data": {
      "text/plain": [
       "array([ 2,  7, 12, 17])"
      ]
     },
     "execution_count": 48,
     "metadata": {},
     "output_type": "execute_result"
    }
   ],
   "source": [
    "np.arange(2,20,5)"
   ]
  },
  {
   "cell_type": "code",
   "execution_count": 49,
   "id": "a6ac1d78",
   "metadata": {},
   "outputs": [
    {
     "data": {
      "text/plain": [
       "array([ 2. ,  2.6,  3.2,  3.8,  4.4,  5. ,  5.6,  6.2,  6.8,  7.4,  8. ,\n",
       "        8.6,  9.2,  9.8, 10.4, 11. , 11.6, 12.2, 12.8, 13.4, 14. , 14.6,\n",
       "       15.2, 15.8, 16.4, 17. , 17.6, 18.2, 18.8, 19.4])"
      ]
     },
     "execution_count": 49,
     "metadata": {},
     "output_type": "execute_result"
    }
   ],
   "source": [
    "np.arange(2,20,0.6)"
   ]
  },
  {
   "cell_type": "code",
   "execution_count": 50,
   "id": "5ffcb934",
   "metadata": {},
   "outputs": [
    {
     "data": {
      "text/plain": [
       "array([0. , 0.1, 0.2, 0.3, 0.4, 0.5, 0.6, 0.7, 0.8, 0.9])"
      ]
     },
     "execution_count": 50,
     "metadata": {},
     "output_type": "execute_result"
    }
   ],
   "source": [
    "np.arange(0,1,0.1)"
   ]
  },
  {
   "cell_type": "code",
   "execution_count": 51,
   "id": "05b8ba52",
   "metadata": {},
   "outputs": [
    {
     "data": {
      "text/plain": [
       "array([100.        , 100.06688963, 100.13377926, 100.2006689 ,\n",
       "       100.26755853, 100.33444816, 100.40133779, 100.46822742,\n",
       "       100.53511706, 100.60200669, 100.66889632, 100.73578595,\n",
       "       100.80267559, 100.86956522, 100.93645485, 101.00334448,\n",
       "       101.07023411, 101.13712375, 101.20401338, 101.27090301,\n",
       "       101.33779264, 101.40468227, 101.47157191, 101.53846154,\n",
       "       101.60535117, 101.6722408 , 101.73913043, 101.80602007,\n",
       "       101.8729097 , 101.93979933, 102.00668896, 102.0735786 ,\n",
       "       102.14046823, 102.20735786, 102.27424749, 102.34113712,\n",
       "       102.40802676, 102.47491639, 102.54180602, 102.60869565,\n",
       "       102.67558528, 102.74247492, 102.80936455, 102.87625418,\n",
       "       102.94314381, 103.01003344, 103.07692308, 103.14381271,\n",
       "       103.21070234, 103.27759197, 103.34448161, 103.41137124,\n",
       "       103.47826087, 103.5451505 , 103.61204013, 103.67892977,\n",
       "       103.7458194 , 103.81270903, 103.87959866, 103.94648829,\n",
       "       104.01337793, 104.08026756, 104.14715719, 104.21404682,\n",
       "       104.28093645, 104.34782609, 104.41471572, 104.48160535,\n",
       "       104.54849498, 104.61538462, 104.68227425, 104.74916388,\n",
       "       104.81605351, 104.88294314, 104.94983278, 105.01672241,\n",
       "       105.08361204, 105.15050167, 105.2173913 , 105.28428094,\n",
       "       105.35117057, 105.4180602 , 105.48494983, 105.55183946,\n",
       "       105.6187291 , 105.68561873, 105.75250836, 105.81939799,\n",
       "       105.88628763, 105.95317726, 106.02006689, 106.08695652,\n",
       "       106.15384615, 106.22073579, 106.28762542, 106.35451505,\n",
       "       106.42140468, 106.48829431, 106.55518395, 106.62207358,\n",
       "       106.68896321, 106.75585284, 106.82274247, 106.88963211,\n",
       "       106.95652174, 107.02341137, 107.090301  , 107.15719064,\n",
       "       107.22408027, 107.2909699 , 107.35785953, 107.42474916,\n",
       "       107.4916388 , 107.55852843, 107.62541806, 107.69230769,\n",
       "       107.75919732, 107.82608696, 107.89297659, 107.95986622,\n",
       "       108.02675585, 108.09364548, 108.16053512, 108.22742475,\n",
       "       108.29431438, 108.36120401, 108.42809365, 108.49498328,\n",
       "       108.56187291, 108.62876254, 108.69565217, 108.76254181,\n",
       "       108.82943144, 108.89632107, 108.9632107 , 109.03010033,\n",
       "       109.09698997, 109.1638796 , 109.23076923, 109.29765886,\n",
       "       109.36454849, 109.43143813, 109.49832776, 109.56521739,\n",
       "       109.63210702, 109.69899666, 109.76588629, 109.83277592,\n",
       "       109.89966555, 109.96655518, 110.03344482, 110.10033445,\n",
       "       110.16722408, 110.23411371, 110.30100334, 110.36789298,\n",
       "       110.43478261, 110.50167224, 110.56856187, 110.63545151,\n",
       "       110.70234114, 110.76923077, 110.8361204 , 110.90301003,\n",
       "       110.96989967, 111.0367893 , 111.10367893, 111.17056856,\n",
       "       111.23745819, 111.30434783, 111.37123746, 111.43812709,\n",
       "       111.50501672, 111.57190635, 111.63879599, 111.70568562,\n",
       "       111.77257525, 111.83946488, 111.90635452, 111.97324415,\n",
       "       112.04013378, 112.10702341, 112.17391304, 112.24080268,\n",
       "       112.30769231, 112.37458194, 112.44147157, 112.5083612 ,\n",
       "       112.57525084, 112.64214047, 112.7090301 , 112.77591973,\n",
       "       112.84280936, 112.909699  , 112.97658863, 113.04347826,\n",
       "       113.11036789, 113.17725753, 113.24414716, 113.31103679,\n",
       "       113.37792642, 113.44481605, 113.51170569, 113.57859532,\n",
       "       113.64548495, 113.71237458, 113.77926421, 113.84615385,\n",
       "       113.91304348, 113.97993311, 114.04682274, 114.11371237,\n",
       "       114.18060201, 114.24749164, 114.31438127, 114.3812709 ,\n",
       "       114.44816054, 114.51505017, 114.5819398 , 114.64882943,\n",
       "       114.71571906, 114.7826087 , 114.84949833, 114.91638796,\n",
       "       114.98327759, 115.05016722, 115.11705686, 115.18394649,\n",
       "       115.25083612, 115.31772575, 115.38461538, 115.45150502,\n",
       "       115.51839465, 115.58528428, 115.65217391, 115.71906355,\n",
       "       115.78595318, 115.85284281, 115.91973244, 115.98662207,\n",
       "       116.05351171, 116.12040134, 116.18729097, 116.2541806 ,\n",
       "       116.32107023, 116.38795987, 116.4548495 , 116.52173913,\n",
       "       116.58862876, 116.65551839, 116.72240803, 116.78929766,\n",
       "       116.85618729, 116.92307692, 116.98996656, 117.05685619,\n",
       "       117.12374582, 117.19063545, 117.25752508, 117.32441472,\n",
       "       117.39130435, 117.45819398, 117.52508361, 117.59197324,\n",
       "       117.65886288, 117.72575251, 117.79264214, 117.85953177,\n",
       "       117.9264214 , 117.99331104, 118.06020067, 118.1270903 ,\n",
       "       118.19397993, 118.26086957, 118.3277592 , 118.39464883,\n",
       "       118.46153846, 118.52842809, 118.59531773, 118.66220736,\n",
       "       118.72909699, 118.79598662, 118.86287625, 118.92976589,\n",
       "       118.99665552, 119.06354515, 119.13043478, 119.19732441,\n",
       "       119.26421405, 119.33110368, 119.39799331, 119.46488294,\n",
       "       119.53177258, 119.59866221, 119.66555184, 119.73244147,\n",
       "       119.7993311 , 119.86622074, 119.93311037, 120.        ])"
      ]
     },
     "execution_count": 51,
     "metadata": {},
     "output_type": "execute_result"
    }
   ],
   "source": [
    "np.linspace(100,120,300)"
   ]
  },
  {
   "cell_type": "markdown",
   "id": "6ecc13e2",
   "metadata": {},
   "source": [
    "## Accessing items"
   ]
  },
  {
   "cell_type": "code",
   "execution_count": 52,
   "id": "a896a699",
   "metadata": {},
   "outputs": [
    {
     "data": {
      "text/plain": [
       "array([-3. ,  5. , 91. , 45. , 16. ,  5.1])"
      ]
     },
     "execution_count": 52,
     "metadata": {},
     "output_type": "execute_result"
    }
   ],
   "source": [
    "x"
   ]
  },
  {
   "cell_type": "code",
   "execution_count": 55,
   "id": "451901a2",
   "metadata": {},
   "outputs": [
    {
     "data": {
      "text/plain": [
       "91.0"
      ]
     },
     "execution_count": 55,
     "metadata": {},
     "output_type": "execute_result"
    }
   ],
   "source": [
    "x[2] # 0-based index 2"
   ]
  },
  {
   "cell_type": "code",
   "execution_count": null,
   "id": "60895077",
   "metadata": {},
   "outputs": [],
   "source": []
  },
  {
   "cell_type": "code",
   "execution_count": 54,
   "id": "b44092f2",
   "metadata": {},
   "outputs": [
    {
     "name": "stdout",
     "output_type": "stream",
     "text": [
      "-3.0 is one of the components of that vector\n",
      "its type is <class 'numpy.float64'>\n",
      "5.0 is one of the components of that vector\n",
      "its type is <class 'numpy.float64'>\n",
      "91.0 is one of the components of that vector\n",
      "its type is <class 'numpy.float64'>\n",
      "45.0 is one of the components of that vector\n",
      "its type is <class 'numpy.float64'>\n",
      "16.0 is one of the components of that vector\n",
      "its type is <class 'numpy.float64'>\n",
      "5.1 is one of the components of that vector\n",
      "its type is <class 'numpy.float64'>\n"
     ]
    }
   ],
   "source": [
    "for component in x:\n",
    "    print(component,\"is one of the components of that vector\")\n",
    "    print(\"its type is\",type(component))"
   ]
  },
  {
   "cell_type": "markdown",
   "id": "ee16d473",
   "metadata": {},
   "source": [
    "Multidimensional indexing: use a tuple of indices"
   ]
  },
  {
   "cell_type": "code",
   "execution_count": 56,
   "id": "84bd70fd",
   "metadata": {},
   "outputs": [
    {
     "data": {
      "text/plain": [
       "array([[ 1,  7],\n",
       "       [ 0,  0],\n",
       "       [ 5, -2],\n",
       "       [-3, -8]])"
      ]
     },
     "execution_count": 56,
     "metadata": {},
     "output_type": "execute_result"
    }
   ],
   "source": [
    "A"
   ]
  },
  {
   "cell_type": "code",
   "execution_count": 57,
   "id": "b42682f2",
   "metadata": {},
   "outputs": [
    {
     "data": {
      "text/plain": [
       "-2"
      ]
     },
     "execution_count": 57,
     "metadata": {},
     "output_type": "execute_result"
    }
   ],
   "source": [
    "A[2,1]"
   ]
  },
  {
   "cell_type": "code",
   "execution_count": 58,
   "id": "456a031f",
   "metadata": {},
   "outputs": [],
   "source": [
    "x = 5,6,7,8,8,1"
   ]
  },
  {
   "cell_type": "code",
   "execution_count": 59,
   "id": "90cbe7a4",
   "metadata": {},
   "outputs": [
    {
     "data": {
      "text/plain": [
       "tuple"
      ]
     },
     "execution_count": 59,
     "metadata": {},
     "output_type": "execute_result"
    }
   ],
   "source": [
    "type(x)"
   ]
  },
  {
   "cell_type": "markdown",
   "id": "421a5796",
   "metadata": {},
   "source": [
    "Omitted indices at the end mean \"everything from those dimensions\""
   ]
  },
  {
   "cell_type": "code",
   "execution_count": null,
   "id": "3cf11751",
   "metadata": {},
   "outputs": [],
   "source": []
  },
  {
   "cell_type": "markdown",
   "id": "c208c123",
   "metadata": {},
   "source": [
    "Using `:` as an index means \"everything from that dimension\""
   ]
  },
  {
   "cell_type": "code",
   "execution_count": null,
   "id": "e77936f5",
   "metadata": {},
   "outputs": [],
   "source": []
  },
  {
   "cell_type": "markdown",
   "id": "bc5f6813",
   "metadata": {},
   "source": [
    "## Assigning items\n",
    "\n",
    "**`numpy` arrays are mutable** 😱"
   ]
  },
  {
   "cell_type": "code",
   "execution_count": null,
   "id": "93fbe3e2",
   "metadata": {},
   "outputs": [],
   "source": []
  },
  {
   "cell_type": "markdown",
   "id": "caeef09f",
   "metadata": {},
   "source": [
    "## Slices\n",
    "\n",
    "Can combine slice notation with multiple indices."
   ]
  },
  {
   "cell_type": "code",
   "execution_count": null,
   "id": "029b0199",
   "metadata": {},
   "outputs": [],
   "source": []
  },
  {
   "cell_type": "markdown",
   "id": "ab73bf2b",
   "metadata": {},
   "source": [
    "Slices return **views**, not copies."
   ]
  },
  {
   "cell_type": "code",
   "execution_count": null,
   "id": "c76bb2e5",
   "metadata": {},
   "outputs": [],
   "source": []
  },
  {
   "cell_type": "markdown",
   "id": "49c53103",
   "metadata": {},
   "source": [
    "## Equality and bool\n",
    "\n",
    "`.all()` checks if an array of booleans is all `True`."
   ]
  },
  {
   "cell_type": "code",
   "execution_count": null,
   "id": "986dedb8",
   "metadata": {},
   "outputs": [],
   "source": []
  },
  {
   "cell_type": "markdown",
   "id": "bb914bb5",
   "metadata": {},
   "source": [
    "## Ufuncs\n",
    "\n",
    "Functions that automatically apply to each entry in an array."
   ]
  },
  {
   "cell_type": "markdown",
   "id": "f816ad3b",
   "metadata": {},
   "source": [
    "### Some arrays to operate on"
   ]
  },
  {
   "cell_type": "code",
   "execution_count": null,
   "id": "7eb1e281",
   "metadata": {},
   "outputs": [],
   "source": []
  },
  {
   "cell_type": "markdown",
   "id": "99440cd0",
   "metadata": {},
   "source": [
    "### Examples of numpy ufuncs"
   ]
  },
  {
   "cell_type": "code",
   "execution_count": null,
   "id": "8dc4ab1f",
   "metadata": {},
   "outputs": [],
   "source": []
  },
  {
   "cell_type": "markdown",
   "id": "5750b807",
   "metadata": {},
   "source": [
    "Let $f(x) = 3x^2 - 8x + 14$.  Apply $f$ to each element of array `v`."
   ]
  },
  {
   "cell_type": "code",
   "execution_count": null,
   "id": "620c757a",
   "metadata": {},
   "outputs": [],
   "source": []
  },
  {
   "cell_type": "markdown",
   "id": "f86a385f",
   "metadata": {},
   "source": [
    "## Broadcasting"
   ]
  },
  {
   "cell_type": "code",
   "execution_count": null,
   "id": "c7837f69",
   "metadata": {},
   "outputs": [],
   "source": []
  },
  {
   "cell_type": "markdown",
   "id": "dd2318f3",
   "metadata": {},
   "source": [
    "## Aggregations\n",
    "\n",
    "`sum`, `max`, `min`, `argmax`, `argmin`, `mean`, `all`, `any`, `array_equal`"
   ]
  },
  {
   "cell_type": "code",
   "execution_count": null,
   "id": "72eb3e0c",
   "metadata": {},
   "outputs": [],
   "source": []
  },
  {
   "cell_type": "markdown",
   "id": "08858554",
   "metadata": {},
   "source": [
    "## Masks"
   ]
  },
  {
   "cell_type": "code",
   "execution_count": null,
   "id": "1390ac88",
   "metadata": {},
   "outputs": [],
   "source": []
  },
  {
   "cell_type": "markdown",
   "id": "9909646e",
   "metadata": {},
   "source": [
    "## Pillow integration\n",
    "\n",
    "* `np.array(img)` just works, if `img` is a `PIL.Image` object\n",
    "* Use `PIL.Image.fromarray(A)` to make an image from an array\n",
    "    * Shape `(height,width)` and dtype `uint8` for grayscale\n",
    "    * Shape `(height,width,3)` and dtype `uint8` for color (last axis is red, green, blue)"
   ]
  },
  {
   "cell_type": "code",
   "execution_count": null,
   "id": "9c9a0e35",
   "metadata": {},
   "outputs": [],
   "source": []
  }
 ],
 "metadata": {
  "kernelspec": {
   "display_name": "Python 3 (ipykernel)",
   "language": "python",
   "name": "python3"
  },
  "language_info": {
   "codemirror_mode": {
    "name": "ipython",
    "version": 3
   },
   "file_extension": ".py",
   "mimetype": "text/x-python",
   "name": "python",
   "nbconvert_exporter": "python",
   "pygments_lexer": "ipython3",
   "version": "3.10.12"
  }
 },
 "nbformat": 4,
 "nbformat_minor": 5
}
