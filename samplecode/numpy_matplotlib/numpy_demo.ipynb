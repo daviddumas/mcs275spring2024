{
 "cells": [
  {
   "cell_type": "markdown",
   "id": "90415c86",
   "metadata": {},
   "source": [
    "# Demo of some `numpy` features\n",
    "\n",
    "## MCS 275 Spring 2024 - David Dumas\n",
    "\n",
    "This is a quick tour of some `numpy` features.  For more detail see:\n",
    "* [Chapter 2 of VanderPlas](https://jakevdp.github.io/PythonDataScienceHandbook/02.00-introduction-to-numpy.html)\n",
    "* [The numpy documentation](https://numpy.org/doc/stable/)"
   ]
  },
  {
   "cell_type": "markdown",
   "id": "d5ffa02e",
   "metadata": {},
   "source": [
    "## Importing the module\n",
    "\n",
    "And checking the version."
   ]
  },
  {
   "cell_type": "code",
   "execution_count": 156,
   "id": "89d672f7",
   "metadata": {},
   "outputs": [
    {
     "data": {
      "text/plain": [
       "'1.21.5'"
      ]
     },
     "execution_count": 156,
     "metadata": {},
     "output_type": "execute_result"
    }
   ],
   "source": [
    "import numpy as np\n",
    "np.__version__"
   ]
  },
  {
   "cell_type": "markdown",
   "id": "91294334",
   "metadata": {},
   "source": [
    "## Creating arrays\n",
    "\n",
    "They are iterable and type-homogeneous.  Can make one from any suitable iterable.\n",
    "\n",
    "[List of built-in dtypes](https://numpy.org/doc/stable/reference/arrays.scalars.html#arrays-scalars-built-in)."
   ]
  },
  {
   "cell_type": "code",
   "execution_count": 3,
   "id": "68896296",
   "metadata": {},
   "outputs": [],
   "source": [
    "# `np.array` will convert from an iterable\n",
    "x = np.array([2,4,8,16,32])"
   ]
  },
  {
   "cell_type": "code",
   "execution_count": 8,
   "id": "05995cfc",
   "metadata": {},
   "outputs": [],
   "source": [
    "# List of lists -> 4 row, 3 column matrix (2 dimensional array)\n",
    "A = np.array([[1,2,3],[4,5,6],[7,8,9],[0,2,0]])"
   ]
  },
  {
   "cell_type": "code",
   "execution_count": 11,
   "id": "ee97cd1c",
   "metadata": {},
   "outputs": [
    {
     "name": "stdout",
     "output_type": "stream",
     "text": [
      "[ 2  4  8 16 32]\n",
      "\n",
      "[[1 2 3]\n",
      " [4 5 6]\n",
      " [7 8 9]\n",
      " [0 2 0]]\n"
     ]
    }
   ],
   "source": [
    "# nice display\n",
    "print(x)\n",
    "print()\n",
    "print(A)"
   ]
  },
  {
   "cell_type": "code",
   "execution_count": 13,
   "id": "65571b87",
   "metadata": {},
   "outputs": [
    {
     "data": {
      "text/plain": [
       "numpy.ndarray"
      ]
     },
     "execution_count": 13,
     "metadata": {},
     "output_type": "execute_result"
    }
   ],
   "source": [
    "# ndarray class\n",
    "type(x)"
   ]
  },
  {
   "cell_type": "markdown",
   "id": "a4da6e09",
   "metadata": {},
   "source": [
    "Check number of dimensions"
   ]
  },
  {
   "cell_type": "code",
   "execution_count": 6,
   "id": "4691d548",
   "metadata": {},
   "outputs": [
    {
     "data": {
      "text/plain": [
       "1"
      ]
     },
     "execution_count": 6,
     "metadata": {},
     "output_type": "execute_result"
    }
   ],
   "source": [
    "x.ndim # how many dimensions?"
   ]
  },
  {
   "cell_type": "code",
   "execution_count": 14,
   "id": "8c7e12af",
   "metadata": {},
   "outputs": [
    {
     "data": {
      "text/plain": [
       "2"
      ]
     },
     "execution_count": 14,
     "metadata": {},
     "output_type": "execute_result"
    }
   ],
   "source": [
    "A.ndim"
   ]
  },
  {
   "cell_type": "markdown",
   "id": "536111f4",
   "metadata": {},
   "source": [
    "Check shape (size in each dimension)"
   ]
  },
  {
   "cell_type": "code",
   "execution_count": 7,
   "id": "49c8919c",
   "metadata": {},
   "outputs": [
    {
     "data": {
      "text/plain": [
       "(5,)"
      ]
     },
     "execution_count": 7,
     "metadata": {},
     "output_type": "execute_result"
    }
   ],
   "source": [
    "x.shape # size in each dimension, as a tuple"
   ]
  },
  {
   "cell_type": "code",
   "execution_count": 15,
   "id": "9257352b",
   "metadata": {},
   "outputs": [
    {
     "data": {
      "text/plain": [
       "(4, 3)"
      ]
     },
     "execution_count": 15,
     "metadata": {},
     "output_type": "execute_result"
    }
   ],
   "source": [
    "A.shape"
   ]
  },
  {
   "cell_type": "markdown",
   "id": "8174347f",
   "metadata": {},
   "source": [
    "Check \"length\" (first elt of shape)"
   ]
  },
  {
   "cell_type": "code",
   "execution_count": 16,
   "id": "53ab2831",
   "metadata": {},
   "outputs": [
    {
     "data": {
      "text/plain": [
       "5"
      ]
     },
     "execution_count": 16,
     "metadata": {},
     "output_type": "execute_result"
    }
   ],
   "source": [
    "len(x) # number of items in the vector"
   ]
  },
  {
   "cell_type": "code",
   "execution_count": 17,
   "id": "e65c6643",
   "metadata": {},
   "outputs": [
    {
     "data": {
      "text/plain": [
       "4"
      ]
     },
     "execution_count": 17,
     "metadata": {},
     "output_type": "execute_result"
    }
   ],
   "source": [
    "len(A) # number of rows in the matrix = A.shape[0]"
   ]
  },
  {
   "cell_type": "markdown",
   "id": "21d52f4d",
   "metadata": {},
   "source": [
    "In general, `len(m)` means `m.shape[0]` if `m` is a numpy array."
   ]
  },
  {
   "cell_type": "markdown",
   "id": "6faadb20",
   "metadata": {
    "scrolled": true
   },
   "source": [
    "Check data type"
   ]
  },
  {
   "cell_type": "code",
   "execution_count": 18,
   "id": "ddc9282b",
   "metadata": {},
   "outputs": [
    {
     "data": {
      "text/plain": [
       "dtype('int64')"
      ]
     },
     "execution_count": 18,
     "metadata": {},
     "output_type": "execute_result"
    }
   ],
   "source": [
    "x.dtype # int64 means (signed) integer, 64 bits"
   ]
  },
  {
   "cell_type": "markdown",
   "id": "093de5cf",
   "metadata": {},
   "source": [
    "Data type typically inferred but can be specified (potential lossy process)"
   ]
  },
  {
   "cell_type": "code",
   "execution_count": 19,
   "id": "37a60774",
   "metadata": {},
   "outputs": [],
   "source": [
    "# Given a mix of integers and floats, numpy\n",
    "# will choose a floating point dtype\n",
    "y= np.array([5,6,7,7.289])"
   ]
  },
  {
   "cell_type": "code",
   "execution_count": 20,
   "id": "8a697e99",
   "metadata": {},
   "outputs": [
    {
     "data": {
      "text/plain": [
       "array([5.   , 6.   , 7.   , 7.289])"
      ]
     },
     "execution_count": 20,
     "metadata": {},
     "output_type": "execute_result"
    }
   ],
   "source": [
    "y"
   ]
  },
  {
   "cell_type": "code",
   "execution_count": 21,
   "id": "59b83f0d",
   "metadata": {},
   "outputs": [
    {
     "data": {
      "text/plain": [
       "dtype('float64')"
      ]
     },
     "execution_count": 21,
     "metadata": {},
     "output_type": "execute_result"
    }
   ],
   "source": [
    "y.dtype # float64 means float, 64 bits (double)"
   ]
  },
  {
   "cell_type": "code",
   "execution_count": 22,
   "id": "045b46c1",
   "metadata": {},
   "outputs": [],
   "source": [
    "y_force_int = y= np.array([5,6,7,7.289], dtype=\"int\")"
   ]
  },
  {
   "cell_type": "code",
   "execution_count": 25,
   "id": "c3bcbb8c",
   "metadata": {},
   "outputs": [
    {
     "data": {
      "text/plain": [
       "array([5, 6, 7, 7])"
      ]
     },
     "execution_count": 25,
     "metadata": {},
     "output_type": "execute_result"
    }
   ],
   "source": [
    "# Notice we lost precision by specifying dtype int\n",
    "y_force_int"
   ]
  },
  {
   "cell_type": "code",
   "execution_count": 24,
   "id": "ce0a6602",
   "metadata": {},
   "outputs": [
    {
     "data": {
      "text/plain": [
       "dtype('int64')"
      ]
     },
     "execution_count": 24,
     "metadata": {},
     "output_type": "execute_result"
    }
   ],
   "source": [
    "# Notice numpy chose a precise type compatible with\n",
    "# the request \"int\"\n",
    "y_force_int.dtype"
   ]
  },
  {
   "cell_type": "code",
   "execution_count": 26,
   "id": "be1d312e",
   "metadata": {},
   "outputs": [],
   "source": [
    "# uint8 means UNSIGNED integer, 8 bits\n",
    "# UNSIGNED = only 0 and positive values\n",
    "# range is 0...255\n",
    "z = np.array([1,-1,2,100,300,500,800,16384], dtype=\"uint8\")"
   ]
  },
  {
   "cell_type": "code",
   "execution_count": 27,
   "id": "d6c56406",
   "metadata": {},
   "outputs": [
    {
     "data": {
      "text/plain": [
       "array([  1, 255,   2, 100,  44, 244,  32,   0], dtype=uint8)"
      ]
     },
     "execution_count": 27,
     "metadata": {},
     "output_type": "execute_result"
    }
   ],
   "source": [
    "z"
   ]
  },
  {
   "cell_type": "code",
   "execution_count": 28,
   "id": "012ae30c",
   "metadata": {},
   "outputs": [
    {
     "data": {
      "text/plain": [
       "44"
      ]
     },
     "execution_count": 28,
     "metadata": {},
     "output_type": "execute_result"
    }
   ],
   "source": [
    "# Why did 300 appear as 44 in the array above?\n",
    "300 % 256"
   ]
  },
  {
   "cell_type": "markdown",
   "id": "5930ca0e",
   "metadata": {},
   "source": [
    "## Filled arrays"
   ]
  },
  {
   "cell_type": "markdown",
   "id": "96e31668",
   "metadata": {},
   "source": [
    "Can fill with zeros, ones, or make an array full of a general value."
   ]
  },
  {
   "cell_type": "code",
   "execution_count": 29,
   "id": "134e443f",
   "metadata": {},
   "outputs": [
    {
     "data": {
      "text/plain": [
       "array([[0, 0, 0, 0, 0, 0, 0, 0, 0, 0, 0, 0],\n",
       "       [0, 0, 0, 0, 0, 0, 0, 0, 0, 0, 0, 0],\n",
       "       [0, 0, 0, 0, 0, 0, 0, 0, 0, 0, 0, 0]])"
      ]
     },
     "execution_count": 29,
     "metadata": {},
     "output_type": "execute_result"
    }
   ],
   "source": [
    "# Filled with zeros\n",
    "np.zeros( (3,12), dtype=\"int64\")"
   ]
  },
  {
   "cell_type": "code",
   "execution_count": 30,
   "id": "e1f2dc2c",
   "metadata": {},
   "outputs": [
    {
     "data": {
      "text/plain": [
       "array([[1., 1.],\n",
       "       [1., 1.],\n",
       "       [1., 1.],\n",
       "       [1., 1.],\n",
       "       [1., 1.],\n",
       "       [1., 1.]])"
      ]
     },
     "execution_count": 30,
     "metadata": {},
     "output_type": "execute_result"
    }
   ],
   "source": [
    "# Filled with ones\n",
    "np.ones( (6,2), dtype=\"float64\")"
   ]
  },
  {
   "cell_type": "code",
   "execution_count": 31,
   "id": "5b49b180",
   "metadata": {},
   "outputs": [
    {
     "data": {
      "text/plain": [
       "array([[42, 42, 42, 42],\n",
       "       [42, 42, 42, 42],\n",
       "       [42, 42, 42, 42],\n",
       "       [42, 42, 42, 42],\n",
       "       [42, 42, 42, 42],\n",
       "       [42, 42, 42, 42],\n",
       "       [42, 42, 42, 42]], dtype=uint8)"
      ]
     },
     "execution_count": 31,
     "metadata": {},
     "output_type": "execute_result"
    }
   ],
   "source": [
    "# Filled with one value\n",
    "np.full( (7,4), 42, dtype=\"uint8\" )"
   ]
  },
  {
   "cell_type": "markdown",
   "id": "649cede8",
   "metadata": {},
   "source": [
    "Can also ask for an array filled with random values (floats between 0 and 1, never exactly 1, uniformly distributed).  Note `np.random` is a submodule, you want `np.random.random(...)`"
   ]
  },
  {
   "cell_type": "code",
   "execution_count": 32,
   "id": "67c8a33a",
   "metadata": {},
   "outputs": [
    {
     "data": {
      "text/plain": [
       "array([[0.84985369, 0.52904623, 0.06757972, 0.60749338, 0.44579558],\n",
       "       [0.94276045, 0.22398809, 0.99290933, 0.9505469 , 0.65531365],\n",
       "       [0.0944089 , 0.67245052, 0.25851387, 0.81402906, 0.02156303],\n",
       "       [0.16531779, 0.87858936, 0.60636781, 0.24837322, 0.67221406]])"
      ]
     },
     "execution_count": 32,
     "metadata": {},
     "output_type": "execute_result"
    }
   ],
   "source": [
    "# Filled with random numbers between 0 and 1\n",
    "np.random.random( (4,5) )  # argument is the shape"
   ]
  },
  {
   "cell_type": "markdown",
   "id": "3d234ed0",
   "metadata": {},
   "source": [
    "## Special things about 2D arrays"
   ]
  },
  {
   "cell_type": "markdown",
   "id": "c913b0db",
   "metadata": {},
   "source": [
    "Identity (eye-dentity) matrix\n",
    "\n",
    "$$\n",
    "I_{3 \\times 3} = \\begin{pmatrix}\n",
    "1 & 0 & 0\\\\\n",
    "0 & 1 & 0\\\\\n",
    "0 & 0 & 1\n",
    "\\end{pmatrix}\n",
    "$$"
   ]
  },
  {
   "cell_type": "code",
   "execution_count": 157,
   "id": "e8ed0c3e",
   "metadata": {},
   "outputs": [
    {
     "data": {
      "text/plain": [
       "array([[1., 0., 0.],\n",
       "       [0., 1., 0.],\n",
       "       [0., 0., 1.]])"
      ]
     },
     "execution_count": 157,
     "metadata": {},
     "output_type": "execute_result"
    }
   ],
   "source": [
    "np.eye(3)"
   ]
  },
  {
   "cell_type": "code",
   "execution_count": 158,
   "id": "83e48a0e",
   "metadata": {},
   "outputs": [
    {
     "data": {
      "text/plain": [
       "array([[1., 0., 0., 0., 0., 0., 0., 0., 0., 0., 0., 0., 0., 0., 0.],\n",
       "       [0., 1., 0., 0., 0., 0., 0., 0., 0., 0., 0., 0., 0., 0., 0.],\n",
       "       [0., 0., 1., 0., 0., 0., 0., 0., 0., 0., 0., 0., 0., 0., 0.],\n",
       "       [0., 0., 0., 1., 0., 0., 0., 0., 0., 0., 0., 0., 0., 0., 0.],\n",
       "       [0., 0., 0., 0., 1., 0., 0., 0., 0., 0., 0., 0., 0., 0., 0.],\n",
       "       [0., 0., 0., 0., 0., 1., 0., 0., 0., 0., 0., 0., 0., 0., 0.],\n",
       "       [0., 0., 0., 0., 0., 0., 1., 0., 0., 0., 0., 0., 0., 0., 0.],\n",
       "       [0., 0., 0., 0., 0., 0., 0., 1., 0., 0., 0., 0., 0., 0., 0.],\n",
       "       [0., 0., 0., 0., 0., 0., 0., 0., 1., 0., 0., 0., 0., 0., 0.],\n",
       "       [0., 0., 0., 0., 0., 0., 0., 0., 0., 1., 0., 0., 0., 0., 0.],\n",
       "       [0., 0., 0., 0., 0., 0., 0., 0., 0., 0., 1., 0., 0., 0., 0.],\n",
       "       [0., 0., 0., 0., 0., 0., 0., 0., 0., 0., 0., 1., 0., 0., 0.],\n",
       "       [0., 0., 0., 0., 0., 0., 0., 0., 0., 0., 0., 0., 1., 0., 0.],\n",
       "       [0., 0., 0., 0., 0., 0., 0., 0., 0., 0., 0., 0., 0., 1., 0.],\n",
       "       [0., 0., 0., 0., 0., 0., 0., 0., 0., 0., 0., 0., 0., 0., 1.]])"
      ]
     },
     "execution_count": 158,
     "metadata": {},
     "output_type": "execute_result"
    }
   ],
   "source": [
    "np.eye(15)"
   ]
  },
  {
   "cell_type": "code",
   "execution_count": 159,
   "id": "285d3219",
   "metadata": {},
   "outputs": [
    {
     "data": {
      "text/plain": [
       "array([[1, 0, 0, 0],\n",
       "       [0, 1, 0, 0],\n",
       "       [0, 0, 1, 0],\n",
       "       [0, 0, 0, 1]])"
      ]
     },
     "execution_count": 159,
     "metadata": {},
     "output_type": "execute_result"
    }
   ],
   "source": [
    "np.eye(4,dtype=\"int\")"
   ]
  },
  {
   "cell_type": "code",
   "execution_count": 160,
   "id": "fc4ebf39",
   "metadata": {},
   "outputs": [
    {
     "data": {
      "text/plain": [
       "array([[ True, False, False, False],\n",
       "       [False,  True, False, False],\n",
       "       [False, False,  True, False],\n",
       "       [False, False, False,  True]])"
      ]
     },
     "execution_count": 160,
     "metadata": {},
     "output_type": "execute_result"
    }
   ],
   "source": [
    "np.eye(4,dtype=\"bool\")"
   ]
  },
  {
   "cell_type": "markdown",
   "id": "96cc0211",
   "metadata": {},
   "source": [
    "Transpose"
   ]
  },
  {
   "cell_type": "code",
   "execution_count": 164,
   "id": "9906a836",
   "metadata": {},
   "outputs": [
    {
     "data": {
      "text/plain": [
       "array([[1, 2],\n",
       "       [5, 8],\n",
       "       [0, 0],\n",
       "       [2, 3]])"
      ]
     },
     "execution_count": 164,
     "metadata": {},
     "output_type": "execute_result"
    }
   ],
   "source": [
    "A = np.array([[1,2],[5,8],[0,0],[2,3]])\n",
    "A"
   ]
  },
  {
   "cell_type": "code",
   "execution_count": 165,
   "id": "ed7e4278",
   "metadata": {},
   "outputs": [
    {
     "data": {
      "text/plain": [
       "array([[1, 5, 0, 2],\n",
       "       [2, 8, 0, 3]])"
      ]
     },
     "execution_count": 165,
     "metadata": {},
     "output_type": "execute_result"
    }
   ],
   "source": [
    "A.T"
   ]
  },
  {
   "cell_type": "code",
   "execution_count": null,
   "id": "3c4c2c27",
   "metadata": {},
   "outputs": [],
   "source": [
    "A[i,j] == A.T[j,i] # for any i,j where this makes sense"
   ]
  },
  {
   "cell_type": "code",
   "execution_count": 166,
   "id": "d87cd80e",
   "metadata": {},
   "outputs": [
    {
     "data": {
      "text/plain": [
       "(4, 2)"
      ]
     },
     "execution_count": 166,
     "metadata": {},
     "output_type": "execute_result"
    }
   ],
   "source": [
    "A.shape"
   ]
  },
  {
   "cell_type": "code",
   "execution_count": 168,
   "id": "9687ea1b",
   "metadata": {},
   "outputs": [
    {
     "data": {
      "text/plain": [
       "(2, 4)"
      ]
     },
     "execution_count": 168,
     "metadata": {},
     "output_type": "execute_result"
    }
   ],
   "source": [
    "A.T.shape"
   ]
  },
  {
   "cell_type": "markdown",
   "id": "c6237fb2",
   "metadata": {},
   "source": [
    "## Vector algebra"
   ]
  },
  {
   "cell_type": "code",
   "execution_count": 33,
   "id": "8363f0be",
   "metadata": {},
   "outputs": [],
   "source": [
    "# two 3-dimensional vectors\n",
    "v = np.array([1,2,5])\n",
    "w = np.array([4,-8,0])"
   ]
  },
  {
   "cell_type": "markdown",
   "id": "a82c5829",
   "metadata": {},
   "source": [
    "Dot product (and vector length)"
   ]
  },
  {
   "cell_type": "code",
   "execution_count": 34,
   "id": "867dacfd",
   "metadata": {},
   "outputs": [
    {
     "data": {
      "text/plain": [
       "-12"
      ]
     },
     "execution_count": 34,
     "metadata": {},
     "output_type": "execute_result"
    }
   ],
   "source": [
    "v.dot(w) # dot product\n",
    "#   1*4 + 2*(-8) + 5*0"
   ]
  },
  {
   "cell_type": "code",
   "execution_count": 35,
   "id": "0e47273f",
   "metadata": {},
   "outputs": [
    {
     "data": {
      "text/plain": [
       "5.477225575051661"
      ]
     },
     "execution_count": 35,
     "metadata": {},
     "output_type": "execute_result"
    }
   ],
   "source": [
    "v.dot(v)**0.5 # length"
   ]
  },
  {
   "cell_type": "markdown",
   "id": "7210680d",
   "metadata": {},
   "source": [
    "Scalar multiplication"
   ]
  },
  {
   "cell_type": "code",
   "execution_count": 36,
   "id": "628cbe6e",
   "metadata": {},
   "outputs": [
    {
     "data": {
      "text/plain": [
       "array([1.8, 3.6, 9. ])"
      ]
     },
     "execution_count": 36,
     "metadata": {},
     "output_type": "execute_result"
    }
   ],
   "source": [
    "1.8 * v # scalar multiplication"
   ]
  },
  {
   "cell_type": "markdown",
   "id": "0ce5e815",
   "metadata": {},
   "source": [
    "Elementwise sum"
   ]
  },
  {
   "cell_type": "code",
   "execution_count": 37,
   "id": "7b2cd023",
   "metadata": {},
   "outputs": [
    {
     "data": {
      "text/plain": [
       "array([ 5, -6,  5])"
      ]
     },
     "execution_count": 37,
     "metadata": {},
     "output_type": "execute_result"
    }
   ],
   "source": [
    "v+w # elementwise sum"
   ]
  },
  {
   "cell_type": "markdown",
   "id": "1c9b1142",
   "metadata": {},
   "source": [
    "Elementwise product (?!)"
   ]
  },
  {
   "cell_type": "code",
   "execution_count": 38,
   "id": "45959338",
   "metadata": {},
   "outputs": [
    {
     "data": {
      "text/plain": [
       "array([  4, -16,   0])"
      ]
     },
     "execution_count": 38,
     "metadata": {},
     "output_type": "execute_result"
    }
   ],
   "source": [
    "v*w # elementwise product"
   ]
  },
  {
   "cell_type": "markdown",
   "id": "03b09226",
   "metadata": {},
   "source": [
    "## Arithmetic progressions"
   ]
  },
  {
   "cell_type": "markdown",
   "id": "0d866cfb",
   "metadata": {},
   "source": [
    "* `np.arange` is `start`, `stop`, `step`\n",
    "* `np.linspace` is `first`,`last`,`number`"
   ]
  },
  {
   "cell_type": "code",
   "execution_count": 39,
   "id": "192ccc30",
   "metadata": {},
   "outputs": [
    {
     "data": {
      "text/plain": [
       "[3, 5, 7, 9, 11, 13, 15, 17, 19]"
      ]
     },
     "execution_count": 39,
     "metadata": {},
     "output_type": "execute_result"
    }
   ],
   "source": [
    "# Recall how you get a list of integer values\n",
    "# in arithmetic progression using built-in stuff\n",
    "list(range(3,20,2))"
   ]
  },
  {
   "cell_type": "markdown",
   "id": "017408e1",
   "metadata": {},
   "source": [
    "The similarly named `arange` from `numpy` does all this and more."
   ]
  },
  {
   "cell_type": "code",
   "execution_count": 40,
   "id": "7510c5e9",
   "metadata": {},
   "outputs": [
    {
     "data": {
      "text/plain": [
       "array([2. , 2.1, 2.2, 2.3, 2.4, 2.5, 2.6, 2.7, 2.8, 2.9])"
      ]
     },
     "execution_count": 40,
     "metadata": {},
     "output_type": "execute_result"
    }
   ],
   "source": [
    "# From 2 up to but not including 3 in steps of size 0.1\n",
    "np.arange(2,3,0.1)   # start, stop (not included), step"
   ]
  },
  {
   "cell_type": "markdown",
   "id": "8787df57",
   "metadata": {},
   "source": [
    "When you know how many points you want, rather than the spacing, it's better to use `np.linspace`.  It takes the first and last elements, then the number of evenly-spaced points you want between them."
   ]
  },
  {
   "cell_type": "code",
   "execution_count": 41,
   "id": "7bce88f4",
   "metadata": {},
   "outputs": [
    {
     "data": {
      "text/plain": [
       "array([12. , 12.4, 12.8, 13.2, 13.6, 14. ])"
      ]
     },
     "execution_count": 41,
     "metadata": {},
     "output_type": "execute_result"
    }
   ],
   "source": [
    "# From 12 to 14 in 6 steps; \n",
    "np.linspace( 12, 14, 6 )   # first, last, number of elements"
   ]
  },
  {
   "cell_type": "markdown",
   "id": "6ecc13e2",
   "metadata": {},
   "source": [
    "## Accessing items\n",
    "\n",
    "Zero-based indexing.  For multi-dimensional arrays, give several integer indices separated by commas."
   ]
  },
  {
   "cell_type": "code",
   "execution_count": 47,
   "id": "21bb8e07",
   "metadata": {},
   "outputs": [
    {
     "data": {
      "text/plain": [
       "array([ 8, 11, 14, 17, 20, 23])"
      ]
     },
     "execution_count": 47,
     "metadata": {},
     "output_type": "execute_result"
    }
   ],
   "source": [
    "v = np.arange(8,24,3)\n",
    "v"
   ]
  },
  {
   "cell_type": "code",
   "execution_count": 169,
   "id": "a896a699",
   "metadata": {},
   "outputs": [
    {
     "data": {
      "text/plain": [
       "array([[ 1,  2,  3],\n",
       "       [ 4,  5,  6],\n",
       "       [ 7,  8,  9],\n",
       "       [ 0, -2, 16]])"
      ]
     },
     "execution_count": 169,
     "metadata": {},
     "output_type": "execute_result"
    }
   ],
   "source": [
    "A = np.array([[1,2,3],[4,5,6],[7,8,9],[0,-2,16]])\n",
    "A"
   ]
  },
  {
   "cell_type": "code",
   "execution_count": 170,
   "id": "d7d72067",
   "metadata": {},
   "outputs": [
    {
     "data": {
      "text/plain": [
       "(4, 3)"
      ]
     },
     "execution_count": 170,
     "metadata": {},
     "output_type": "execute_result"
    }
   ],
   "source": [
    "A.shape"
   ]
  },
  {
   "cell_type": "markdown",
   "id": "a9dc0d34",
   "metadata": {},
   "source": [
    "### Vector indexing: Just like lists"
   ]
  },
  {
   "cell_type": "code",
   "execution_count": 48,
   "id": "81e05034",
   "metadata": {},
   "outputs": [
    {
     "data": {
      "text/plain": [
       "8"
      ]
     },
     "execution_count": 48,
     "metadata": {},
     "output_type": "execute_result"
    }
   ],
   "source": [
    "v[0]"
   ]
  },
  {
   "cell_type": "code",
   "execution_count": 49,
   "id": "ea4b2bcf",
   "metadata": {},
   "outputs": [
    {
     "data": {
      "text/plain": [
       "20"
      ]
     },
     "execution_count": 49,
     "metadata": {},
     "output_type": "execute_result"
    }
   ],
   "source": [
    "v[4]"
   ]
  },
  {
   "cell_type": "code",
   "execution_count": 51,
   "id": "928a3ebd",
   "metadata": {},
   "outputs": [
    {
     "data": {
      "text/plain": [
       "23"
      ]
     },
     "execution_count": 51,
     "metadata": {},
     "output_type": "execute_result"
    }
   ],
   "source": [
    "v[-1]"
   ]
  },
  {
   "cell_type": "markdown",
   "id": "ee16d473",
   "metadata": {},
   "source": [
    "### Multidimensional indexing: use a tuple of indices\n",
    "\n",
    "For matrices, it's `[row, col]`"
   ]
  },
  {
   "cell_type": "code",
   "execution_count": 171,
   "id": "84bd70fd",
   "metadata": {},
   "outputs": [
    {
     "name": "stdout",
     "output_type": "stream",
     "text": [
      "[[ 1  2  3]\n",
      " [ 4  5  6]\n",
      " [ 7  8  9]\n",
      " [ 0 -2 16]]\n",
      "\n",
      "2\n"
     ]
    }
   ],
   "source": [
    "print(A)\n",
    "print()\n",
    "print(A[0,1])  # row 0 column 1"
   ]
  },
  {
   "cell_type": "markdown",
   "id": "421a5796",
   "metadata": {},
   "source": [
    "Omitted indices at the end mean \"everything from those dimensions\""
   ]
  },
  {
   "cell_type": "code",
   "execution_count": 54,
   "id": "3cf11751",
   "metadata": {},
   "outputs": [
    {
     "data": {
      "text/plain": [
       "array([7, 8, 9])"
      ]
     },
     "execution_count": 54,
     "metadata": {},
     "output_type": "execute_result"
    }
   ],
   "source": [
    "A[2] # Row 2 of matrix A, considered as a vector"
   ]
  },
  {
   "cell_type": "code",
   "execution_count": 172,
   "id": "2a564551",
   "metadata": {},
   "outputs": [
    {
     "data": {
      "text/plain": [
       "array([ 2,  5,  8, -2])"
      ]
     },
     "execution_count": 172,
     "metadata": {},
     "output_type": "execute_result"
    }
   ],
   "source": [
    "A[:,1] # means all rows, column 1, as a vector --- i.e. column 1"
   ]
  },
  {
   "cell_type": "markdown",
   "id": "c208c123",
   "metadata": {},
   "source": [
    "Using `:` as an index means \"everything from that dimension\""
   ]
  },
  {
   "cell_type": "code",
   "execution_count": 56,
   "id": "e77936f5",
   "metadata": {},
   "outputs": [
    {
     "name": "stdout",
     "output_type": "stream",
     "text": [
      "[[ 1  2  3]\n",
      " [ 4  5  6]\n",
      " [ 7  8  9]\n",
      " [ 0 -2 16]]\n",
      "\n",
      "[ 2  5  8 -2]\n"
     ]
    }
   ],
   "source": [
    "print(A)\n",
    "print()\n",
    "# All rows, column 1; that is, get column 1 as a vector\n",
    "print(A[:,1])  "
   ]
  },
  {
   "cell_type": "code",
   "execution_count": 173,
   "id": "ef19711c",
   "metadata": {},
   "outputs": [
    {
     "data": {
      "text/plain": [
       "[5, 6, 1, 0, -2, 6]"
      ]
     },
     "execution_count": 173,
     "metadata": {},
     "output_type": "execute_result"
    }
   ],
   "source": [
    "L = [5,6,1,0,-2,6]\n",
    "L[:]"
   ]
  },
  {
   "cell_type": "code",
   "execution_count": 174,
   "id": "41a7b3a5",
   "metadata": {},
   "outputs": [
    {
     "data": {
      "text/plain": [
       "array([[ 1,  2,  3],\n",
       "       [ 4,  5,  6],\n",
       "       [ 7,  8,  9],\n",
       "       [ 0, -2, 16]])"
      ]
     },
     "execution_count": 174,
     "metadata": {},
     "output_type": "execute_result"
    }
   ],
   "source": [
    "A"
   ]
  },
  {
   "cell_type": "code",
   "execution_count": 175,
   "id": "d9609433",
   "metadata": {},
   "outputs": [
    {
     "data": {
      "text/plain": [
       "array([[4, 5],\n",
       "       [7, 8]])"
      ]
     },
     "execution_count": 175,
     "metadata": {},
     "output_type": "execute_result"
    }
   ],
   "source": [
    "A[1:3, 0:2] # items in rows 1 and 2 that are also in cols 0 and 1 "
   ]
  },
  {
   "cell_type": "code",
   "execution_count": 176,
   "id": "71f7c05d",
   "metadata": {},
   "outputs": [
    {
     "data": {
      "text/plain": [
       "array([[1, 3],\n",
       "       [7, 9]])"
      ]
     },
     "execution_count": 176,
     "metadata": {},
     "output_type": "execute_result"
    }
   ],
   "source": [
    "A[::2, ::2] # even row and even col"
   ]
  },
  {
   "cell_type": "code",
   "execution_count": null,
   "id": "0945df14",
   "metadata": {},
   "outputs": [],
   "source": [
    "Image.fromarray(np.array(img)[100:200,180:380])  # one line crop"
   ]
  },
  {
   "cell_type": "markdown",
   "id": "bc5f6813",
   "metadata": {},
   "source": [
    "## Assigning items\n",
    "\n",
    "**`numpy` arrays are mutable** 😱\n",
    "\n",
    "Recall these are mutable:\n",
    "* list\n",
    "* dict\n",
    "* set\n",
    "\n",
    "Immutable:\n",
    "* int\n",
    "* float\n",
    "* str\n",
    "* bool\n",
    "* tuple"
   ]
  },
  {
   "cell_type": "code",
   "execution_count": 186,
   "id": "19fbfb66",
   "metadata": {},
   "outputs": [
    {
     "data": {
      "text/plain": [
       "array([[1, 2, 3],\n",
       "       [4, 5, 6]])"
      ]
     },
     "execution_count": 186,
     "metadata": {},
     "output_type": "execute_result"
    }
   ],
   "source": [
    "np.array([1,2,3,4,5,6]).reshape( (2,3) )"
   ]
  },
  {
   "cell_type": "code",
   "execution_count": 190,
   "id": "93fbe3e2",
   "metadata": {},
   "outputs": [
    {
     "data": {
      "text/plain": [
       "array([[ 5,  6,  7,  8,  9, 10, 11, 12, 13],\n",
       "       [14, 15, 16, 17, 18, 19, 20, 21, 22],\n",
       "       [23, 24, 25, 26, 27, 28, 29, 30, 31],\n",
       "       [32, 33, 34, 35, 36, 37, 38, 39, 40],\n",
       "       [41, 42, 43, 44, 45, 46, 47, 48, 49],\n",
       "       [50, 51, 52, 53, 54, 55, 56, 57, 58],\n",
       "       [59, 60, 61, 62, 63, 64, 65, 66, 67],\n",
       "       [68, 69, 70, 71, 72, 73, 74, 75, 76]])"
      ]
     },
     "execution_count": 190,
     "metadata": {},
     "output_type": "execute_result"
    }
   ],
   "source": [
    "A = np.arange(72).reshape( (8,9) ) + 5\n",
    "A"
   ]
  },
  {
   "cell_type": "code",
   "execution_count": 191,
   "id": "19fbeb9c",
   "metadata": {},
   "outputs": [],
   "source": [
    "A[4,1] = -1 # item at row 4 col 1 set to -1"
   ]
  },
  {
   "cell_type": "code",
   "execution_count": 192,
   "id": "e12ffee1",
   "metadata": {},
   "outputs": [
    {
     "data": {
      "text/plain": [
       "array([[ 5,  6,  7,  8,  9, 10, 11, 12, 13],\n",
       "       [14, 15, 16, 17, 18, 19, 20, 21, 22],\n",
       "       [23, 24, 25, 26, 27, 28, 29, 30, 31],\n",
       "       [32, 33, 34, 35, 36, 37, 38, 39, 40],\n",
       "       [41, -1, 43, 44, 45, 46, 47, 48, 49],\n",
       "       [50, 51, 52, 53, 54, 55, 56, 57, 58],\n",
       "       [59, 60, 61, 62, 63, 64, 65, 66, 67],\n",
       "       [68, 69, 70, 71, 72, 73, 74, 75, 76]])"
      ]
     },
     "execution_count": 192,
     "metadata": {},
     "output_type": "execute_result"
    }
   ],
   "source": [
    "A"
   ]
  },
  {
   "cell_type": "code",
   "execution_count": 194,
   "id": "4c847d28",
   "metadata": {},
   "outputs": [],
   "source": [
    "A[:4,5:] = 5 # items whose position is in row 0,1,2,3 and cols >=5\n",
    "             # all set to five"
   ]
  },
  {
   "cell_type": "code",
   "execution_count": 195,
   "id": "7ca81a6a",
   "metadata": {},
   "outputs": [
    {
     "data": {
      "text/plain": [
       "array([[ 5,  6,  7,  8,  9,  5,  5,  5,  5],\n",
       "       [14, 15, 16, 17, 18,  5,  5,  5,  5],\n",
       "       [23, 24, 25, 26, 27,  5,  5,  5,  5],\n",
       "       [32, 33, 34, 35, 36,  5,  5,  5,  5],\n",
       "       [41, -1, 43, 44, 45, 46, 47, 48, 49],\n",
       "       [50, 51, 52, 53, 54, 55, 56, 57, 58],\n",
       "       [59, 60, 61, 62, 63, 64, 65, 66, 67],\n",
       "       [68, 69, 70, 71, 72, 73, 74, 75, 76]])"
      ]
     },
     "execution_count": 195,
     "metadata": {},
     "output_type": "execute_result"
    }
   ],
   "source": [
    "A"
   ]
  },
  {
   "cell_type": "code",
   "execution_count": 197,
   "id": "21b6c5fd",
   "metadata": {},
   "outputs": [],
   "source": [
    "A[1] = 100  # everything in row 1 becomes 100"
   ]
  },
  {
   "cell_type": "code",
   "execution_count": 198,
   "id": "df4a17f8",
   "metadata": {
    "scrolled": true
   },
   "outputs": [
    {
     "data": {
      "text/plain": [
       "array([[  5,   6,   7,   8,   9,   5,   5,   5,   5],\n",
       "       [100, 100, 100, 100, 100, 100, 100, 100, 100],\n",
       "       [ 23,  24,  25,  26,  27,   5,   5,   5,   5],\n",
       "       [ 32,  33,  34,  35,  36,   5,   5,   5,   5],\n",
       "       [ 41,  -1,  43,  44,  45,  46,  47,  48,  49],\n",
       "       [ 50,  51,  52,  53,  54,  55,  56,  57,  58],\n",
       "       [ 59,  60,  61,  62,  63,  64,  65,  66,  67],\n",
       "       [ 68,  69,  70,  71,  72,  73,  74,  75,  76]])"
      ]
     },
     "execution_count": 198,
     "metadata": {},
     "output_type": "execute_result"
    }
   ],
   "source": [
    "A"
   ]
  },
  {
   "cell_type": "code",
   "execution_count": 199,
   "id": "0c821b5d",
   "metadata": {},
   "outputs": [
    {
     "data": {
      "text/plain": [
       "array([[  5,   6,   7,   8,   9,   5,   5,   5,   5],\n",
       "       [100, 100, 100, 100, 100, 100, 100, 100, 100],\n",
       "       [ 23,  24,  25,  26,  27,   5,   5,   5,   5],\n",
       "       [ 32,  33,  34,  35,  36,   5,   5,   5,   5],\n",
       "       [ 41,  -1,  43,  44,  45,  46,  47,  48,  49],\n",
       "       [ 50,  51,  52,  53,  54,  55,  56,  57,  58],\n",
       "       [ 59,  60,  61,  62,  63,  64,  65,  66,  67],\n",
       "       [ 68,  69,  70,  71,  72,  73,  74,  75,  76]])"
      ]
     },
     "execution_count": 199,
     "metadata": {},
     "output_type": "execute_result"
    }
   ],
   "source": [
    "np.array(A) # copy"
   ]
  },
  {
   "cell_type": "code",
   "execution_count": 201,
   "id": "49349a94",
   "metadata": {},
   "outputs": [
    {
     "data": {
      "text/plain": [
       "array([[  5,   6,   7,   8,   9,   5,   5,   5,   5],\n",
       "       [100, 100, 100, 100, 100, 100, 100, 100, 100],\n",
       "       [ 23,  24,  25,  26,  27,   5,   5,   5,   5],\n",
       "       [ 32,  33,  34,  35,  36,   5,   5,   5,   5],\n",
       "       [ 41,  -1,  43,  44,  45,  46,  47,  48,  49],\n",
       "       [ 50,  51,  52,  53,  54,  55,  56,  57,  58],\n",
       "       [ 59,  60,  61,  62,  63,  64,  65,  66,  67],\n",
       "       [ 68,  69,  70,  71,  72,  73,  74,  75,  76]])"
      ]
     },
     "execution_count": 201,
     "metadata": {},
     "output_type": "execute_result"
    }
   ],
   "source": [
    "A.copy() # also a copy"
   ]
  },
  {
   "cell_type": "code",
   "execution_count": 203,
   "id": "21246f26",
   "metadata": {},
   "outputs": [],
   "source": [
    "L = [ \"a\", \"b\", \"c\", \"d\", \"e\"]\n",
    "M = L[1:-1] # slice of a list is a copy, indep from original"
   ]
  },
  {
   "cell_type": "code",
   "execution_count": 204,
   "id": "47338a6a",
   "metadata": {},
   "outputs": [
    {
     "data": {
      "text/plain": [
       "['b', 'c', 'd']"
      ]
     },
     "execution_count": 204,
     "metadata": {},
     "output_type": "execute_result"
    }
   ],
   "source": [
    "M"
   ]
  },
  {
   "cell_type": "code",
   "execution_count": 205,
   "id": "855f1d98",
   "metadata": {},
   "outputs": [],
   "source": [
    "M[0] = \"economic enthuasiasm\""
   ]
  },
  {
   "cell_type": "code",
   "execution_count": 206,
   "id": "111a105f",
   "metadata": {},
   "outputs": [
    {
     "data": {
      "text/plain": [
       "['economic enthuasiasm', 'c', 'd']"
      ]
     },
     "execution_count": 206,
     "metadata": {},
     "output_type": "execute_result"
    }
   ],
   "source": [
    "M"
   ]
  },
  {
   "cell_type": "code",
   "execution_count": 207,
   "id": "3395b14d",
   "metadata": {},
   "outputs": [
    {
     "data": {
      "text/plain": [
       "['a', 'b', 'c', 'd', 'e']"
      ]
     },
     "execution_count": 207,
     "metadata": {},
     "output_type": "execute_result"
    }
   ],
   "source": [
    "L"
   ]
  },
  {
   "cell_type": "code",
   "execution_count": 208,
   "id": "f1b0e013",
   "metadata": {},
   "outputs": [
    {
     "data": {
      "text/plain": [
       "array([[  5,   6,   7,   8,   9,   5,   5,   5,   5],\n",
       "       [100, 100, 100, 100, 100, 100, 100, 100, 100],\n",
       "       [ 23,  24,  25,  26,  27,   5,   5,   5,   5],\n",
       "       [ 32,  33,  34,  35,  36,   5,   5,   5,   5],\n",
       "       [ 41,  -1,  43,  44,  45,  46,  47,  48,  49],\n",
       "       [ 50,  51,  52,  53,  54,  55,  56,  57,  58],\n",
       "       [ 59,  60,  61,  62,  63,  64,  65,  66,  67],\n",
       "       [ 68,  69,  70,  71,  72,  73,  74,  75,  76]])"
      ]
     },
     "execution_count": 208,
     "metadata": {},
     "output_type": "execute_result"
    }
   ],
   "source": [
    "A"
   ]
  },
  {
   "cell_type": "code",
   "execution_count": 209,
   "id": "f671721d",
   "metadata": {},
   "outputs": [],
   "source": [
    "C = A[:,3:5] # all the rows, columns 3 and 4"
   ]
  },
  {
   "cell_type": "code",
   "execution_count": 210,
   "id": "d1567292",
   "metadata": {},
   "outputs": [
    {
     "data": {
      "text/plain": [
       "array([[  8,   9],\n",
       "       [100, 100],\n",
       "       [ 26,  27],\n",
       "       [ 35,  36],\n",
       "       [ 44,  45],\n",
       "       [ 53,  54],\n",
       "       [ 62,  63],\n",
       "       [ 71,  72]])"
      ]
     },
     "execution_count": 210,
     "metadata": {},
     "output_type": "execute_result"
    }
   ],
   "source": [
    "C"
   ]
  },
  {
   "cell_type": "code",
   "execution_count": 211,
   "id": "aaa10151",
   "metadata": {},
   "outputs": [],
   "source": [
    "C[::2] = 0  # even numbered rows of C set to zero"
   ]
  },
  {
   "cell_type": "code",
   "execution_count": 212,
   "id": "509a6b05",
   "metadata": {},
   "outputs": [
    {
     "data": {
      "text/plain": [
       "array([[  0,   0],\n",
       "       [100, 100],\n",
       "       [  0,   0],\n",
       "       [ 35,  36],\n",
       "       [  0,   0],\n",
       "       [ 53,  54],\n",
       "       [  0,   0],\n",
       "       [ 71,  72]])"
      ]
     },
     "execution_count": 212,
     "metadata": {},
     "output_type": "execute_result"
    }
   ],
   "source": [
    "C"
   ]
  },
  {
   "cell_type": "code",
   "execution_count": 213,
   "id": "defac594",
   "metadata": {},
   "outputs": [
    {
     "data": {
      "text/plain": [
       "array([[  5,   6,   7,   0,   0,   5,   5,   5,   5],\n",
       "       [100, 100, 100, 100, 100, 100, 100, 100, 100],\n",
       "       [ 23,  24,  25,   0,   0,   5,   5,   5,   5],\n",
       "       [ 32,  33,  34,  35,  36,   5,   5,   5,   5],\n",
       "       [ 41,  -1,  43,   0,   0,  46,  47,  48,  49],\n",
       "       [ 50,  51,  52,  53,  54,  55,  56,  57,  58],\n",
       "       [ 59,  60,  61,   0,   0,  64,  65,  66,  67],\n",
       "       [ 68,  69,  70,  71,  72,  73,  74,  75,  76]])"
      ]
     },
     "execution_count": 213,
     "metadata": {},
     "output_type": "execute_result"
    }
   ],
   "source": [
    "A"
   ]
  },
  {
   "cell_type": "markdown",
   "id": "caeef09f",
   "metadata": {},
   "source": [
    "## Slices\n",
    "\n",
    "Can combine slice notation with multiple indices."
   ]
  },
  {
   "cell_type": "code",
   "execution_count": null,
   "id": "029b0199",
   "metadata": {},
   "outputs": [],
   "source": []
  },
  {
   "cell_type": "markdown",
   "id": "ab73bf2b",
   "metadata": {},
   "source": [
    "Slices return **views**, not copies."
   ]
  },
  {
   "cell_type": "code",
   "execution_count": null,
   "id": "c76bb2e5",
   "metadata": {},
   "outputs": [],
   "source": []
  },
  {
   "cell_type": "markdown",
   "id": "49c53103",
   "metadata": {},
   "source": [
    "## Equality and bool\n",
    "\n",
    "`.all()` checks if an array of booleans is all `True`."
   ]
  },
  {
   "cell_type": "code",
   "execution_count": 217,
   "id": "986dedb8",
   "metadata": {},
   "outputs": [],
   "source": [
    "v = np.array([1,2,3])\n",
    "w = np.array([1,2,5])"
   ]
  },
  {
   "cell_type": "code",
   "execution_count": 219,
   "id": "69a5f4d2",
   "metadata": {},
   "outputs": [
    {
     "ename": "ValueError",
     "evalue": "The truth value of an array with more than one element is ambiguous. Use a.any() or a.all()",
     "output_type": "error",
     "traceback": [
      "\u001b[0;31m---------------------------------------------------------------------------\u001b[0m",
      "\u001b[0;31mValueError\u001b[0m                                Traceback (most recent call last)",
      "\u001b[0;32m/tmp/ipykernel_104188/121064154.py\u001b[0m in \u001b[0;36m<module>\u001b[0;34m\u001b[0m\n\u001b[1;32m      1\u001b[0m \u001b[0;31m# common mistake\u001b[0m\u001b[0;34m\u001b[0m\u001b[0;34m\u001b[0m\u001b[0m\n\u001b[0;32m----> 2\u001b[0;31m \u001b[0;32mif\u001b[0m \u001b[0mv\u001b[0m\u001b[0;34m==\u001b[0m\u001b[0mw\u001b[0m\u001b[0;34m:\u001b[0m\u001b[0;34m\u001b[0m\u001b[0;34m\u001b[0m\u001b[0m\n\u001b[0m\u001b[1;32m      3\u001b[0m     \u001b[0mprint\u001b[0m\u001b[0;34m(\u001b[0m\u001b[0;34m\"They are equal\"\u001b[0m\u001b[0;34m)\u001b[0m\u001b[0;34m\u001b[0m\u001b[0;34m\u001b[0m\u001b[0m\n\u001b[1;32m      4\u001b[0m \u001b[0;32melse\u001b[0m\u001b[0;34m:\u001b[0m\u001b[0;34m\u001b[0m\u001b[0;34m\u001b[0m\u001b[0m\n\u001b[1;32m      5\u001b[0m     \u001b[0mprint\u001b[0m\u001b[0;34m(\u001b[0m\u001b[0;34m\"They are not equal\"\u001b[0m\u001b[0;34m)\u001b[0m\u001b[0;34m\u001b[0m\u001b[0;34m\u001b[0m\u001b[0m\n",
      "\u001b[0;31mValueError\u001b[0m: The truth value of an array with more than one element is ambiguous. Use a.any() or a.all()"
     ]
    }
   ],
   "source": [
    "# common mistake\n",
    "if v==w:\n",
    "    print(\"They are equal\")\n",
    "else:\n",
    "    print(\"They are not equal\")"
   ]
  },
  {
   "cell_type": "code",
   "execution_count": 220,
   "id": "bc7f2f4c",
   "metadata": {},
   "outputs": [
    {
     "name": "stdout",
     "output_type": "stream",
     "text": [
      "They are not equal\n"
     ]
    }
   ],
   "source": [
    "# solution 1 (slow)\n",
    "if np.all(v==w):\n",
    "    print(\"They are equal\")\n",
    "else:\n",
    "    print(\"They are not equal\")"
   ]
  },
  {
   "cell_type": "code",
   "execution_count": 221,
   "id": "c0a50b00",
   "metadata": {},
   "outputs": [
    {
     "name": "stdout",
     "output_type": "stream",
     "text": [
      "They are not equal\n"
     ]
    }
   ],
   "source": [
    "# solution 2 (fast)\n",
    "if np.array_equal(v,w):\n",
    "    print(\"They are equal\")\n",
    "else:\n",
    "    print(\"They are not equal\")"
   ]
  },
  {
   "cell_type": "markdown",
   "id": "bb914bb5",
   "metadata": {},
   "source": [
    "## Ufuncs\n",
    "\n",
    "Functions that automatically apply to each entry in an array."
   ]
  },
  {
   "cell_type": "code",
   "execution_count": 222,
   "id": "3d3fc9a2",
   "metadata": {},
   "outputs": [],
   "source": [
    "v = np.linspace(0,1,21)"
   ]
  },
  {
   "cell_type": "code",
   "execution_count": 224,
   "id": "53b975f4",
   "metadata": {},
   "outputs": [
    {
     "data": {
      "text/plain": [
       "array([0.  , 0.05, 0.1 , 0.15, 0.2 , 0.25, 0.3 , 0.35, 0.4 , 0.45, 0.5 ,\n",
       "       0.55, 0.6 , 0.65, 0.7 , 0.75, 0.8 , 0.85, 0.9 , 0.95, 1.  ])"
      ]
     },
     "execution_count": 224,
     "metadata": {},
     "output_type": "execute_result"
    }
   ],
   "source": [
    "v"
   ]
  },
  {
   "cell_type": "code",
   "execution_count": 226,
   "id": "c31568a9",
   "metadata": {},
   "outputs": [
    {
     "data": {
      "text/plain": [
       "array([1.        , 0.99875026, 0.99500417, 0.98877108, 0.98006658,\n",
       "       0.96891242, 0.95533649, 0.93937271, 0.92106099, 0.9004471 ,\n",
       "       0.87758256, 0.85252452, 0.82533561, 0.7960838 , 0.76484219,\n",
       "       0.73168887, 0.69670671, 0.65998315, 0.62160997, 0.58168309,\n",
       "       0.54030231])"
      ]
     },
     "execution_count": 226,
     "metadata": {},
     "output_type": "execute_result"
    }
   ],
   "source": [
    "# slow:    np array -> Python for loop -> list -> np array\n",
    "np.array([ np.cos(x) for x in v ])"
   ]
  },
  {
   "cell_type": "code",
   "execution_count": 227,
   "id": "8ba8de3b",
   "metadata": {},
   "outputs": [
    {
     "data": {
      "text/plain": [
       "array([1.        , 0.99875026, 0.99500417, 0.98877108, 0.98006658,\n",
       "       0.96891242, 0.95533649, 0.93937271, 0.92106099, 0.9004471 ,\n",
       "       0.87758256, 0.85252452, 0.82533561, 0.7960838 , 0.76484219,\n",
       "       0.73168887, 0.69670671, 0.65998315, 0.62160997, 0.58168309,\n",
       "       0.54030231])"
      ]
     },
     "execution_count": 227,
     "metadata": {},
     "output_type": "execute_result"
    }
   ],
   "source": [
    "# fast\n",
    "np.cos(v)"
   ]
  },
  {
   "cell_type": "code",
   "execution_count": 228,
   "id": "8d221e86",
   "metadata": {},
   "outputs": [
    {
     "data": {
      "text/plain": [
       "array([1.  , 1.05, 1.1 , 1.15, 1.2 , 1.25, 1.3 , 1.35, 1.4 , 1.45, 1.5 ,\n",
       "       1.55, 1.6 , 1.65, 1.7 , 1.75, 1.8 , 1.85, 1.9 , 1.95, 2.  ])"
      ]
     },
     "execution_count": 228,
     "metadata": {},
     "output_type": "execute_result"
    }
   ],
   "source": [
    "v+1"
   ]
  },
  {
   "cell_type": "code",
   "execution_count": 229,
   "id": "a1f40b80",
   "metadata": {},
   "outputs": [
    {
     "data": {
      "text/plain": [
       "array([0.    , 0.0025, 0.01  , 0.0225, 0.04  , 0.0625, 0.09  , 0.1225,\n",
       "       0.16  , 0.2025, 0.25  , 0.3025, 0.36  , 0.4225, 0.49  , 0.5625,\n",
       "       0.64  , 0.7225, 0.81  , 0.9025, 1.    ])"
      ]
     },
     "execution_count": 229,
     "metadata": {},
     "output_type": "execute_result"
    }
   ],
   "source": [
    "v**2"
   ]
  },
  {
   "cell_type": "code",
   "execution_count": 231,
   "id": "ca5c9f9f",
   "metadata": {},
   "outputs": [
    {
     "data": {
      "text/plain": [
       "array([1.        , 0.95238095, 0.90909091, 0.86956522, 0.83333333,\n",
       "       0.8       , 0.76923077, 0.74074074, 0.71428571, 0.68965517,\n",
       "       0.66666667, 0.64516129, 0.625     , 0.60606061, 0.58823529,\n",
       "       0.57142857, 0.55555556, 0.54054054, 0.52631579, 0.51282051,\n",
       "       0.5       ])"
      ]
     },
     "execution_count": 231,
     "metadata": {},
     "output_type": "execute_result"
    }
   ],
   "source": [
    "1 / (v+1)"
   ]
  },
  {
   "cell_type": "markdown",
   "id": "f816ad3b",
   "metadata": {},
   "source": [
    "### Some arrays to operate on"
   ]
  },
  {
   "cell_type": "code",
   "execution_count": null,
   "id": "7eb1e281",
   "metadata": {},
   "outputs": [],
   "source": []
  },
  {
   "cell_type": "markdown",
   "id": "99440cd0",
   "metadata": {},
   "source": [
    "### Examples of numpy ufuncs"
   ]
  },
  {
   "cell_type": "code",
   "execution_count": 232,
   "id": "8dc4ab1f",
   "metadata": {},
   "outputs": [],
   "source": [
    "def f(x):\n",
    "    return 3*x**2 - 8*x + 14"
   ]
  },
  {
   "cell_type": "code",
   "execution_count": 233,
   "id": "951139af",
   "metadata": {},
   "outputs": [
    {
     "data": {
      "text/plain": [
       "10"
      ]
     },
     "execution_count": 233,
     "metadata": {},
     "output_type": "execute_result"
    }
   ],
   "source": [
    "f(2)"
   ]
  },
  {
   "cell_type": "code",
   "execution_count": 234,
   "id": "6139d885",
   "metadata": {},
   "outputs": [
    {
     "data": {
      "text/plain": [
       "10.75"
      ]
     },
     "execution_count": 234,
     "metadata": {},
     "output_type": "execute_result"
    }
   ],
   "source": [
    "f(0.50)"
   ]
  },
  {
   "cell_type": "code",
   "execution_count": 236,
   "id": "c4438023",
   "metadata": {},
   "outputs": [
    {
     "data": {
      "text/plain": [
       "array([14.    , 13.6075, 13.23  , 12.8675, 12.52  , 12.1875, 11.87  ,\n",
       "       11.5675, 11.28  , 11.0075, 10.75  , 10.5075, 10.28  , 10.0675,\n",
       "        9.87  ,  9.6875,  9.52  ,  9.3675,  9.23  ,  9.1075,  9.    ])"
      ]
     },
     "execution_count": 236,
     "metadata": {},
     "output_type": "execute_result"
    }
   ],
   "source": [
    "np.array([ f(x) for x in v ])"
   ]
  },
  {
   "cell_type": "code",
   "execution_count": 237,
   "id": "075a755f",
   "metadata": {},
   "outputs": [
    {
     "data": {
      "text/plain": [
       "array([14.    , 13.6075, 13.23  , 12.8675, 12.52  , 12.1875, 11.87  ,\n",
       "       11.5675, 11.28  , 11.0075, 10.75  , 10.5075, 10.28  , 10.0675,\n",
       "        9.87  ,  9.6875,  9.52  ,  9.3675,  9.23  ,  9.1075,  9.    ])"
      ]
     },
     "execution_count": 237,
     "metadata": {},
     "output_type": "execute_result"
    }
   ],
   "source": [
    "f(v)"
   ]
  },
  {
   "cell_type": "markdown",
   "id": "590c658f",
   "metadata": {},
   "source": [
    "If you every type `for ... in NUMPY_ARRAY:`, there is probably a way to have numpy do the iteration for you, and that will be faster!"
   ]
  },
  {
   "cell_type": "markdown",
   "id": "5750b807",
   "metadata": {},
   "source": [
    "Let $f(x) = 3x^2 - 8x + 14$.  Apply $f$ to each element of array `v`."
   ]
  },
  {
   "cell_type": "code",
   "execution_count": null,
   "id": "620c757a",
   "metadata": {},
   "outputs": [],
   "source": []
  },
  {
   "cell_type": "markdown",
   "id": "f86a385f",
   "metadata": {},
   "source": [
    "## Broadcasting"
   ]
  },
  {
   "cell_type": "code",
   "execution_count": null,
   "id": "c7837f69",
   "metadata": {},
   "outputs": [],
   "source": []
  },
  {
   "cell_type": "markdown",
   "id": "dd2318f3",
   "metadata": {},
   "source": [
    "## Aggregations\n",
    "\n",
    "`sum`, `max`, `min`, `argmax`, `argmin`, `mean`, `all`, `any`, `array_equal`"
   ]
  },
  {
   "cell_type": "code",
   "execution_count": null,
   "id": "72eb3e0c",
   "metadata": {},
   "outputs": [],
   "source": []
  },
  {
   "cell_type": "markdown",
   "id": "08858554",
   "metadata": {},
   "source": [
    "## Masks"
   ]
  },
  {
   "cell_type": "code",
   "execution_count": 238,
   "id": "1390ac88",
   "metadata": {},
   "outputs": [
    {
     "data": {
      "text/plain": [
       "array([[  5,   6,   7,   0,   0,   5,   5,   5,   5],\n",
       "       [100, 100, 100, 100, 100, 100, 100, 100, 100],\n",
       "       [ 23,  24,  25,   0,   0,   5,   5,   5,   5],\n",
       "       [ 32,  33,  34,  35,  36,   5,   5,   5,   5],\n",
       "       [ 41,  -1,  43,   0,   0,  46,  47,  48,  49],\n",
       "       [ 50,  51,  52,  53,  54,  55,  56,  57,  58],\n",
       "       [ 59,  60,  61,   0,   0,  64,  65,  66,  67],\n",
       "       [ 68,  69,  70,  71,  72,  73,  74,  75,  76]])"
      ]
     },
     "execution_count": 238,
     "metadata": {},
     "output_type": "execute_result"
    }
   ],
   "source": [
    "A"
   ]
  },
  {
   "cell_type": "code",
   "execution_count": 240,
   "id": "e148cc4f",
   "metadata": {},
   "outputs": [],
   "source": [
    "M = A > 55"
   ]
  },
  {
   "cell_type": "code",
   "execution_count": 241,
   "id": "4ce3f098",
   "metadata": {},
   "outputs": [
    {
     "data": {
      "text/plain": [
       "array([[False, False, False, False, False, False, False, False, False],\n",
       "       [ True,  True,  True,  True,  True,  True,  True,  True,  True],\n",
       "       [False, False, False, False, False, False, False, False, False],\n",
       "       [False, False, False, False, False, False, False, False, False],\n",
       "       [False, False, False, False, False, False, False, False, False],\n",
       "       [False, False, False, False, False, False,  True,  True,  True],\n",
       "       [ True,  True,  True, False, False,  True,  True,  True,  True],\n",
       "       [ True,  True,  True,  True,  True,  True,  True,  True,  True]])"
      ]
     },
     "execution_count": 241,
     "metadata": {},
     "output_type": "execute_result"
    }
   ],
   "source": [
    "M"
   ]
  },
  {
   "cell_type": "code",
   "execution_count": 243,
   "id": "82f82a14",
   "metadata": {},
   "outputs": [
    {
     "data": {
      "text/plain": [
       "array([100, 100, 100, 100, 100, 100, 100, 100, 100,  56,  57,  58,  59,\n",
       "        60,  61,  64,  65,  66,  67,  68,  69,  70,  71,  72,  73,  74,\n",
       "        75,  76])"
      ]
     },
     "execution_count": 243,
     "metadata": {},
     "output_type": "execute_result"
    }
   ],
   "source": [
    "A[M] # all the values in A at places where M is True, in a vector"
   ]
  },
  {
   "cell_type": "code",
   "execution_count": 244,
   "id": "0e6ad5bc",
   "metadata": {},
   "outputs": [],
   "source": [
    "A[A>55] = 0   # replace everything greater than 55 with zero"
   ]
  },
  {
   "cell_type": "code",
   "execution_count": 245,
   "id": "bc127fc2",
   "metadata": {},
   "outputs": [
    {
     "data": {
      "text/plain": [
       "array([[ 5,  6,  7,  0,  0,  5,  5,  5,  5],\n",
       "       [ 0,  0,  0,  0,  0,  0,  0,  0,  0],\n",
       "       [23, 24, 25,  0,  0,  5,  5,  5,  5],\n",
       "       [32, 33, 34, 35, 36,  5,  5,  5,  5],\n",
       "       [41, -1, 43,  0,  0, 46, 47, 48, 49],\n",
       "       [50, 51, 52, 53, 54, 55,  0,  0,  0],\n",
       "       [ 0,  0,  0,  0,  0,  0,  0,  0,  0],\n",
       "       [ 0,  0,  0,  0,  0,  0,  0,  0,  0]])"
      ]
     },
     "execution_count": 245,
     "metadata": {},
     "output_type": "execute_result"
    }
   ],
   "source": [
    "A"
   ]
  },
  {
   "cell_type": "code",
   "execution_count": 246,
   "id": "bc50bc8e",
   "metadata": {},
   "outputs": [],
   "source": [
    "A[A<0]=0  # clamp all values between 0 and 1\n",
    "A[A>1]=1  # ..."
   ]
  },
  {
   "cell_type": "code",
   "execution_count": 247,
   "id": "46916201",
   "metadata": {},
   "outputs": [
    {
     "data": {
      "text/plain": [
       "array([[1, 1, 1, 0, 0, 1, 1, 1, 1],\n",
       "       [0, 0, 0, 0, 0, 0, 0, 0, 0],\n",
       "       [1, 1, 1, 0, 0, 1, 1, 1, 1],\n",
       "       [1, 1, 1, 1, 1, 1, 1, 1, 1],\n",
       "       [1, 0, 1, 0, 0, 1, 1, 1, 1],\n",
       "       [1, 1, 1, 1, 1, 1, 0, 0, 0],\n",
       "       [0, 0, 0, 0, 0, 0, 0, 0, 0],\n",
       "       [0, 0, 0, 0, 0, 0, 0, 0, 0]])"
      ]
     },
     "execution_count": 247,
     "metadata": {},
     "output_type": "execute_result"
    }
   ],
   "source": [
    "A"
   ]
  },
  {
   "cell_type": "markdown",
   "id": "9909646e",
   "metadata": {},
   "source": [
    "## Pillow integration\n",
    "\n",
    "* `np.array(img)` just works, if `img` is a `PIL.Image` object\n",
    "* Use `PIL.Image.fromarray(A)` to make an image from an array\n",
    "    * Shape `(height,width)` and dtype `uint8` for grayscale\n",
    "    * Shape `(height,width,3)` and dtype `uint8` for color (last axis is red, green, blue)"
   ]
  },
  {
   "cell_type": "code",
   "execution_count": null,
   "id": "9c9a0e35",
   "metadata": {},
   "outputs": [],
   "source": []
  }
 ],
 "metadata": {
  "kernelspec": {
   "display_name": "Python 3 (ipykernel)",
   "language": "python",
   "name": "python3"
  },
  "language_info": {
   "codemirror_mode": {
    "name": "ipython",
    "version": 3
   },
   "file_extension": ".py",
   "mimetype": "text/x-python",
   "name": "python",
   "nbconvert_exporter": "python",
   "pygments_lexer": "ipython3",
   "version": "3.10.12"
  }
 },
 "nbformat": 4,
 "nbformat_minor": 5
}
