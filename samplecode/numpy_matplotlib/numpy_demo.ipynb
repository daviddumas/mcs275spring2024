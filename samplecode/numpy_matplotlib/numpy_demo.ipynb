{
 "cells": [
  {
   "cell_type": "markdown",
   "id": "90415c86",
   "metadata": {},
   "source": [
    "# Demo of some `numpy` features\n",
    "\n",
    "## MCS 275 Spring 2024 - David Dumas\n",
    "\n",
    "This is a quick tour of some `numpy` features.  For more detail see:\n",
    "* [Chapter 2 of VanderPlas](https://jakevdp.github.io/PythonDataScienceHandbook/02.00-introduction-to-numpy.html)\n",
    "* [The numpy documentation](https://numpy.org/doc/stable/)"
   ]
  },
  {
   "cell_type": "markdown",
   "id": "d5ffa02e",
   "metadata": {},
   "source": [
    "## Importing the module\n",
    "\n",
    "And checking the version."
   ]
  },
  {
   "cell_type": "code",
   "execution_count": 1,
   "id": "89d672f7",
   "metadata": {},
   "outputs": [
    {
     "name": "stdout",
     "output_type": "stream",
     "text": [
      "1.21.5\n"
     ]
    }
   ],
   "source": [
    "import numpy as np\n",
    "print(np.__version__)"
   ]
  },
  {
   "cell_type": "markdown",
   "id": "91294334",
   "metadata": {},
   "source": [
    "## Creating arrays\n",
    "\n",
    "They are iterable and type-homogeneous.  Can make one from any suitable iterable.\n",
    "\n",
    "[List of built-in dtypes](https://numpy.org/doc/stable/reference/arrays.scalars.html#arrays-scalars-built-in)."
   ]
  },
  {
   "cell_type": "code",
   "execution_count": 2,
   "id": "68896296",
   "metadata": {},
   "outputs": [],
   "source": [
    "x = np.array( [1,2,5,91,0.25] )"
   ]
  },
  {
   "cell_type": "code",
   "execution_count": 3,
   "id": "0c6337be",
   "metadata": {},
   "outputs": [
    {
     "data": {
      "text/plain": [
       "array([ 1.  ,  2.  ,  5.  , 91.  ,  0.25])"
      ]
     },
     "execution_count": 3,
     "metadata": {},
     "output_type": "execute_result"
    }
   ],
   "source": [
    "x"
   ]
  },
  {
   "cell_type": "code",
   "execution_count": 4,
   "id": "38538e21",
   "metadata": {},
   "outputs": [],
   "source": [
    "long_vector = np.array(range(10000))  # notice we can pass any iterable"
   ]
  },
  {
   "cell_type": "code",
   "execution_count": 5,
   "id": "b2f30a55",
   "metadata": {},
   "outputs": [
    {
     "name": "stdout",
     "output_type": "stream",
     "text": [
      "[   0    1    2 ... 9997 9998 9999]\n"
     ]
    }
   ],
   "source": [
    "print(long_vector)"
   ]
  },
  {
   "cell_type": "code",
   "execution_count": 9,
   "id": "3086f080",
   "metadata": {},
   "outputs": [],
   "source": [
    "A = np.array( \n",
    "    [\n",
    "        [1,2,3],\n",
    "        [4,5,6],\n",
    "        [7,8,9]\n",
    "    ]\n",
    ")"
   ]
  },
  {
   "cell_type": "code",
   "execution_count": 7,
   "id": "1a13d532",
   "metadata": {},
   "outputs": [
    {
     "data": {
      "text/plain": [
       "array([[1, 2, 3],\n",
       "       [4, 5, 6],\n",
       "       [7, 8, 9]])"
      ]
     },
     "execution_count": 7,
     "metadata": {},
     "output_type": "execute_result"
    }
   ],
   "source": [
    "A"
   ]
  },
  {
   "cell_type": "markdown",
   "id": "a4da6e09",
   "metadata": {},
   "source": [
    "Check number of dimensions"
   ]
  },
  {
   "cell_type": "code",
   "execution_count": 10,
   "id": "cf9d9f29",
   "metadata": {},
   "outputs": [
    {
     "data": {
      "text/plain": [
       "1"
      ]
     },
     "execution_count": 10,
     "metadata": {},
     "output_type": "execute_result"
    }
   ],
   "source": [
    "x.ndim"
   ]
  },
  {
   "cell_type": "code",
   "execution_count": 11,
   "id": "c3b264ef",
   "metadata": {},
   "outputs": [
    {
     "data": {
      "text/plain": [
       "2"
      ]
     },
     "execution_count": 11,
     "metadata": {},
     "output_type": "execute_result"
    }
   ],
   "source": [
    "A.ndim"
   ]
  },
  {
   "cell_type": "markdown",
   "id": "536111f4",
   "metadata": {},
   "source": [
    "Check shape (size in each dimension)"
   ]
  },
  {
   "cell_type": "code",
   "execution_count": 13,
   "id": "b940e6b9",
   "metadata": {},
   "outputs": [
    {
     "data": {
      "text/plain": [
       "array([ 1.  ,  2.  ,  5.  , 91.  ,  0.25])"
      ]
     },
     "execution_count": 13,
     "metadata": {},
     "output_type": "execute_result"
    }
   ],
   "source": [
    "x"
   ]
  },
  {
   "cell_type": "code",
   "execution_count": 12,
   "id": "49c8919c",
   "metadata": {},
   "outputs": [
    {
     "data": {
      "text/plain": [
       "(5,)"
      ]
     },
     "execution_count": 12,
     "metadata": {},
     "output_type": "execute_result"
    }
   ],
   "source": [
    "x.shape"
   ]
  },
  {
   "cell_type": "code",
   "execution_count": 14,
   "id": "9585b922",
   "metadata": {},
   "outputs": [
    {
     "data": {
      "text/plain": [
       "(8,)"
      ]
     },
     "execution_count": 14,
     "metadata": {},
     "output_type": "execute_result"
    }
   ],
   "source": [
    "(4,5,6)  # tuple with three items\n",
    "(8)      # grouping parens -- integer 8\n",
    "(8,)     # tuple with only one item"
   ]
  },
  {
   "cell_type": "code",
   "execution_count": 15,
   "id": "80e5dc2a",
   "metadata": {},
   "outputs": [
    {
     "data": {
      "text/plain": [
       "5"
      ]
     },
     "execution_count": 15,
     "metadata": {},
     "output_type": "execute_result"
    }
   ],
   "source": [
    "#How many elements does the vector `x` have?\n",
    "x.shape[0]  # the first, and only, number in the shape tuple"
   ]
  },
  {
   "cell_type": "markdown",
   "id": "8174347f",
   "metadata": {},
   "source": [
    "Check \"length\" (first elt of shape)"
   ]
  },
  {
   "cell_type": "code",
   "execution_count": 16,
   "id": "53ab2831",
   "metadata": {},
   "outputs": [
    {
     "data": {
      "text/plain": [
       "5"
      ]
     },
     "execution_count": 16,
     "metadata": {},
     "output_type": "execute_result"
    }
   ],
   "source": [
    "len(x)"
   ]
  },
  {
   "cell_type": "code",
   "execution_count": 17,
   "id": "ad80b472",
   "metadata": {},
   "outputs": [
    {
     "data": {
      "text/plain": [
       "array([[1, 2, 3],\n",
       "       [4, 5, 6],\n",
       "       [7, 8, 9]])"
      ]
     },
     "execution_count": 17,
     "metadata": {},
     "output_type": "execute_result"
    }
   ],
   "source": [
    "A"
   ]
  },
  {
   "cell_type": "code",
   "execution_count": 18,
   "id": "9709171b",
   "metadata": {},
   "outputs": [
    {
     "data": {
      "text/plain": [
       "(3, 3)"
      ]
     },
     "execution_count": 18,
     "metadata": {},
     "output_type": "execute_result"
    }
   ],
   "source": [
    "A.shape"
   ]
  },
  {
   "cell_type": "code",
   "execution_count": 19,
   "id": "90fe5052",
   "metadata": {},
   "outputs": [
    {
     "data": {
      "text/plain": [
       "3"
      ]
     },
     "execution_count": 19,
     "metadata": {},
     "output_type": "execute_result"
    }
   ],
   "source": [
    "len(A)   # how many ROWS does this matrix have"
   ]
  },
  {
   "cell_type": "code",
   "execution_count": 21,
   "id": "1d3b6d8d",
   "metadata": {},
   "outputs": [],
   "source": [
    "B = np.array(\n",
    "[\n",
    "    [1,7],\n",
    "    [3,4],\n",
    "    [9,-2],\n",
    "    [0,0],\n",
    "    [5,1]\n",
    "])"
   ]
  },
  {
   "cell_type": "code",
   "execution_count": 22,
   "id": "a9e306a7",
   "metadata": {},
   "outputs": [
    {
     "data": {
      "text/plain": [
       "2"
      ]
     },
     "execution_count": 22,
     "metadata": {},
     "output_type": "execute_result"
    }
   ],
   "source": [
    "B.ndim"
   ]
  },
  {
   "cell_type": "code",
   "execution_count": 23,
   "id": "59584fa2",
   "metadata": {},
   "outputs": [
    {
     "data": {
      "text/plain": [
       "(5, 2)"
      ]
     },
     "execution_count": 23,
     "metadata": {},
     "output_type": "execute_result"
    }
   ],
   "source": [
    "B.shape"
   ]
  },
  {
   "cell_type": "code",
   "execution_count": 24,
   "id": "e0c9be1e",
   "metadata": {},
   "outputs": [
    {
     "data": {
      "text/plain": [
       "5"
      ]
     },
     "execution_count": 24,
     "metadata": {},
     "output_type": "execute_result"
    }
   ],
   "source": [
    "len(B)"
   ]
  },
  {
   "cell_type": "markdown",
   "id": "6faadb20",
   "metadata": {
    "scrolled": true
   },
   "source": [
    "Check data type"
   ]
  },
  {
   "cell_type": "code",
   "execution_count": 25,
   "id": "ddc9282b",
   "metadata": {},
   "outputs": [
    {
     "data": {
      "text/plain": [
       "array([ 1.  ,  2.  ,  5.  , 91.  ,  0.25])"
      ]
     },
     "execution_count": 25,
     "metadata": {},
     "output_type": "execute_result"
    }
   ],
   "source": [
    "x"
   ]
  },
  {
   "cell_type": "code",
   "execution_count": 26,
   "id": "08d69a88",
   "metadata": {},
   "outputs": [
    {
     "data": {
      "text/plain": [
       "dtype('float64')"
      ]
     },
     "execution_count": 26,
     "metadata": {},
     "output_type": "execute_result"
    }
   ],
   "source": [
    "x.dtype"
   ]
  },
  {
   "cell_type": "markdown",
   "id": "093de5cf",
   "metadata": {},
   "source": [
    "Data type typically inferred but can be specified (potential lossy process)"
   ]
  },
  {
   "cell_type": "code",
   "execution_count": 27,
   "id": "37a60774",
   "metadata": {},
   "outputs": [],
   "source": [
    "y = np.array( [6,7,6,0,6,-2,6,1], dtype=\"float64\" )"
   ]
  },
  {
   "cell_type": "code",
   "execution_count": 29,
   "id": "ae3d8a83",
   "metadata": {},
   "outputs": [
    {
     "name": "stdout",
     "output_type": "stream",
     "text": [
      "[ 6.  7.  6.  0.  6. -2.  6.  1.]\n",
      "float64\n"
     ]
    }
   ],
   "source": [
    "print(y)\n",
    "print(y.dtype)"
   ]
  },
  {
   "cell_type": "code",
   "execution_count": 30,
   "id": "ee013497",
   "metadata": {},
   "outputs": [],
   "source": [
    "y = np.array( [6,7,6,0,6,-2,6,1] )"
   ]
  },
  {
   "cell_type": "code",
   "execution_count": 31,
   "id": "cf8c08c9",
   "metadata": {},
   "outputs": [
    {
     "name": "stdout",
     "output_type": "stream",
     "text": [
      "[ 6  7  6  0  6 -2  6  1]\n",
      "int64\n"
     ]
    }
   ],
   "source": [
    "print(y)\n",
    "print(y.dtype)"
   ]
  },
  {
   "cell_type": "code",
   "execution_count": 32,
   "id": "3cfb5d49",
   "metadata": {},
   "outputs": [
    {
     "data": {
      "text/plain": [
       "array([  1,   2, 252,  16,  32, 128,   0,   0, 208], dtype=uint8)"
      ]
     },
     "execution_count": 32,
     "metadata": {},
     "output_type": "execute_result"
    }
   ],
   "source": [
    "# uint8 - unsigned integer of size 8 bits\n",
    "# i.e. minimum value is 0, maximum value is 255\n",
    "np.array( [ 1, 2, -4, 16, 32, 128, 256, 512, 2000], dtype=\"uint8\")"
   ]
  },
  {
   "cell_type": "code",
   "execution_count": 33,
   "id": "c4bf2822",
   "metadata": {},
   "outputs": [
    {
     "data": {
      "text/plain": [
       "208"
      ]
     },
     "execution_count": 33,
     "metadata": {},
     "output_type": "execute_result"
    }
   ],
   "source": [
    "2000 % 256"
   ]
  },
  {
   "cell_type": "markdown",
   "id": "cc2520fa",
   "metadata": {},
   "source": [
    "Can make a 2D array (matrix) from a list of lists"
   ]
  },
  {
   "cell_type": "code",
   "execution_count": null,
   "id": "deddc718",
   "metadata": {},
   "outputs": [],
   "source": []
  },
  {
   "cell_type": "markdown",
   "id": "5930ca0e",
   "metadata": {},
   "source": [
    "## Filled arrays"
   ]
  },
  {
   "cell_type": "markdown",
   "id": "96e31668",
   "metadata": {},
   "source": [
    "Can fill with zeros, ones, or make an array full of a general value."
   ]
  },
  {
   "cell_type": "code",
   "execution_count": 34,
   "id": "134e443f",
   "metadata": {},
   "outputs": [
    {
     "data": {
      "text/plain": [
       "array([0., 0., 0., 0., 0., 0., 0., 0.])"
      ]
     },
     "execution_count": 34,
     "metadata": {},
     "output_type": "execute_result"
    }
   ],
   "source": [
    "np.zeros( 8 )"
   ]
  },
  {
   "cell_type": "code",
   "execution_count": 35,
   "id": "0d5b21d7",
   "metadata": {},
   "outputs": [
    {
     "data": {
      "text/plain": [
       "array([0, 0, 0, 0, 0, 0, 0, 0, 0, 0, 0, 0, 0, 0, 0])"
      ]
     },
     "execution_count": 35,
     "metadata": {},
     "output_type": "execute_result"
    }
   ],
   "source": [
    "np.zeros( 15, dtype=\"int\")"
   ]
  },
  {
   "cell_type": "code",
   "execution_count": 36,
   "id": "6b283b8a",
   "metadata": {},
   "outputs": [
    {
     "data": {
      "text/plain": [
       "array([False, False, False, False, False, False, False, False, False,\n",
       "       False])"
      ]
     },
     "execution_count": 36,
     "metadata": {},
     "output_type": "execute_result"
    }
   ],
   "source": [
    "np.zeros( 10, dtype=\"bool\")"
   ]
  },
  {
   "cell_type": "code",
   "execution_count": 37,
   "id": "799d9baf",
   "metadata": {},
   "outputs": [
    {
     "data": {
      "text/plain": [
       "array([[0., 0., 0.],\n",
       "       [0., 0., 0.],\n",
       "       [0., 0., 0.],\n",
       "       [0., 0., 0.],\n",
       "       [0., 0., 0.]])"
      ]
     },
     "execution_count": 37,
     "metadata": {},
     "output_type": "execute_result"
    }
   ],
   "source": [
    "np.zeros( (5,3) )"
   ]
  },
  {
   "cell_type": "code",
   "execution_count": 38,
   "id": "0c1665c2",
   "metadata": {},
   "outputs": [
    {
     "data": {
      "text/plain": [
       "array([[[0., 0., 0., 0., 0.],\n",
       "        [0., 0., 0., 0., 0.],\n",
       "        [0., 0., 0., 0., 0.],\n",
       "        [0., 0., 0., 0., 0.],\n",
       "        [0., 0., 0., 0., 0.],\n",
       "        [0., 0., 0., 0., 0.],\n",
       "        [0., 0., 0., 0., 0.]],\n",
       "\n",
       "       [[0., 0., 0., 0., 0.],\n",
       "        [0., 0., 0., 0., 0.],\n",
       "        [0., 0., 0., 0., 0.],\n",
       "        [0., 0., 0., 0., 0.],\n",
       "        [0., 0., 0., 0., 0.],\n",
       "        [0., 0., 0., 0., 0.],\n",
       "        [0., 0., 0., 0., 0.]]])"
      ]
     },
     "execution_count": 38,
     "metadata": {},
     "output_type": "execute_result"
    }
   ],
   "source": [
    "np.zeros( (2,7,5) )"
   ]
  },
  {
   "cell_type": "code",
   "execution_count": 40,
   "id": "322aa5a3",
   "metadata": {},
   "outputs": [
    {
     "data": {
      "text/plain": [
       "array([1., 1., 1., 1., 1., 1.])"
      ]
     },
     "execution_count": 40,
     "metadata": {},
     "output_type": "execute_result"
    }
   ],
   "source": [
    "np.ones(6)"
   ]
  },
  {
   "cell_type": "code",
   "execution_count": 41,
   "id": "a5247d0d",
   "metadata": {},
   "outputs": [
    {
     "data": {
      "text/plain": [
       "array([[1., 1., 1.],\n",
       "       [1., 1., 1.],\n",
       "       [1., 1., 1.]])"
      ]
     },
     "execution_count": 41,
     "metadata": {},
     "output_type": "execute_result"
    }
   ],
   "source": [
    "np.ones((3,3))"
   ]
  },
  {
   "cell_type": "code",
   "execution_count": 43,
   "id": "8ed4e24c",
   "metadata": {},
   "outputs": [
    {
     "data": {
      "text/plain": [
       "array([[5.1, 5.1, 5.1, 5.1, 5.1],\n",
       "       [5.1, 5.1, 5.1, 5.1, 5.1],\n",
       "       [5.1, 5.1, 5.1, 5.1, 5.1],\n",
       "       [5.1, 5.1, 5.1, 5.1, 5.1]])"
      ]
     },
     "execution_count": 43,
     "metadata": {},
     "output_type": "execute_result"
    }
   ],
   "source": [
    "np.full((4,5), 5.1)"
   ]
  },
  {
   "cell_type": "markdown",
   "id": "649cede8",
   "metadata": {},
   "source": [
    "Can also ask for an array filled with random values (floats between 0 and 1, never exactly 1, uniformly distributed).  Note `np.random` is a submodule, you want `np.random.random(...)`"
   ]
  },
  {
   "cell_type": "code",
   "execution_count": 44,
   "id": "67c8a33a",
   "metadata": {},
   "outputs": [
    {
     "data": {
      "text/plain": [
       "array([[0.79926585, 0.89382772],\n",
       "       [0.50302303, 0.98457381],\n",
       "       [0.27077502, 0.5383192 ],\n",
       "       [0.88353585, 0.09694709]])"
      ]
     },
     "execution_count": 44,
     "metadata": {},
     "output_type": "execute_result"
    }
   ],
   "source": [
    "# `np.random.random(shape)`\n",
    "np.random.random( (4,2) )"
   ]
  },
  {
   "cell_type": "code",
   "execution_count": 45,
   "id": "9f208868",
   "metadata": {},
   "outputs": [
    {
     "data": {
      "text/plain": [
       "array([0.719524 , 0.5997997])"
      ]
     },
     "execution_count": 45,
     "metadata": {},
     "output_type": "execute_result"
    }
   ],
   "source": [
    "np.random.random(2)"
   ]
  },
  {
   "cell_type": "markdown",
   "id": "3d234ed0",
   "metadata": {},
   "source": [
    "## Special things about 2D arrays"
   ]
  },
  {
   "cell_type": "markdown",
   "id": "c913b0db",
   "metadata": {},
   "source": [
    "Identity (eye-dentity) matrix"
   ]
  },
  {
   "cell_type": "code",
   "execution_count": null,
   "id": "e8ed0c3e",
   "metadata": {},
   "outputs": [],
   "source": []
  },
  {
   "cell_type": "markdown",
   "id": "96cc0211",
   "metadata": {},
   "source": [
    "Transpose"
   ]
  },
  {
   "cell_type": "code",
   "execution_count": null,
   "id": "9906a836",
   "metadata": {},
   "outputs": [],
   "source": []
  },
  {
   "cell_type": "markdown",
   "id": "c6237fb2",
   "metadata": {},
   "source": [
    "## Vector algebra"
   ]
  },
  {
   "cell_type": "code",
   "execution_count": 46,
   "id": "02274a5a",
   "metadata": {},
   "outputs": [],
   "source": [
    "v = np.array([1,5,7])\n",
    "w = np.array([-2,-1,1])\n",
    "u = np.array([3,0,8])"
   ]
  },
  {
   "cell_type": "markdown",
   "id": "a82c5829",
   "metadata": {},
   "source": [
    "Dot product (and vector length)"
   ]
  },
  {
   "cell_type": "code",
   "execution_count": 48,
   "id": "867dacfd",
   "metadata": {},
   "outputs": [
    {
     "data": {
      "text/plain": [
       "0"
      ]
     },
     "execution_count": 48,
     "metadata": {},
     "output_type": "execute_result"
    }
   ],
   "source": [
    "v.dot(w) # rutern 1*(-2) + 5*(-1) + 7*1 = 0"
   ]
  },
  {
   "cell_type": "code",
   "execution_count": 49,
   "id": "c36c1136",
   "metadata": {},
   "outputs": [
    {
     "data": {
      "text/plain": [
       "59"
      ]
     },
     "execution_count": 49,
     "metadata": {},
     "output_type": "execute_result"
    }
   ],
   "source": [
    "u.dot(v)"
   ]
  },
  {
   "cell_type": "code",
   "execution_count": 51,
   "id": "6a63fd7b",
   "metadata": {},
   "outputs": [
    {
     "data": {
      "text/plain": [
       "0"
      ]
     },
     "execution_count": 51,
     "metadata": {},
     "output_type": "execute_result"
    }
   ],
   "source": [
    "np.dot(v,w)  # same as v.dot(w)"
   ]
  },
  {
   "cell_type": "code",
   "execution_count": 52,
   "id": "711838d9",
   "metadata": {},
   "outputs": [
    {
     "data": {
      "text/plain": [
       "8.660254037844387"
      ]
     },
     "execution_count": 52,
     "metadata": {},
     "output_type": "execute_result"
    }
   ],
   "source": [
    "v.dot(v)  # length squared\n",
    "v.dot(v) ** 0.5"
   ]
  },
  {
   "cell_type": "markdown",
   "id": "7210680d",
   "metadata": {},
   "source": [
    "Scalar multiplication"
   ]
  },
  {
   "cell_type": "code",
   "execution_count": 53,
   "id": "628cbe6e",
   "metadata": {},
   "outputs": [
    {
     "data": {
      "text/plain": [
       "array([1, 5, 7])"
      ]
     },
     "execution_count": 53,
     "metadata": {},
     "output_type": "execute_result"
    }
   ],
   "source": [
    "v"
   ]
  },
  {
   "cell_type": "code",
   "execution_count": 54,
   "id": "293abca2",
   "metadata": {},
   "outputs": [
    {
     "data": {
      "text/plain": [
       "array([10, 50, 70])"
      ]
     },
     "execution_count": 54,
     "metadata": {},
     "output_type": "execute_result"
    }
   ],
   "source": [
    "10*v"
   ]
  },
  {
   "cell_type": "code",
   "execution_count": 55,
   "id": "1f2d2ba2",
   "metadata": {},
   "outputs": [
    {
     "data": {
      "text/plain": [
       "array([ -2, -10, -14])"
      ]
     },
     "execution_count": 55,
     "metadata": {},
     "output_type": "execute_result"
    }
   ],
   "source": [
    "-2*v"
   ]
  },
  {
   "cell_type": "code",
   "execution_count": 56,
   "id": "0b59d69d",
   "metadata": {},
   "outputs": [
    {
     "data": {
      "text/plain": [
       "array([1.25, 6.25, 8.75])"
      ]
     },
     "execution_count": 56,
     "metadata": {},
     "output_type": "execute_result"
    }
   ],
   "source": [
    "1.25 * v"
   ]
  },
  {
   "cell_type": "markdown",
   "id": "0ce5e815",
   "metadata": {},
   "source": [
    "Elementwise sum"
   ]
  },
  {
   "cell_type": "code",
   "execution_count": 57,
   "id": "7b2cd023",
   "metadata": {},
   "outputs": [
    {
     "data": {
      "text/plain": [
       "array([1, 5, 7])"
      ]
     },
     "execution_count": 57,
     "metadata": {},
     "output_type": "execute_result"
    }
   ],
   "source": [
    "v"
   ]
  },
  {
   "cell_type": "code",
   "execution_count": 58,
   "id": "15695ada",
   "metadata": {},
   "outputs": [
    {
     "data": {
      "text/plain": [
       "array([-2, -1,  1])"
      ]
     },
     "execution_count": 58,
     "metadata": {},
     "output_type": "execute_result"
    }
   ],
   "source": [
    "w"
   ]
  },
  {
   "cell_type": "code",
   "execution_count": 59,
   "id": "fb4cce0d",
   "metadata": {},
   "outputs": [
    {
     "data": {
      "text/plain": [
       "array([-1,  4,  8])"
      ]
     },
     "execution_count": 59,
     "metadata": {},
     "output_type": "execute_result"
    }
   ],
   "source": [
    "v+w"
   ]
  },
  {
   "cell_type": "markdown",
   "id": "1c9b1142",
   "metadata": {},
   "source": [
    "Elementwise product (?!)"
   ]
  },
  {
   "cell_type": "code",
   "execution_count": 60,
   "id": "45959338",
   "metadata": {},
   "outputs": [
    {
     "data": {
      "text/plain": [
       "array([-2, -5,  7])"
      ]
     },
     "execution_count": 60,
     "metadata": {},
     "output_type": "execute_result"
    }
   ],
   "source": [
    "v*w"
   ]
  },
  {
   "cell_type": "markdown",
   "id": "03b09226",
   "metadata": {},
   "source": [
    "## Arithmetic progressions"
   ]
  },
  {
   "cell_type": "markdown",
   "id": "0d866cfb",
   "metadata": {},
   "source": [
    "* `np.arange` is `start`, `stop`, `step`\n",
    "* `np.linspace` is `first`,`last`,`number`"
   ]
  },
  {
   "cell_type": "code",
   "execution_count": 61,
   "id": "192ccc30",
   "metadata": {},
   "outputs": [
    {
     "data": {
      "text/plain": [
       "[5, 7, 9, 11, 13, 15, 17, 19]"
      ]
     },
     "execution_count": 61,
     "metadata": {},
     "output_type": "execute_result"
    }
   ],
   "source": [
    "list(range(5,20,2))"
   ]
  },
  {
   "cell_type": "code",
   "execution_count": 62,
   "id": "ce169a6e",
   "metadata": {},
   "outputs": [
    {
     "data": {
      "text/plain": [
       "array([ 5,  7,  9, 11, 13, 15, 17, 19])"
      ]
     },
     "execution_count": 62,
     "metadata": {},
     "output_type": "execute_result"
    }
   ],
   "source": [
    "np.arange(5,20,2)"
   ]
  },
  {
   "cell_type": "code",
   "execution_count": 63,
   "id": "64d3ad59",
   "metadata": {},
   "outputs": [
    {
     "data": {
      "text/plain": [
       "array([ 5. ,  6.5,  8. ,  9.5, 11. , 12.5, 14. , 15.5, 17. , 18.5])"
      ]
     },
     "execution_count": 63,
     "metadata": {},
     "output_type": "execute_result"
    }
   ],
   "source": [
    "np.arange(5,20,1.5)"
   ]
  },
  {
   "cell_type": "code",
   "execution_count": 65,
   "id": "3cf5d8c9",
   "metadata": {},
   "outputs": [
    {
     "data": {
      "text/plain": [
       "array([0.1  , 0.115, 0.13 , 0.145, 0.16 , 0.175, 0.19 ])"
      ]
     },
     "execution_count": 65,
     "metadata": {},
     "output_type": "execute_result"
    }
   ],
   "source": [
    "np.arange(0.1,0.2,0.015)"
   ]
  },
  {
   "cell_type": "markdown",
   "id": "6ecc13e2",
   "metadata": {},
   "source": [
    "## Accessing items\n",
    "\n",
    "0-based index"
   ]
  },
  {
   "cell_type": "code",
   "execution_count": 66,
   "id": "a896a699",
   "metadata": {},
   "outputs": [
    {
     "data": {
      "text/plain": [
       "array([ 1.  ,  2.  ,  5.  , 91.  ,  0.25])"
      ]
     },
     "execution_count": 66,
     "metadata": {},
     "output_type": "execute_result"
    }
   ],
   "source": [
    "x"
   ]
  },
  {
   "cell_type": "code",
   "execution_count": 70,
   "id": "26125e46",
   "metadata": {},
   "outputs": [
    {
     "data": {
      "text/plain": [
       "1.0"
      ]
     },
     "execution_count": 70,
     "metadata": {},
     "output_type": "execute_result"
    }
   ],
   "source": [
    "x[0]"
   ]
  },
  {
   "cell_type": "code",
   "execution_count": 67,
   "id": "d7023683",
   "metadata": {},
   "outputs": [
    {
     "data": {
      "text/plain": [
       "91.0"
      ]
     },
     "execution_count": 67,
     "metadata": {},
     "output_type": "execute_result"
    }
   ],
   "source": [
    "x[3]  # item at index 3"
   ]
  },
  {
   "cell_type": "code",
   "execution_count": 68,
   "id": "cb000c2b",
   "metadata": {},
   "outputs": [
    {
     "name": "stdout",
     "output_type": "stream",
     "text": [
      "1.0 is one of the components of the vector\n",
      "2.0 is one of the components of the vector\n",
      "5.0 is one of the components of the vector\n",
      "91.0 is one of the components of the vector\n",
      "0.25 is one of the components of the vector\n"
     ]
    }
   ],
   "source": [
    "for t in x:\n",
    "    print(t,\"is one of the components of the vector\")"
   ]
  },
  {
   "cell_type": "markdown",
   "id": "ee16d473",
   "metadata": {},
   "source": [
    "Multidimensional indexing: use a tuple of indices"
   ]
  },
  {
   "cell_type": "code",
   "execution_count": 71,
   "id": "84bd70fd",
   "metadata": {},
   "outputs": [
    {
     "data": {
      "text/plain": [
       "array([[1, 2, 3],\n",
       "       [4, 5, 6],\n",
       "       [7, 8, 9]])"
      ]
     },
     "execution_count": 71,
     "metadata": {},
     "output_type": "execute_result"
    }
   ],
   "source": [
    "A"
   ]
  },
  {
   "cell_type": "code",
   "execution_count": 72,
   "id": "633e0254",
   "metadata": {},
   "outputs": [
    {
     "data": {
      "text/plain": [
       "8"
      ]
     },
     "execution_count": 72,
     "metadata": {},
     "output_type": "execute_result"
    }
   ],
   "source": [
    "#A[rownumber, columnnumber]\n",
    "A[2,1]"
   ]
  },
  {
   "cell_type": "markdown",
   "id": "421a5796",
   "metadata": {},
   "source": [
    "Omitted indices at the end mean \"everything from those dimensions\""
   ]
  },
  {
   "cell_type": "code",
   "execution_count": null,
   "id": "3cf11751",
   "metadata": {},
   "outputs": [],
   "source": []
  },
  {
   "cell_type": "markdown",
   "id": "c208c123",
   "metadata": {},
   "source": [
    "Using `:` as an index means \"everything from that dimension\""
   ]
  },
  {
   "cell_type": "code",
   "execution_count": null,
   "id": "e77936f5",
   "metadata": {},
   "outputs": [],
   "source": []
  },
  {
   "cell_type": "markdown",
   "id": "bc5f6813",
   "metadata": {},
   "source": [
    "## Assigning items\n",
    "\n",
    "**`numpy` arrays are mutable** 😱"
   ]
  },
  {
   "cell_type": "code",
   "execution_count": null,
   "id": "93fbe3e2",
   "metadata": {},
   "outputs": [],
   "source": []
  },
  {
   "cell_type": "markdown",
   "id": "caeef09f",
   "metadata": {},
   "source": [
    "## Slices\n",
    "\n",
    "Can combine slice notation with multiple indices."
   ]
  },
  {
   "cell_type": "code",
   "execution_count": null,
   "id": "029b0199",
   "metadata": {},
   "outputs": [],
   "source": []
  },
  {
   "cell_type": "markdown",
   "id": "ab73bf2b",
   "metadata": {},
   "source": [
    "Slices return **views**, not copies."
   ]
  },
  {
   "cell_type": "code",
   "execution_count": null,
   "id": "c76bb2e5",
   "metadata": {},
   "outputs": [],
   "source": []
  },
  {
   "cell_type": "markdown",
   "id": "49c53103",
   "metadata": {},
   "source": [
    "## Equality and bool\n",
    "\n",
    "`.all()` checks if an array of booleans is all `True`."
   ]
  },
  {
   "cell_type": "code",
   "execution_count": null,
   "id": "986dedb8",
   "metadata": {},
   "outputs": [],
   "source": []
  },
  {
   "cell_type": "markdown",
   "id": "bb914bb5",
   "metadata": {},
   "source": [
    "## Ufuncs\n",
    "\n",
    "Functions that automatically apply to each entry in an array."
   ]
  },
  {
   "cell_type": "markdown",
   "id": "f816ad3b",
   "metadata": {},
   "source": [
    "### Some arrays to operate on"
   ]
  },
  {
   "cell_type": "code",
   "execution_count": null,
   "id": "7eb1e281",
   "metadata": {},
   "outputs": [],
   "source": []
  },
  {
   "cell_type": "markdown",
   "id": "99440cd0",
   "metadata": {},
   "source": [
    "### Examples of numpy ufuncs"
   ]
  },
  {
   "cell_type": "code",
   "execution_count": null,
   "id": "8dc4ab1f",
   "metadata": {},
   "outputs": [],
   "source": []
  },
  {
   "cell_type": "markdown",
   "id": "5750b807",
   "metadata": {},
   "source": [
    "Let $f(x) = 3x^2 - 8x + 14$.  Apply $f$ to each element of array `v`."
   ]
  },
  {
   "cell_type": "code",
   "execution_count": null,
   "id": "620c757a",
   "metadata": {},
   "outputs": [],
   "source": []
  },
  {
   "cell_type": "markdown",
   "id": "f86a385f",
   "metadata": {},
   "source": [
    "## Broadcasting"
   ]
  },
  {
   "cell_type": "code",
   "execution_count": null,
   "id": "c7837f69",
   "metadata": {},
   "outputs": [],
   "source": []
  },
  {
   "cell_type": "markdown",
   "id": "dd2318f3",
   "metadata": {},
   "source": [
    "## Aggregations\n",
    "\n",
    "`sum`, `max`, `min`, `argmax`, `argmin`, `mean`, `all`, `any`, `array_equal`"
   ]
  },
  {
   "cell_type": "code",
   "execution_count": null,
   "id": "72eb3e0c",
   "metadata": {},
   "outputs": [],
   "source": []
  },
  {
   "cell_type": "markdown",
   "id": "08858554",
   "metadata": {},
   "source": [
    "## Masks"
   ]
  },
  {
   "cell_type": "code",
   "execution_count": null,
   "id": "1390ac88",
   "metadata": {},
   "outputs": [],
   "source": []
  },
  {
   "cell_type": "markdown",
   "id": "9909646e",
   "metadata": {},
   "source": [
    "## Pillow integration\n",
    "\n",
    "* `np.array(img)` just works, if `img` is a `PIL.Image` object\n",
    "* Use `PIL.Image.fromarray(A)` to make an image from an array\n",
    "    * Shape `(height,width)` and dtype `uint8` for grayscale\n",
    "    * Shape `(height,width,3)` and dtype `uint8` for color (last axis is red, green, blue)"
   ]
  },
  {
   "cell_type": "code",
   "execution_count": null,
   "id": "9c9a0e35",
   "metadata": {},
   "outputs": [],
   "source": []
  }
 ],
 "metadata": {
  "kernelspec": {
   "display_name": "Python 3 (ipykernel)",
   "language": "python",
   "name": "python3"
  },
  "language_info": {
   "codemirror_mode": {
    "name": "ipython",
    "version": 3
   },
   "file_extension": ".py",
   "mimetype": "text/x-python",
   "name": "python",
   "nbconvert_exporter": "python",
   "pygments_lexer": "ipython3",
   "version": "3.10.12"
  }
 },
 "nbformat": 4,
 "nbformat_minor": 5
}
