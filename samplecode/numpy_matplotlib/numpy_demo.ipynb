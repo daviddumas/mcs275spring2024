{
 "cells": [
  {
   "cell_type": "markdown",
   "id": "90415c86",
   "metadata": {},
   "source": [
    "# Demo of some `numpy` features\n",
    "\n",
    "## MCS 275 Spring 2024 - David Dumas\n",
    "\n",
    "This is a quick tour of some `numpy` features.  For more detail see:\n",
    "* [Chapter 2 of VanderPlas](https://jakevdp.github.io/PythonDataScienceHandbook/02.00-introduction-to-numpy.html)\n",
    "* [The numpy documentation](https://numpy.org/doc/stable/)"
   ]
  },
  {
   "cell_type": "markdown",
   "id": "d5ffa02e",
   "metadata": {},
   "source": [
    "## Importing the module\n",
    "\n",
    "And checking the version."
   ]
  },
  {
   "cell_type": "code",
   "execution_count": 2,
   "id": "89d672f7",
   "metadata": {},
   "outputs": [
    {
     "data": {
      "text/plain": [
       "'1.21.5'"
      ]
     },
     "execution_count": 2,
     "metadata": {},
     "output_type": "execute_result"
    }
   ],
   "source": [
    "import numpy as np\n",
    "np.__version__"
   ]
  },
  {
   "cell_type": "markdown",
   "id": "91294334",
   "metadata": {},
   "source": [
    "## Creating arrays\n",
    "\n",
    "They are iterable and type-homogeneous.  Can make one from any suitable iterable.\n",
    "\n",
    "[List of built-in dtypes](https://numpy.org/doc/stable/reference/arrays.scalars.html#arrays-scalars-built-in)."
   ]
  },
  {
   "cell_type": "code",
   "execution_count": 3,
   "id": "68896296",
   "metadata": {},
   "outputs": [],
   "source": [
    "# `np.array` will convert from an iterable\n",
    "x = np.array([2,4,8,16,32])"
   ]
  },
  {
   "cell_type": "code",
   "execution_count": 8,
   "id": "05995cfc",
   "metadata": {},
   "outputs": [],
   "source": [
    "# List of lists -> 4 row, 3 column matrix (2 dimensional array)\n",
    "A = np.array([[1,2,3],[4,5,6],[7,8,9],[0,2,0]])"
   ]
  },
  {
   "cell_type": "code",
   "execution_count": 11,
   "id": "ee97cd1c",
   "metadata": {},
   "outputs": [
    {
     "name": "stdout",
     "output_type": "stream",
     "text": [
      "[ 2  4  8 16 32]\n",
      "\n",
      "[[1 2 3]\n",
      " [4 5 6]\n",
      " [7 8 9]\n",
      " [0 2 0]]\n"
     ]
    }
   ],
   "source": [
    "# nice display\n",
    "print(x)\n",
    "print()\n",
    "print(A)"
   ]
  },
  {
   "cell_type": "code",
   "execution_count": 13,
   "id": "65571b87",
   "metadata": {},
   "outputs": [
    {
     "data": {
      "text/plain": [
       "numpy.ndarray"
      ]
     },
     "execution_count": 13,
     "metadata": {},
     "output_type": "execute_result"
    }
   ],
   "source": [
    "# ndarray class\n",
    "type(x)"
   ]
  },
  {
   "cell_type": "markdown",
   "id": "a4da6e09",
   "metadata": {},
   "source": [
    "Check number of dimensions"
   ]
  },
  {
   "cell_type": "code",
   "execution_count": 6,
   "id": "4691d548",
   "metadata": {},
   "outputs": [
    {
     "data": {
      "text/plain": [
       "1"
      ]
     },
     "execution_count": 6,
     "metadata": {},
     "output_type": "execute_result"
    }
   ],
   "source": [
    "x.ndim # how many dimensions?"
   ]
  },
  {
   "cell_type": "code",
   "execution_count": 14,
   "id": "8c7e12af",
   "metadata": {},
   "outputs": [
    {
     "data": {
      "text/plain": [
       "2"
      ]
     },
     "execution_count": 14,
     "metadata": {},
     "output_type": "execute_result"
    }
   ],
   "source": [
    "A.ndim"
   ]
  },
  {
   "cell_type": "markdown",
   "id": "536111f4",
   "metadata": {},
   "source": [
    "Check shape (size in each dimension)"
   ]
  },
  {
   "cell_type": "code",
   "execution_count": 7,
   "id": "49c8919c",
   "metadata": {},
   "outputs": [
    {
     "data": {
      "text/plain": [
       "(5,)"
      ]
     },
     "execution_count": 7,
     "metadata": {},
     "output_type": "execute_result"
    }
   ],
   "source": [
    "x.shape # size in each dimension, as a tuple"
   ]
  },
  {
   "cell_type": "code",
   "execution_count": 15,
   "id": "9257352b",
   "metadata": {},
   "outputs": [
    {
     "data": {
      "text/plain": [
       "(4, 3)"
      ]
     },
     "execution_count": 15,
     "metadata": {},
     "output_type": "execute_result"
    }
   ],
   "source": [
    "A.shape"
   ]
  },
  {
   "cell_type": "markdown",
   "id": "8174347f",
   "metadata": {},
   "source": [
    "Check \"length\" (first elt of shape)"
   ]
  },
  {
   "cell_type": "code",
   "execution_count": 16,
   "id": "53ab2831",
   "metadata": {},
   "outputs": [
    {
     "data": {
      "text/plain": [
       "5"
      ]
     },
     "execution_count": 16,
     "metadata": {},
     "output_type": "execute_result"
    }
   ],
   "source": [
    "len(x) # number of items in the vector"
   ]
  },
  {
   "cell_type": "code",
   "execution_count": 17,
   "id": "e65c6643",
   "metadata": {},
   "outputs": [
    {
     "data": {
      "text/plain": [
       "4"
      ]
     },
     "execution_count": 17,
     "metadata": {},
     "output_type": "execute_result"
    }
   ],
   "source": [
    "len(A) # number of rows in the matrix = A.shape[0]"
   ]
  },
  {
   "cell_type": "markdown",
   "id": "21d52f4d",
   "metadata": {},
   "source": [
    "In general, `len(m)` means `m.shape[0]` if `m` is a numpy array."
   ]
  },
  {
   "cell_type": "markdown",
   "id": "6faadb20",
   "metadata": {
    "scrolled": true
   },
   "source": [
    "Check data type"
   ]
  },
  {
   "cell_type": "code",
   "execution_count": 18,
   "id": "ddc9282b",
   "metadata": {},
   "outputs": [
    {
     "data": {
      "text/plain": [
       "dtype('int64')"
      ]
     },
     "execution_count": 18,
     "metadata": {},
     "output_type": "execute_result"
    }
   ],
   "source": [
    "x.dtype # int64 means (signed) integer, 64 bits"
   ]
  },
  {
   "cell_type": "markdown",
   "id": "093de5cf",
   "metadata": {},
   "source": [
    "Data type typically inferred but can be specified (potential lossy process)"
   ]
  },
  {
   "cell_type": "code",
   "execution_count": 19,
   "id": "37a60774",
   "metadata": {},
   "outputs": [],
   "source": [
    "# Given a mix of integers and floats, numpy\n",
    "# will choose a floating point dtype\n",
    "y= np.array([5,6,7,7.289])"
   ]
  },
  {
   "cell_type": "code",
   "execution_count": 20,
   "id": "8a697e99",
   "metadata": {},
   "outputs": [
    {
     "data": {
      "text/plain": [
       "array([5.   , 6.   , 7.   , 7.289])"
      ]
     },
     "execution_count": 20,
     "metadata": {},
     "output_type": "execute_result"
    }
   ],
   "source": [
    "y"
   ]
  },
  {
   "cell_type": "code",
   "execution_count": 21,
   "id": "59b83f0d",
   "metadata": {},
   "outputs": [
    {
     "data": {
      "text/plain": [
       "dtype('float64')"
      ]
     },
     "execution_count": 21,
     "metadata": {},
     "output_type": "execute_result"
    }
   ],
   "source": [
    "y.dtype # float64 means float, 64 bits (double)"
   ]
  },
  {
   "cell_type": "code",
   "execution_count": 22,
   "id": "045b46c1",
   "metadata": {},
   "outputs": [],
   "source": [
    "y_force_int = y= np.array([5,6,7,7.289], dtype=\"int\")"
   ]
  },
  {
   "cell_type": "code",
   "execution_count": 25,
   "id": "c3bcbb8c",
   "metadata": {},
   "outputs": [
    {
     "data": {
      "text/plain": [
       "array([5, 6, 7, 7])"
      ]
     },
     "execution_count": 25,
     "metadata": {},
     "output_type": "execute_result"
    }
   ],
   "source": [
    "# Notice we lost precision by specifying dtype int\n",
    "y_force_int"
   ]
  },
  {
   "cell_type": "code",
   "execution_count": 24,
   "id": "ce0a6602",
   "metadata": {},
   "outputs": [
    {
     "data": {
      "text/plain": [
       "dtype('int64')"
      ]
     },
     "execution_count": 24,
     "metadata": {},
     "output_type": "execute_result"
    }
   ],
   "source": [
    "# Notice numpy chose a precise type compatible with\n",
    "# the request \"int\"\n",
    "y_force_int.dtype"
   ]
  },
  {
   "cell_type": "code",
   "execution_count": 26,
   "id": "be1d312e",
   "metadata": {},
   "outputs": [],
   "source": [
    "# uint8 means UNSIGNED integer, 8 bits\n",
    "# UNSIGNED = only 0 and positive values\n",
    "# range is 0...255\n",
    "z = np.array([1,-1,2,100,300,500,800,16384], dtype=\"uint8\")"
   ]
  },
  {
   "cell_type": "code",
   "execution_count": 27,
   "id": "d6c56406",
   "metadata": {},
   "outputs": [
    {
     "data": {
      "text/plain": [
       "array([  1, 255,   2, 100,  44, 244,  32,   0], dtype=uint8)"
      ]
     },
     "execution_count": 27,
     "metadata": {},
     "output_type": "execute_result"
    }
   ],
   "source": [
    "z"
   ]
  },
  {
   "cell_type": "code",
   "execution_count": 28,
   "id": "012ae30c",
   "metadata": {},
   "outputs": [
    {
     "data": {
      "text/plain": [
       "44"
      ]
     },
     "execution_count": 28,
     "metadata": {},
     "output_type": "execute_result"
    }
   ],
   "source": [
    "# Why did 300 appear as 44 in the array above?\n",
    "300 % 256"
   ]
  },
  {
   "cell_type": "markdown",
   "id": "5930ca0e",
   "metadata": {},
   "source": [
    "## Filled arrays"
   ]
  },
  {
   "cell_type": "markdown",
   "id": "96e31668",
   "metadata": {},
   "source": [
    "Can fill with zeros, ones, or make an array full of a general value."
   ]
  },
  {
   "cell_type": "code",
   "execution_count": 29,
   "id": "134e443f",
   "metadata": {},
   "outputs": [
    {
     "data": {
      "text/plain": [
       "array([[0, 0, 0, 0, 0, 0, 0, 0, 0, 0, 0, 0],\n",
       "       [0, 0, 0, 0, 0, 0, 0, 0, 0, 0, 0, 0],\n",
       "       [0, 0, 0, 0, 0, 0, 0, 0, 0, 0, 0, 0]])"
      ]
     },
     "execution_count": 29,
     "metadata": {},
     "output_type": "execute_result"
    }
   ],
   "source": [
    "# Filled with zeros\n",
    "np.zeros( (3,12), dtype=\"int64\")"
   ]
  },
  {
   "cell_type": "code",
   "execution_count": 30,
   "id": "e1f2dc2c",
   "metadata": {},
   "outputs": [
    {
     "data": {
      "text/plain": [
       "array([[1., 1.],\n",
       "       [1., 1.],\n",
       "       [1., 1.],\n",
       "       [1., 1.],\n",
       "       [1., 1.],\n",
       "       [1., 1.]])"
      ]
     },
     "execution_count": 30,
     "metadata": {},
     "output_type": "execute_result"
    }
   ],
   "source": [
    "# Filled with ones\n",
    "np.ones( (6,2), dtype=\"float64\")"
   ]
  },
  {
   "cell_type": "code",
   "execution_count": 31,
   "id": "5b49b180",
   "metadata": {},
   "outputs": [
    {
     "data": {
      "text/plain": [
       "array([[42, 42, 42, 42],\n",
       "       [42, 42, 42, 42],\n",
       "       [42, 42, 42, 42],\n",
       "       [42, 42, 42, 42],\n",
       "       [42, 42, 42, 42],\n",
       "       [42, 42, 42, 42],\n",
       "       [42, 42, 42, 42]], dtype=uint8)"
      ]
     },
     "execution_count": 31,
     "metadata": {},
     "output_type": "execute_result"
    }
   ],
   "source": [
    "# Filled with one value\n",
    "np.full( (7,4), 42, dtype=\"uint8\" )"
   ]
  },
  {
   "cell_type": "markdown",
   "id": "649cede8",
   "metadata": {},
   "source": [
    "Can also ask for an array filled with random values (floats between 0 and 1, never exactly 1, uniformly distributed).  Note `np.random` is a submodule, you want `np.random.random(...)`"
   ]
  },
  {
   "cell_type": "code",
   "execution_count": 32,
   "id": "67c8a33a",
   "metadata": {},
   "outputs": [
    {
     "data": {
      "text/plain": [
       "array([[0.84985369, 0.52904623, 0.06757972, 0.60749338, 0.44579558],\n",
       "       [0.94276045, 0.22398809, 0.99290933, 0.9505469 , 0.65531365],\n",
       "       [0.0944089 , 0.67245052, 0.25851387, 0.81402906, 0.02156303],\n",
       "       [0.16531779, 0.87858936, 0.60636781, 0.24837322, 0.67221406]])"
      ]
     },
     "execution_count": 32,
     "metadata": {},
     "output_type": "execute_result"
    }
   ],
   "source": [
    "# Filled with random numbers between 0 and 1\n",
    "np.random.random( (4,5) )  # argument is the shape"
   ]
  },
  {
   "cell_type": "markdown",
   "id": "3d234ed0",
   "metadata": {},
   "source": [
    "## Special things about 2D arrays"
   ]
  },
  {
   "cell_type": "markdown",
   "id": "c913b0db",
   "metadata": {},
   "source": [
    "Identity (eye-dentity) matrix"
   ]
  },
  {
   "cell_type": "code",
   "execution_count": null,
   "id": "e8ed0c3e",
   "metadata": {},
   "outputs": [],
   "source": []
  },
  {
   "cell_type": "markdown",
   "id": "96cc0211",
   "metadata": {},
   "source": [
    "Transpose"
   ]
  },
  {
   "cell_type": "code",
   "execution_count": null,
   "id": "9906a836",
   "metadata": {},
   "outputs": [],
   "source": []
  },
  {
   "cell_type": "markdown",
   "id": "c6237fb2",
   "metadata": {},
   "source": [
    "## Vector algebra"
   ]
  },
  {
   "cell_type": "code",
   "execution_count": 33,
   "id": "8363f0be",
   "metadata": {},
   "outputs": [],
   "source": [
    "# two 3-dimensional vectors\n",
    "v = np.array([1,2,5])\n",
    "w = np.array([4,-8,0])"
   ]
  },
  {
   "cell_type": "markdown",
   "id": "a82c5829",
   "metadata": {},
   "source": [
    "Dot product (and vector length)"
   ]
  },
  {
   "cell_type": "code",
   "execution_count": 34,
   "id": "867dacfd",
   "metadata": {},
   "outputs": [
    {
     "data": {
      "text/plain": [
       "-12"
      ]
     },
     "execution_count": 34,
     "metadata": {},
     "output_type": "execute_result"
    }
   ],
   "source": [
    "v.dot(w) # dot product\n",
    "#   1*4 + 2*(-8) + 5*0"
   ]
  },
  {
   "cell_type": "code",
   "execution_count": 35,
   "id": "0e47273f",
   "metadata": {},
   "outputs": [
    {
     "data": {
      "text/plain": [
       "5.477225575051661"
      ]
     },
     "execution_count": 35,
     "metadata": {},
     "output_type": "execute_result"
    }
   ],
   "source": [
    "v.dot(v)**0.5 # length"
   ]
  },
  {
   "cell_type": "markdown",
   "id": "7210680d",
   "metadata": {},
   "source": [
    "Scalar multiplication"
   ]
  },
  {
   "cell_type": "code",
   "execution_count": 36,
   "id": "628cbe6e",
   "metadata": {},
   "outputs": [
    {
     "data": {
      "text/plain": [
       "array([1.8, 3.6, 9. ])"
      ]
     },
     "execution_count": 36,
     "metadata": {},
     "output_type": "execute_result"
    }
   ],
   "source": [
    "1.8 * v # scalar multiplication"
   ]
  },
  {
   "cell_type": "markdown",
   "id": "0ce5e815",
   "metadata": {},
   "source": [
    "Elementwise sum"
   ]
  },
  {
   "cell_type": "code",
   "execution_count": 37,
   "id": "7b2cd023",
   "metadata": {},
   "outputs": [
    {
     "data": {
      "text/plain": [
       "array([ 5, -6,  5])"
      ]
     },
     "execution_count": 37,
     "metadata": {},
     "output_type": "execute_result"
    }
   ],
   "source": [
    "v+w # elementwise sum"
   ]
  },
  {
   "cell_type": "markdown",
   "id": "1c9b1142",
   "metadata": {},
   "source": [
    "Elementwise product (?!)"
   ]
  },
  {
   "cell_type": "code",
   "execution_count": 38,
   "id": "45959338",
   "metadata": {},
   "outputs": [
    {
     "data": {
      "text/plain": [
       "array([  4, -16,   0])"
      ]
     },
     "execution_count": 38,
     "metadata": {},
     "output_type": "execute_result"
    }
   ],
   "source": [
    "v*w # elementwise product"
   ]
  },
  {
   "cell_type": "markdown",
   "id": "03b09226",
   "metadata": {},
   "source": [
    "## Arithmetic progressions"
   ]
  },
  {
   "cell_type": "markdown",
   "id": "0d866cfb",
   "metadata": {},
   "source": [
    "* `np.arange` is `start`, `stop`, `step`\n",
    "* `np.linspace` is `first`,`last`,`number`"
   ]
  },
  {
   "cell_type": "code",
   "execution_count": 39,
   "id": "192ccc30",
   "metadata": {},
   "outputs": [
    {
     "data": {
      "text/plain": [
       "[3, 5, 7, 9, 11, 13, 15, 17, 19]"
      ]
     },
     "execution_count": 39,
     "metadata": {},
     "output_type": "execute_result"
    }
   ],
   "source": [
    "# Recall how you get a list of integer values\n",
    "# in arithmetic progression using built-in stuff\n",
    "list(range(3,20,2))"
   ]
  },
  {
   "cell_type": "markdown",
   "id": "017408e1",
   "metadata": {},
   "source": [
    "The similarly named `arange` from `numpy` does all this and more."
   ]
  },
  {
   "cell_type": "code",
   "execution_count": 40,
   "id": "7510c5e9",
   "metadata": {},
   "outputs": [
    {
     "data": {
      "text/plain": [
       "array([2. , 2.1, 2.2, 2.3, 2.4, 2.5, 2.6, 2.7, 2.8, 2.9])"
      ]
     },
     "execution_count": 40,
     "metadata": {},
     "output_type": "execute_result"
    }
   ],
   "source": [
    "# From 2 up to but not including 3 in steps of size 0.1\n",
    "np.arange(2,3,0.1)   # start, stop (not included), step"
   ]
  },
  {
   "cell_type": "markdown",
   "id": "8787df57",
   "metadata": {},
   "source": [
    "When you know how many points you want, rather than the spacing, it's better to use `np.linspace`.  It takes the first and last elements, then the number of evenly-spaced points you want between them."
   ]
  },
  {
   "cell_type": "code",
   "execution_count": 41,
   "id": "7bce88f4",
   "metadata": {},
   "outputs": [
    {
     "data": {
      "text/plain": [
       "array([12. , 12.4, 12.8, 13.2, 13.6, 14. ])"
      ]
     },
     "execution_count": 41,
     "metadata": {},
     "output_type": "execute_result"
    }
   ],
   "source": [
    "# From 12 to 14 in 6 steps; \n",
    "np.linspace( 12, 14, 6 )   # first, last, number of elements"
   ]
  },
  {
   "cell_type": "markdown",
   "id": "6ecc13e2",
   "metadata": {},
   "source": [
    "## Accessing items\n",
    "\n",
    "Zero-based indexing.  For multi-dimensional arrays, give several integer indices separated by commas."
   ]
  },
  {
   "cell_type": "code",
   "execution_count": 47,
   "id": "21bb8e07",
   "metadata": {},
   "outputs": [
    {
     "data": {
      "text/plain": [
       "array([ 8, 11, 14, 17, 20, 23])"
      ]
     },
     "execution_count": 47,
     "metadata": {},
     "output_type": "execute_result"
    }
   ],
   "source": [
    "v = np.arange(8,24,3)\n",
    "v"
   ]
  },
  {
   "cell_type": "code",
   "execution_count": 44,
   "id": "a896a699",
   "metadata": {},
   "outputs": [
    {
     "data": {
      "text/plain": [
       "array([[ 1,  2,  3],\n",
       "       [ 4,  5,  6],\n",
       "       [ 7,  8,  9],\n",
       "       [ 0, -2, 16]])"
      ]
     },
     "execution_count": 44,
     "metadata": {},
     "output_type": "execute_result"
    }
   ],
   "source": [
    "A = np.array([[1,2,3],[4,5,6],[7,8,9],[0,-2,16]])\n",
    "A"
   ]
  },
  {
   "cell_type": "markdown",
   "id": "a9dc0d34",
   "metadata": {},
   "source": [
    "### Vector indexing: Just like lists"
   ]
  },
  {
   "cell_type": "code",
   "execution_count": 48,
   "id": "81e05034",
   "metadata": {},
   "outputs": [
    {
     "data": {
      "text/plain": [
       "8"
      ]
     },
     "execution_count": 48,
     "metadata": {},
     "output_type": "execute_result"
    }
   ],
   "source": [
    "v[0]"
   ]
  },
  {
   "cell_type": "code",
   "execution_count": 49,
   "id": "ea4b2bcf",
   "metadata": {},
   "outputs": [
    {
     "data": {
      "text/plain": [
       "20"
      ]
     },
     "execution_count": 49,
     "metadata": {},
     "output_type": "execute_result"
    }
   ],
   "source": [
    "v[4]"
   ]
  },
  {
   "cell_type": "code",
   "execution_count": 51,
   "id": "928a3ebd",
   "metadata": {},
   "outputs": [
    {
     "data": {
      "text/plain": [
       "23"
      ]
     },
     "execution_count": 51,
     "metadata": {},
     "output_type": "execute_result"
    }
   ],
   "source": [
    "v[-1]"
   ]
  },
  {
   "cell_type": "markdown",
   "id": "ee16d473",
   "metadata": {},
   "source": [
    "### Multidimensional indexing: use a tuple of indices\n",
    "\n",
    "For matrices, it's `[row, col]`"
   ]
  },
  {
   "cell_type": "code",
   "execution_count": 53,
   "id": "84bd70fd",
   "metadata": {},
   "outputs": [
    {
     "name": "stdout",
     "output_type": "stream",
     "text": [
      "[[ 1  2  3]\n",
      " [ 4  5  6]\n",
      " [ 7  8  9]\n",
      " [ 0 -2 16]]\n",
      "\n",
      "2\n"
     ]
    }
   ],
   "source": [
    "print(A)\n",
    "print()\n",
    "print(A[0,1])  # row 0 column 1"
   ]
  },
  {
   "cell_type": "markdown",
   "id": "421a5796",
   "metadata": {},
   "source": [
    "Omitted indices at the end mean \"everything from those dimensions\""
   ]
  },
  {
   "cell_type": "code",
   "execution_count": 54,
   "id": "3cf11751",
   "metadata": {},
   "outputs": [
    {
     "data": {
      "text/plain": [
       "array([7, 8, 9])"
      ]
     },
     "execution_count": 54,
     "metadata": {},
     "output_type": "execute_result"
    }
   ],
   "source": [
    "A[2] # Row 2"
   ]
  },
  {
   "cell_type": "markdown",
   "id": "c208c123",
   "metadata": {},
   "source": [
    "Using `:` as an index means \"everything from that dimension\""
   ]
  },
  {
   "cell_type": "code",
   "execution_count": 56,
   "id": "e77936f5",
   "metadata": {},
   "outputs": [
    {
     "name": "stdout",
     "output_type": "stream",
     "text": [
      "[[ 1  2  3]\n",
      " [ 4  5  6]\n",
      " [ 7  8  9]\n",
      " [ 0 -2 16]]\n",
      "\n",
      "[ 2  5  8 -2]\n"
     ]
    }
   ],
   "source": [
    "print(A)\n",
    "print()\n",
    "# All rows, column 1; that is, get column 1 as a vector\n",
    "print(A[:,1])  "
   ]
  },
  {
   "cell_type": "markdown",
   "id": "bc5f6813",
   "metadata": {},
   "source": [
    "## Assigning items\n",
    "\n",
    "**`numpy` arrays are mutable** 😱"
   ]
  },
  {
   "cell_type": "code",
   "execution_count": null,
   "id": "93fbe3e2",
   "metadata": {},
   "outputs": [],
   "source": []
  },
  {
   "cell_type": "markdown",
   "id": "caeef09f",
   "metadata": {},
   "source": [
    "## Slices\n",
    "\n",
    "Can combine slice notation with multiple indices."
   ]
  },
  {
   "cell_type": "code",
   "execution_count": null,
   "id": "029b0199",
   "metadata": {},
   "outputs": [],
   "source": []
  },
  {
   "cell_type": "markdown",
   "id": "ab73bf2b",
   "metadata": {},
   "source": [
    "Slices return **views**, not copies."
   ]
  },
  {
   "cell_type": "code",
   "execution_count": null,
   "id": "c76bb2e5",
   "metadata": {},
   "outputs": [],
   "source": []
  },
  {
   "cell_type": "markdown",
   "id": "49c53103",
   "metadata": {},
   "source": [
    "## Equality and bool\n",
    "\n",
    "`.all()` checks if an array of booleans is all `True`."
   ]
  },
  {
   "cell_type": "code",
   "execution_count": null,
   "id": "986dedb8",
   "metadata": {},
   "outputs": [],
   "source": []
  },
  {
   "cell_type": "markdown",
   "id": "bb914bb5",
   "metadata": {},
   "source": [
    "## Ufuncs\n",
    "\n",
    "Functions that automatically apply to each entry in an array."
   ]
  },
  {
   "cell_type": "markdown",
   "id": "f816ad3b",
   "metadata": {},
   "source": [
    "### Some arrays to operate on"
   ]
  },
  {
   "cell_type": "code",
   "execution_count": null,
   "id": "7eb1e281",
   "metadata": {},
   "outputs": [],
   "source": []
  },
  {
   "cell_type": "markdown",
   "id": "99440cd0",
   "metadata": {},
   "source": [
    "### Examples of numpy ufuncs"
   ]
  },
  {
   "cell_type": "code",
   "execution_count": null,
   "id": "8dc4ab1f",
   "metadata": {},
   "outputs": [],
   "source": []
  },
  {
   "cell_type": "markdown",
   "id": "5750b807",
   "metadata": {},
   "source": [
    "Let $f(x) = 3x^2 - 8x + 14$.  Apply $f$ to each element of array `v`."
   ]
  },
  {
   "cell_type": "code",
   "execution_count": null,
   "id": "620c757a",
   "metadata": {},
   "outputs": [],
   "source": []
  },
  {
   "cell_type": "markdown",
   "id": "f86a385f",
   "metadata": {},
   "source": [
    "## Broadcasting"
   ]
  },
  {
   "cell_type": "code",
   "execution_count": null,
   "id": "c7837f69",
   "metadata": {},
   "outputs": [],
   "source": []
  },
  {
   "cell_type": "markdown",
   "id": "dd2318f3",
   "metadata": {},
   "source": [
    "## Aggregations\n",
    "\n",
    "`sum`, `max`, `min`, `argmax`, `argmin`, `mean`, `all`, `any`, `array_equal`"
   ]
  },
  {
   "cell_type": "code",
   "execution_count": null,
   "id": "72eb3e0c",
   "metadata": {},
   "outputs": [],
   "source": []
  },
  {
   "cell_type": "markdown",
   "id": "08858554",
   "metadata": {},
   "source": [
    "## Masks"
   ]
  },
  {
   "cell_type": "code",
   "execution_count": null,
   "id": "1390ac88",
   "metadata": {},
   "outputs": [],
   "source": []
  },
  {
   "cell_type": "markdown",
   "id": "9909646e",
   "metadata": {},
   "source": [
    "## Pillow integration\n",
    "\n",
    "* `np.array(img)` just works, if `img` is a `PIL.Image` object\n",
    "* Use `PIL.Image.fromarray(A)` to make an image from an array\n",
    "    * Shape `(height,width)` and dtype `uint8` for grayscale\n",
    "    * Shape `(height,width,3)` and dtype `uint8` for color (last axis is red, green, blue)"
   ]
  },
  {
   "cell_type": "code",
   "execution_count": null,
   "id": "9c9a0e35",
   "metadata": {},
   "outputs": [],
   "source": []
  }
 ],
 "metadata": {
  "kernelspec": {
   "display_name": "Python 3 (ipykernel)",
   "language": "python",
   "name": "python3"
  },
  "language_info": {
   "codemirror_mode": {
    "name": "ipython",
    "version": 3
   },
   "file_extension": ".py",
   "mimetype": "text/x-python",
   "name": "python",
   "nbconvert_exporter": "python",
   "pygments_lexer": "ipython3",
   "version": "3.10.12"
  }
 },
 "nbformat": 4,
 "nbformat_minor": 5
}
