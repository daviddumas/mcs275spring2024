{
 "cells": [
  {
   "cell_type": "markdown",
   "id": "44ce48f2",
   "metadata": {},
   "source": [
    "# Working with CSV and JSON in Python"
   ]
  },
  {
   "cell_type": "markdown",
   "id": "b8bcf729",
   "metadata": {},
   "source": [
    "## CSV"
   ]
  },
  {
   "cell_type": "code",
   "execution_count": 2,
   "id": "f8a204f0",
   "metadata": {},
   "outputs": [],
   "source": [
    "import csv"
   ]
  },
  {
   "cell_type": "markdown",
   "id": "77265f5b",
   "metadata": {},
   "source": [
    "### Read a CSV file"
   ]
  },
  {
   "cell_type": "code",
   "execution_count": 3,
   "id": "d124e4ce",
   "metadata": {},
   "outputs": [
    {
     "name": "stdout",
     "output_type": "stream",
     "text": [
      "Found a row for a facility with area:  6769.0\n",
      "Found a row for a facility with area:  13764.0\n",
      "Found a row for a facility with area:  1413.0\n",
      "Found a row for a facility with area:  35637.0\n",
      "Found a row for a facility with area:  32629.0\n",
      "Found a row for a facility with area:  3290.0\n",
      "Found a row for a facility with area:  9452.0\n",
      "Found a row for a facility with area:  16137.0\n",
      "Found a row for a facility with area:  49535.0\n",
      "Found a row for a facility with area:  12048.0\n",
      "Found a row for a facility with area:  39677.0\n",
      "Found a row for a facility with area:  39677.0\n",
      "Found a row for a facility with area:  6085.0\n",
      "Found a row for a facility with area:  17034.0\n",
      "Found a row for a facility with area:  10733.0\n",
      "Found a row for a facility with area:  384113.0\n",
      "Found a row for a facility with area:  384113.0\n",
      "Found a row for a facility with area:  384113.0\n",
      "Found a row for a facility with area:  384113.0\n",
      "Found a row for a facility with area:  31358.0\n",
      "Found a row for a facility with area:  6408.0\n",
      "Found a row for a facility with area:  9484.0\n",
      "Found a row for a facility with area:  6097.0\n",
      "Found a row for a facility with area:  10131.0\n",
      "Found a row for a facility with area:  17482.0\n",
      "Found a row for a facility with area:  8448.0\n",
      "Found a row for a facility with area:  14236.0\n",
      "Found a row for a facility with area:  34476.0\n",
      "Found a row for a facility with area:  34476.0\n"
     ]
    }
   ],
   "source": [
    "areas = []\n",
    "with open(\"example_ri_usps.csv\",\"r\",newline=\"\",encoding=\"UTF-8\") as fp:\n",
    "    # now the file is open\n",
    "    reader = csv.DictReader(fp)\n",
    "    # reader is an iterable, so you typically use in for loop\n",
    "    for row in reader:\n",
    "        # row[column_name] gets the data in that row for a given column\n",
    "        # Here the column value is a string that represents a float, but it has\n",
    "        # commas in it (which we delete to allow conversion to float)\n",
    "        print(\"Found a row for a facility with area: \",float(row[\"Int Sq Ft\"].replace(\",\",\"\")))"
   ]
  },
  {
   "cell_type": "markdown",
   "id": "4623cdec",
   "metadata": {},
   "source": [
    "## Grab all the data in one pass"
   ]
  },
  {
   "cell_type": "code",
   "execution_count": 4,
   "id": "e53cb6ca",
   "metadata": {},
   "outputs": [],
   "source": [
    "\n",
    "ri_data = []\n",
    "with open(\"example_ri_usps.csv\",\"r\",newline=\"\",encoding=\"UTF-8\") as fp:\n",
    "    # now the file is open\n",
    "    reader = csv.DictReader(fp)\n",
    "    # reader is an iterable, so you typically use in for loop\n",
    "    for row in reader:\n",
    "        ri_data.append(row)"
   ]
  },
  {
   "cell_type": "markdown",
   "id": "e2801d65",
   "metadata": {},
   "source": [
    "Shorter and more idiomatic way: You can pass any iterable object to `list` to fetch all values and put them in a list.  Here, the objects given by `reader` are rows of data."
   ]
  },
  {
   "cell_type": "code",
   "execution_count": 6,
   "id": "22dbbcf3",
   "metadata": {},
   "outputs": [],
   "source": [
    "with open(\"example_ri_usps.csv\",\"r\",newline=\"\",encoding=\"UTF-8\") as fp:\n",
    "    reader = csv.DictReader(fp)\n",
    "    data = list(reader)  # fetch every row, put them in a list"
   ]
  },
  {
   "cell_type": "markdown",
   "id": "9a2fd993",
   "metadata": {},
   "source": [
    "Now data is a list of dictionaries, each having columns of the CSV file as keys.  What keys are present?"
   ]
  },
  {
   "cell_type": "code",
   "execution_count": 8,
   "id": "06161182",
   "metadata": {},
   "outputs": [
    {
     "name": "stdout",
     "output_type": "stream",
     "text": [
      "District\n",
      "Fin-Sub\n",
      "Chrgbl Fin No\n",
      "PO Name\n",
      "Unit Name\n",
      "Property Address\n",
      "County\n",
      "City\n",
      "ST\n",
      "ZIP Code\n",
      "Property Status\n",
      "Ownership\n",
      "FDB ID (All)\n",
      "AMS Locale Key (All)\n",
      "FDB Facility Type (All)\n",
      "FDB Facility Subtype (All)\n",
      "Building Ownership Description\n",
      "Land Desc\n",
      "Space Certified Indicator\n",
      "Bldg Occu Date\n",
      "Int Sq Ft\n"
     ]
    }
   ],
   "source": [
    "for k in data[0].keys():\n",
    "    print(k)"
   ]
  },
  {
   "cell_type": "markdown",
   "id": "3135e1a5",
   "metadata": {},
   "source": [
    "### Answering a question about the data\n",
    "\n",
    "How many different zip codes appear?"
   ]
  },
  {
   "cell_type": "code",
   "execution_count": 9,
   "id": "b94f61b5",
   "metadata": {},
   "outputs": [
    {
     "data": {
      "text/plain": [
       "24"
      ]
     },
     "execution_count": 9,
     "metadata": {},
     "output_type": "execute_result"
    }
   ],
   "source": [
    "len(set( [ facility[\"ZIP Code\"] for facility in data ]))"
   ]
  },
  {
   "cell_type": "markdown",
   "id": "f97ffcee",
   "metadata": {},
   "source": [
    "List all the zip codes that appear, and how many facilities are in each one."
   ]
  },
  {
   "cell_type": "code",
   "execution_count": 12,
   "id": "577dad63",
   "metadata": {},
   "outputs": [
    {
     "name": "stdout",
     "output_type": "stream",
     "text": [
      "ZIP 02904-2477 has 4 facilities\n",
      "ZIP 02904-9722 has 2 facilities\n",
      "ZIP 02895-9998 has 2 facilities\n",
      "ZIP 02806-9998 has 1 facilities\n",
      "ZIP 02816-9998 has 1 facilities\n",
      "ZIP 02830-9998 has 1 facilities\n",
      "ZIP 02840-9998 has 1 facilities\n",
      "ZIP 02852-9998 has 1 facilities\n",
      "ZIP 02859-3132 has 1 facilities\n",
      "ZIP 02864-9998 has 1 facilities\n",
      "ZIP 02861-3810 has 1 facilities\n",
      "ZIP 02860-9998 has 1 facilities\n",
      "ZIP 02871-9998 has 1 facilities\n",
      "ZIP 02914-4506 has 1 facilities\n",
      "ZIP 02919-9998 has 1 facilities\n",
      "ZIP 02909-9998 has 1 facilities\n",
      "ZIP 02879-9998 has 1 facilities\n",
      "ZIP 02882-3391 has 1 facilities\n",
      "ZIP 02885-9998 has 1 facilities\n",
      "ZIP 02886-7157 has 1 facilities\n",
      "ZIP 02886-7141 has 1 facilities\n",
      "ZIP 02893-9998 has 1 facilities\n",
      "ZIP 02891-1878 has 1 facilities\n",
      "ZIP 02891-9998 has 1 facilities\n"
     ]
    }
   ],
   "source": [
    "import collections\n",
    "\n",
    "zip_hist = collections.defaultdict(int)\n",
    "for facility in data:\n",
    "    zip_hist[facility[\"ZIP Code\"]]+=1\n",
    "\n",
    "# you can repalace sorter(zip_hist,...) with just zip_hist if\n",
    "# you don't care about order\n",
    "for z in sorted(zip_hist,key=lambda z:zip_hist[z],reverse=True):\n",
    "    print(\"ZIP {} has {} facilities\".format(z,zip_hist[z]))"
   ]
  },
  {
   "cell_type": "markdown",
   "id": "d5107fab",
   "metadata": {},
   "source": [
    "## Write a CSV file"
   ]
  },
  {
   "cell_type": "code",
   "execution_count": 13,
   "id": "448865c5",
   "metadata": {},
   "outputs": [],
   "source": [
    "with open(\"courses.csv\",\"w\",newline=\"\",encoding=\"UTF-8\") as fp:\n",
    "    w = csv.DictWriter(fp, fieldnames=[\"course\",\"instructor\"])  # sets column names AND ORDER\n",
    "    # Write the column headers -- must do this!\n",
    "    w.writeheader()\n",
    "    # Now write the rows of data\n",
    "    w.writerow({\"course\": \"MCS 260\",\n",
    "                \"instructor\": \"Dumas\"})\n",
    "    w.writerow({\"instructor\": \"Dumas\", \"course\": \"MCS 275\"}) # order doesn't matter here"
   ]
  },
  {
   "cell_type": "markdown",
   "id": "c61bcfe4",
   "metadata": {},
   "source": [
    "## JSON"
   ]
  },
  {
   "cell_type": "code",
   "execution_count": 14,
   "id": "073ea209",
   "metadata": {},
   "outputs": [],
   "source": [
    "import json"
   ]
  },
  {
   "cell_type": "markdown",
   "id": "c69875fc",
   "metadata": {},
   "source": [
    "## Read a JSON file\n",
    "\n",
    "Always get a single object back; often a dictionary with lots of stuff in it"
   ]
  },
  {
   "cell_type": "code",
   "execution_count": 15,
   "id": "371e5cce",
   "metadata": {},
   "outputs": [],
   "source": [
    "with open(\"example_il_newsfeed.json\",\"r\",encoding=\"UTF-8\") as fp:\n",
    "    data = json.load(fp)  # this one line reads the entire file"
   ]
  },
  {
   "cell_type": "code",
   "execution_count": 16,
   "id": "be90f228",
   "metadata": {},
   "outputs": [
    {
     "data": {
      "text/plain": [
       "{'newsFeedItemList': [{'title': 'Illinois Ranks #2 State in the Nation for Corporate Investment ',\n",
       "   'type': 'Press Release',\n",
       "   'date': 'Wednesday, March 01',\n",
       "   'year': '2023',\n",
       "   'description': 'CHICAGO — Site Selection Magazine – an international industry-leading business publication -- released its annual corporate expansion and relocation rankings, naming Illinois 2nd in the nation for corporate projects and Chicago the Top Metro for the 10th year in a row.',\n",
       "   'thumbnail': 'https://www2.illinois.gov/IISNewsImages/rollupimages/GOV/govlogo.jpg',\n",
       "   'url': 'https://www.illinois.gov/news/press-release.26121.html',\n",
       "   'altText': ''},\n",
       "  {'title': 'State of Illinois Launches Coalition in Effort to Eliminate Viral Hepatitis in Illinois ',\n",
       "   'type': 'Press Release',\n",
       "   'date': 'Tuesday, February 28',\n",
       "   'year': '2023',\n",
       "   'description': 'CHICAGO – The Illinois Department of Public Health (IDPH) launched a new effort today to eliminate viral hepatitis in Illinois.',\n",
       "   'thumbnail': 'https://www2.illinois.gov/IISNewsImages/rollupimages/DPH/IDPHlogo.jpg',\n",
       "   'url': 'https://www.illinois.gov/news/press-release.26117.html',\n",
       "   'altText': ''},\n",
       "  {'title': 'ILLINOIS LT. GOV. JULIANA STRATTON TESTIFIES AT U.S. SENATE HEARING ON THE EQUAL RIGHTS AMENDMENT',\n",
       "   'type': 'Press Release',\n",
       "   'date': 'Tuesday, February 28',\n",
       "   'year': '2023',\n",
       "   'description': 'WASHINGTON – The journey to equality must push forward.',\n",
       "   'thumbnail': 'https://www2.illinois.gov/IISNewsImages/rollupimages/LtGov/LtGovLogo.jpg',\n",
       "   'url': 'https://www.illinois.gov/news/press-release.26119.html',\n",
       "   'altText': ''}]}"
      ]
     },
     "execution_count": 16,
     "metadata": {},
     "output_type": "execute_result"
    }
   ],
   "source": [
    "data"
   ]
  },
  {
   "cell_type": "markdown",
   "id": "798ff8ea",
   "metadata": {},
   "source": [
    "### Drilling down into the data from a JSON file to explore structure"
   ]
  },
  {
   "cell_type": "code",
   "execution_count": 6,
   "id": "21c23b80",
   "metadata": {},
   "outputs": [
    {
     "data": {
      "text/plain": [
       "dict"
      ]
     },
     "execution_count": 6,
     "metadata": {},
     "output_type": "execute_result"
    }
   ],
   "source": [
    "type(data)"
   ]
  },
  {
   "cell_type": "code",
   "execution_count": 7,
   "id": "e80baa24",
   "metadata": {},
   "outputs": [
    {
     "data": {
      "text/plain": [
       "dict_keys(['newsFeedItemList'])"
      ]
     },
     "execution_count": 7,
     "metadata": {},
     "output_type": "execute_result"
    }
   ],
   "source": [
    "data.keys()"
   ]
  },
  {
   "cell_type": "code",
   "execution_count": 8,
   "id": "2ff6ce72",
   "metadata": {},
   "outputs": [],
   "source": [
    "newsitems = data[\"newsFeedItemList\"]"
   ]
  },
  {
   "cell_type": "code",
   "execution_count": 9,
   "id": "61ca0935",
   "metadata": {},
   "outputs": [
    {
     "data": {
      "text/plain": [
       "list"
      ]
     },
     "execution_count": 9,
     "metadata": {},
     "output_type": "execute_result"
    }
   ],
   "source": [
    "type(newsitems)"
   ]
  },
  {
   "cell_type": "code",
   "execution_count": 10,
   "id": "d1e109e2",
   "metadata": {},
   "outputs": [
    {
     "data": {
      "text/plain": [
       "3"
      ]
     },
     "execution_count": 10,
     "metadata": {},
     "output_type": "execute_result"
    }
   ],
   "source": [
    "len(newsitems)"
   ]
  },
  {
   "cell_type": "code",
   "execution_count": 11,
   "id": "b6ef7527",
   "metadata": {},
   "outputs": [
    {
     "data": {
      "text/plain": [
       "{'title': 'Illinois Ranks #2 State in the Nation for Corporate Investment ',\n",
       " 'type': 'Press Release',\n",
       " 'date': 'Wednesday, March 01',\n",
       " 'year': '2023',\n",
       " 'description': 'CHICAGO — Site Selection Magazine – an international industry-leading business publication -- released its annual corporate expansion and relocation rankings, naming Illinois 2nd in the nation for corporate projects and Chicago the Top Metro for the 10th year in a row.',\n",
       " 'thumbnail': 'https://www2.illinois.gov/IISNewsImages/rollupimages/GOV/govlogo.jpg',\n",
       " 'url': 'https://www.illinois.gov/news/press-release.26121.html',\n",
       " 'altText': ''}"
      ]
     },
     "execution_count": 11,
     "metadata": {},
     "output_type": "execute_result"
    }
   ],
   "source": [
    "newsitems[0]  # first news story"
   ]
  },
  {
   "cell_type": "markdown",
   "id": "1af79110",
   "metadata": {},
   "source": [
    "### All titles of news items"
   ]
  },
  {
   "cell_type": "code",
   "execution_count": 12,
   "id": "23c8bbde",
   "metadata": {},
   "outputs": [
    {
     "name": "stdout",
     "output_type": "stream",
     "text": [
      "Illinois Ranks #2 State in the Nation for Corporate Investment \n",
      "State of Illinois Launches Coalition in Effort to Eliminate Viral Hepatitis in Illinois \n",
      "ILLINOIS LT. GOV. JULIANA STRATTON TESTIFIES AT U.S. SENATE HEARING ON THE EQUAL RIGHTS AMENDMENT\n"
     ]
    }
   ],
   "source": [
    "for x in data[\"newsFeedItemList\"]:\n",
    "    print(x[\"title\"])"
   ]
  },
  {
   "cell_type": "markdown",
   "id": "b653751e",
   "metadata": {},
   "source": [
    "### Writing JSON files"
   ]
  },
  {
   "cell_type": "markdown",
   "id": "6528bd6f",
   "metadata": {},
   "source": [
    "A dictionary to be written to a JSON file must have all keys of type `str` (string).  The following dictionary is valid Python but you can't write it to a JSON file (or if you do, reading it back will give you something different)."
   ]
  },
  {
   "cell_type": "code",
   "execution_count": 17,
   "id": "7d0ab17b",
   "metadata": {},
   "outputs": [],
   "source": [
    "d = {\n",
    "    1: \"hello\",\n",
    "    False: \"information\",\n",
    "    \"what\": None,\n",
    "}"
   ]
  },
  {
   "cell_type": "markdown",
   "id": "7e5189ce",
   "metadata": {},
   "source": [
    "Let's write a dictionary with string keys to a file."
   ]
  },
  {
   "cell_type": "code",
   "execution_count": 18,
   "id": "f59a63c2",
   "metadata": {},
   "outputs": [],
   "source": [
    "val = { \n",
    "        \"temperature\": 451.3,\n",
    "        \"primes\": [2,3,5,7,11],\n",
    "        \"awesome\": True,\n",
    "        \"starter\": \"charmander\",\n",
    "        \"enthusiasm\": None,\n",
    "}\n",
    "with open(\"out.json\",\"w\",encoding=\"UTF-8\") as fp:\n",
    "    json.dump(val,fp) # save exactly one object to file"
   ]
  },
  {
   "cell_type": "code",
   "execution_count": 19,
   "id": "4171d848",
   "metadata": {},
   "outputs": [],
   "source": [
    "# Now we read it back\n",
    "with open(\"out.json\",\"r\",encoding=\"UTF-8\") as fp:\n",
    "    val_read = json.load(fp)"
   ]
  },
  {
   "cell_type": "code",
   "execution_count": 20,
   "id": "d65379c8",
   "metadata": {},
   "outputs": [
    {
     "data": {
      "text/plain": [
       "{'temperature': 451.3,\n",
       " 'primes': [2, 3, 5, 7, 11],\n",
       " 'awesome': True,\n",
       " 'starter': 'charmander',\n",
       " 'enthusiasm': None}"
      ]
     },
     "execution_count": 20,
     "metadata": {},
     "output_type": "execute_result"
    }
   ],
   "source": [
    "val_read  # what did we get back?"
   ]
  },
  {
   "cell_type": "code",
   "execution_count": 21,
   "id": "b345d512",
   "metadata": {},
   "outputs": [
    {
     "data": {
      "text/plain": [
       "{'temperature': 451.3,\n",
       " 'primes': [2, 3, 5, 7, 11],\n",
       " 'awesome': True,\n",
       " 'starter': 'charmander',\n",
       " 'enthusiasm': None}"
      ]
     },
     "execution_count": 21,
     "metadata": {},
     "output_type": "execute_result"
    }
   ],
   "source": [
    "val # what did we write?"
   ]
  },
  {
   "cell_type": "markdown",
   "id": "f689858a",
   "metadata": {},
   "source": [
    "Are these equal?"
   ]
  },
  {
   "cell_type": "code",
   "execution_count": 23,
   "id": "7a25f08b",
   "metadata": {},
   "outputs": [
    {
     "data": {
      "text/plain": [
       "True"
      ]
     },
     "execution_count": 23,
     "metadata": {},
     "output_type": "execute_result"
    }
   ],
   "source": [
    "val_read == val  # dict comparison checks `==` for keys and values"
   ]
  },
  {
   "cell_type": "markdown",
   "id": "59da53e8",
   "metadata": {},
   "source": [
    "These agree, types and all!  Think of JSON as a format that can, in many cases, save a Python object to a file that:\n",
    "1. Lets the same or another Python program get the object back from\n",
    "1. Is readable in many other programming languages"
   ]
  }
 ],
 "metadata": {
  "kernelspec": {
   "display_name": "Python 3 (ipykernel)",
   "language": "python",
   "name": "python3"
  },
  "language_info": {
   "codemirror_mode": {
    "name": "ipython",
    "version": 3
   },
   "file_extension": ".py",
   "mimetype": "text/x-python",
   "name": "python",
   "nbconvert_exporter": "python",
   "pygments_lexer": "ipython3",
   "version": "3.10.12"
  }
 },
 "nbformat": 4,
 "nbformat_minor": 5
}
